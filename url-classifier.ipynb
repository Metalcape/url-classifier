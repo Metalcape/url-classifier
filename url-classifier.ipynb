{
 "cells": [
  {
   "attachments": {},
   "cell_type": "markdown",
   "metadata": {},
   "source": [
    "# Detecting malicious URLs\n",
    "Some introduction...\n",
    "\n",
    "## Data exploration and cleaning"
   ]
  },
  {
   "attachments": {},
   "cell_type": "markdown",
   "metadata": {},
   "source": [
    "### General dataset information"
   ]
  },
  {
   "cell_type": "code",
   "execution_count": 252,
   "metadata": {},
   "outputs": [],
   "source": [
    "DATASET_PATH = 'datasets/malicious_urls.csv'"
   ]
  },
  {
   "cell_type": "code",
   "execution_count": 253,
   "metadata": {},
   "outputs": [
    {
     "name": "stdout",
     "output_type": "stream",
     "text": [
      "<class 'pandas.core.frame.DataFrame'>\n",
      "RangeIndex: 651191 entries, 0 to 651190\n",
      "Data columns (total 2 columns):\n",
      " #   Column  Non-Null Count   Dtype \n",
      "---  ------  --------------   ----- \n",
      " 0   url     651191 non-null  object\n",
      " 1   type    651191 non-null  object\n",
      "dtypes: object(2)\n",
      "memory usage: 9.9+ MB\n"
     ]
    }
   ],
   "source": [
    "import pandas as pd\n",
    "import numpy as np\n",
    "\n",
    "df = pd.read_csv(DATASET_PATH)\n",
    "df.info()"
   ]
  },
  {
   "cell_type": "code",
   "execution_count": 254,
   "metadata": {},
   "outputs": [
    {
     "data": {
      "text/html": [
       "<div>\n",
       "<style scoped>\n",
       "    .dataframe tbody tr th:only-of-type {\n",
       "        vertical-align: middle;\n",
       "    }\n",
       "\n",
       "    .dataframe tbody tr th {\n",
       "        vertical-align: top;\n",
       "    }\n",
       "\n",
       "    .dataframe thead th {\n",
       "        text-align: right;\n",
       "    }\n",
       "</style>\n",
       "<table border=\"1\" class=\"dataframe\">\n",
       "  <thead>\n",
       "    <tr style=\"text-align: right;\">\n",
       "      <th></th>\n",
       "      <th>url</th>\n",
       "      <th>type</th>\n",
       "    </tr>\n",
       "  </thead>\n",
       "  <tbody>\n",
       "    <tr>\n",
       "      <th>count</th>\n",
       "      <td>651191</td>\n",
       "      <td>651191</td>\n",
       "    </tr>\n",
       "    <tr>\n",
       "      <th>unique</th>\n",
       "      <td>641119</td>\n",
       "      <td>4</td>\n",
       "    </tr>\n",
       "    <tr>\n",
       "      <th>top</th>\n",
       "      <td>http://style.org.hc360.com/css/detail/mysite/s...</td>\n",
       "      <td>benign</td>\n",
       "    </tr>\n",
       "    <tr>\n",
       "      <th>freq</th>\n",
       "      <td>180</td>\n",
       "      <td>428103</td>\n",
       "    </tr>\n",
       "  </tbody>\n",
       "</table>\n",
       "</div>"
      ],
      "text/plain": [
       "                                                      url    type\n",
       "count                                              651191  651191\n",
       "unique                                             641119       4\n",
       "top     http://style.org.hc360.com/css/detail/mysite/s...  benign\n",
       "freq                                                  180  428103"
      ]
     },
     "execution_count": 254,
     "metadata": {},
     "output_type": "execute_result"
    }
   ],
   "source": [
    "df.describe()"
   ]
  },
  {
   "cell_type": "code",
   "execution_count": 255,
   "metadata": {},
   "outputs": [
    {
     "data": {
      "text/plain": [
       "benign        428103\n",
       "defacement     96457\n",
       "phishing       94111\n",
       "malware        32520\n",
       "Name: type, dtype: int64"
      ]
     },
     "execution_count": 255,
     "metadata": {},
     "output_type": "execute_result"
    }
   ],
   "source": [
    "df.type.value_counts()"
   ]
  },
  {
   "cell_type": "code",
   "execution_count": 256,
   "metadata": {},
   "outputs": [
    {
     "data": {
      "text/plain": [
       "benign        428074\n",
       "defacement     95308\n",
       "phishing       94092\n",
       "malware        23645\n",
       "Name: type, dtype: int64"
      ]
     },
     "execution_count": 256,
     "metadata": {},
     "output_type": "execute_result"
    }
   ],
   "source": [
    "# Remove duplicates\n",
    "df.drop_duplicates(inplace=True, subset=['url'], keep='last')\n",
    "count = df.type.value_counts()\n",
    "count"
   ]
  },
  {
   "cell_type": "code",
   "execution_count": 257,
   "metadata": {},
   "outputs": [
    {
     "data": {
      "image/png": "[encoded data removed]",
      "text/plain": [
       "<Figure size 640x480 with 1 Axes>"
      ]
     },
     "metadata": {},
     "output_type": "display_data"
    }
   ],
   "source": [
    "import matplotlib.pyplot as plt\n",
    "count.plot.bar()\n",
    "plt.xticks(rotation=0)\n",
    "plt.xlabel(\"category\")\n",
    "plt.ylabel(\"count\")\n",
    "plt.show()"
   ]
  },
  {
   "attachments": {},
   "cell_type": "markdown",
   "metadata": {},
   "source": [
    "### Character encoding"
   ]
  },
  {
   "cell_type": "code",
   "execution_count": 258,
   "metadata": {},
   "outputs": [],
   "source": [
    "# Detect character encoding\n",
    "import chardet\n",
    "\n",
    "encodings = df['url'].apply(lambda x: chardet.detect(str(x).encode('utf-8')))\n",
    "df['encoding'] = encodings.apply(lambda x: x['encoding'])\n",
    "df['enc_confidence'] = encodings.apply(lambda x: x['confidence'])"
   ]
  },
  {
   "cell_type": "code",
   "execution_count": 259,
   "metadata": {},
   "outputs": [
    {
     "data": {
      "image/png": "[encoded data removed]",
      "text/plain": [
       "<Figure size 640x480 with 1 Axes>"
      ]
     },
     "metadata": {},
     "output_type": "display_data"
    }
   ],
   "source": [
    "enc_df = pd.DataFrame(df[['encoding', 'enc_confidence']])\n",
    "enc_df['encoding'] = enc_df['encoding'].apply(lambda x: str(x))\n",
    "enc_df.drop(enc_df[enc_df.encoding == 'None'].index, inplace=True)\n",
    "enc_df.plot.scatter(y = 'encoding', x = 'enc_confidence')\n",
    " \n",
    "plt.show()"
   ]
  },
  {
   "cell_type": "code",
   "execution_count": 260,
   "metadata": {},
   "outputs": [
    {
     "data": {
      "text/html": [
       "<div>\n",
       "<style scoped>\n",
       "    .dataframe tbody tr th:only-of-type {\n",
       "        vertical-align: middle;\n",
       "    }\n",
       "\n",
       "    .dataframe tbody tr th {\n",
       "        vertical-align: top;\n",
       "    }\n",
       "\n",
       "    .dataframe thead th {\n",
       "        text-align: right;\n",
       "    }\n",
       "</style>\n",
       "<table border=\"1\" class=\"dataframe\">\n",
       "  <thead>\n",
       "    <tr style=\"text-align: right;\">\n",
       "      <th></th>\n",
       "      <th>url</th>\n",
       "      <th>type</th>\n",
       "      <th>encoding</th>\n",
       "      <th>enc_confidence</th>\n",
       "    </tr>\n",
       "  </thead>\n",
       "  <tbody>\n",
       "    <tr>\n",
       "      <th>4491</th>\n",
       "      <td>citizendia.org/Agence_métropolitaine_de_transport</td>\n",
       "      <td>benign</td>\n",
       "      <td>ISO-8859-9</td>\n",
       "      <td>0.629187</td>\n",
       "    </tr>\n",
       "    <tr>\n",
       "      <th>7564</th>\n",
       "      <td>wn.com/HYMNE_NATIONAL_DU_QUÉBEC</td>\n",
       "      <td>benign</td>\n",
       "      <td>Windows-1252</td>\n",
       "      <td>0.730000</td>\n",
       "    </tr>\n",
       "    <tr>\n",
       "      <th>8116</th>\n",
       "      <td>forum.verygames.net/showthread.php?42812-Probl...</td>\n",
       "      <td>benign</td>\n",
       "      <td>MacRoman</td>\n",
       "      <td>0.635195</td>\n",
       "    </tr>\n",
       "    <tr>\n",
       "      <th>14053</th>\n",
       "      <td>dictionary.sensagent.com/jehane+benoît/fr-fr/</td>\n",
       "      <td>benign</td>\n",
       "      <td>ISO-8859-9</td>\n",
       "      <td>0.682751</td>\n",
       "    </tr>\n",
       "    <tr>\n",
       "      <th>14853</th>\n",
       "      <td>dictionary.sensagent.com/université+de+sherbro...</td>\n",
       "      <td>benign</td>\n",
       "      <td>MacRoman</td>\n",
       "      <td>0.621045</td>\n",
       "    </tr>\n",
       "    <tr>\n",
       "      <th>...</th>\n",
       "      <td>...</td>\n",
       "      <td>...</td>\n",
       "      <td>...</td>\n",
       "      <td>...</td>\n",
       "    </tr>\n",
       "    <tr>\n",
       "      <th>573492</th>\n",
       "      <td>ÆÖY\u0013'uEd\u001b\u001a\u000eS*Z\u0001£\u0012ñ&gt;7ñV\\pìnY\u0002÷¡ß¬á'×\u0006\u0004?...</td>\n",
       "      <td>phishing</td>\n",
       "      <td>TIS-620</td>\n",
       "      <td>0.210592</td>\n",
       "    </tr>\n",
       "    <tr>\n",
       "      <th>573495</th>\n",
       "      <td>\u0006ùAyéTôDpFc~\bh@^¶\\øâèû¥ÊÞG·ê(Tøì\u0019\\0«Y=D\u001a\u001d...</td>\n",
       "      <td>phishing</td>\n",
       "      <td>None</td>\n",
       "      <td>0.000000</td>\n",
       "    </tr>\n",
       "    <tr>\n",
       "      <th>573499</th>\n",
       "      <td>=Rã\u000fmôj³{è!ÀM¶6&lt;N&gt;w¼Cf\u0011£]\u001b4ÍnÝÌ</td>\n",
       "      <td>phishing</td>\n",
       "      <td>None</td>\n",
       "      <td>0.000000</td>\n",
       "    </tr>\n",
       "    <tr>\n",
       "      <th>573507</th>\n",
       "      <td>«Dü\béºþ +\u001bZIdN\u001cÖ-\u0015lh9L©h\u0006DKÄúhßÆ%YqÃ±¹d</td>\n",
       "      <td>phishing</td>\n",
       "      <td>None</td>\n",
       "      <td>0.000000</td>\n",
       "    </tr>\n",
       "    <tr>\n",
       "      <th>573508</th>\n",
       "      <td>\u001bÞ~³\\\u001a(\u0010ÿÇ½Jú$Xm\u001e £\u0015ÜëÃ\u00025{¾kÜãCê_QÊ©BÇÈc2...</td>\n",
       "      <td>phishing</td>\n",
       "      <td>None</td>\n",
       "      <td>0.000000</td>\n",
       "    </tr>\n",
       "  </tbody>\n",
       "</table>\n",
       "<p>265 rows × 4 columns</p>\n",
       "</div>"
      ],
      "text/plain": [
       "                                                      url      type  \\\n",
       "4491    citizendia.org/Agence_métropolitaine_de_transport    benign   \n",
       "7564                      wn.com/HYMNE_NATIONAL_DU_QUÉBEC    benign   \n",
       "8116    forum.verygames.net/showthread.php?42812-Probl...    benign   \n",
       "14053       dictionary.sensagent.com/jehane+benoît/fr-fr/    benign   \n",
       "14853   dictionary.sensagent.com/université+de+sherbro...    benign   \n",
       "...                                                   ...       ...   \n",
       "573492  ÆÖY\u0013'uEd\u001b\u001a\u000eS*Z\u0001£\u0012ñ>7ñV\\pìnY\u0002÷¡ß¬á'×\u0006\u0004?...  phishing   \n",
       "573495  \u0006ùAyéTôDpFc~\bh@^¶\\øâèû¥ÊÞG·ê(Tøì\u0019\\0«Y=D\u001a\n",
       "...  phishing   \n",
       "573499            =Rã\u000fmôj³{è!ÀM¶6<N>w\n",
       "¼Cf\u0011£]\u001b4ÍnÝÌ  phishing   \n",
       "573507        «Dü\béºþ +\u001bZIdN\n",
       "Ö-\u0015lh9L©h\u0006DKÄúhßÆ%YqÃ±¹d  phishing   \n",
       "573508  \u001bÞ~³\\\u001a(\u0010ÿÇ½Jú$Xm\n",
       " £\u0015ÜëÃ\u00025{¾kÜãCê_QÊ©B\n",
       "ÇÈc2...  phishing   \n",
       "\n",
       "            encoding  enc_confidence  \n",
       "4491      ISO-8859-9        0.629187  \n",
       "7564    Windows-1252        0.730000  \n",
       "8116        MacRoman        0.635195  \n",
       "14053     ISO-8859-9        0.682751  \n",
       "14853       MacRoman        0.621045  \n",
       "...              ...             ...  \n",
       "573492       TIS-620        0.210592  \n",
       "573495          None        0.000000  \n",
       "573499          None        0.000000  \n",
       "573507          None        0.000000  \n",
       "573508          None        0.000000  \n",
       "\n",
       "[265 rows x 4 columns]"
      ]
     },
     "execution_count": 260,
     "metadata": {},
     "output_type": "execute_result"
    }
   ],
   "source": [
    "# By trying some queries we observe that there are some URL strings with broken encoding\n",
    "df.query(expr='encoding not in (\"ascii\" , \"utf-8\")')"
   ]
  },
  {
   "cell_type": "code",
   "execution_count": 261,
   "metadata": {},
   "outputs": [
    {
     "data": {
      "text/html": [
       "<div>\n",
       "<style scoped>\n",
       "    .dataframe tbody tr th:only-of-type {\n",
       "        vertical-align: middle;\n",
       "    }\n",
       "\n",
       "    .dataframe tbody tr th {\n",
       "        vertical-align: top;\n",
       "    }\n",
       "\n",
       "    .dataframe thead th {\n",
       "        text-align: right;\n",
       "    }\n",
       "</style>\n",
       "<table border=\"1\" class=\"dataframe\">\n",
       "  <thead>\n",
       "    <tr style=\"text-align: right;\">\n",
       "      <th></th>\n",
       "      <th>url</th>\n",
       "      <th>url_fixed</th>\n",
       "    </tr>\n",
       "  </thead>\n",
       "  <tbody>\n",
       "    <tr>\n",
       "      <th>44274</th>\n",
       "      <td>zoominfo.com/people/de%20GrandprÃ©_Jean_344774...</td>\n",
       "      <td>zoominfo.com/people/de%20Grandpré_Jean_3447745...</td>\n",
       "    </tr>\n",
       "    <tr>\n",
       "      <th>61961</th>\n",
       "      <td>http://www.scsrxx.com/js/?https://secure.runes...</td>\n",
       "      <td>http://www.scsrxx.com/js/?https://secure.runes...</td>\n",
       "    </tr>\n",
       "    <tr>\n",
       "      <th>126643</th>\n",
       "      <td>zoominfo.com/people/Sagan_FranÃƒÆ’Ã‚Â§oise_147...</td>\n",
       "      <td>zoominfo.com/people/Sagan_Françoise_1473040483...</td>\n",
       "    </tr>\n",
       "    <tr>\n",
       "      <th>300255</th>\n",
       "      <td>castroller.com/podcasts/CanaluPodcasts3/128646...</td>\n",
       "      <td>castroller.com/podcasts/CanaluPodcasts3/128646...</td>\n",
       "    </tr>\n",
       "    <tr>\n",
       "      <th>360359</th>\n",
       "      <td>zoominfo.com/people/SÃ©vigny_Danielle_15449882...</td>\n",
       "      <td>zoominfo.com/people/Sévigny_Danielle_154498825...</td>\n",
       "    </tr>\n",
       "    <tr>\n",
       "      <th>...</th>\n",
       "      <td>...</td>\n",
       "      <td>...</td>\n",
       "    </tr>\n",
       "    <tr>\n",
       "      <th>573506</th>\n",
       "      <td>r\f\u001a$Ðc\u0004Yõ</td>\n",
       "      <td>r\f\u001a$Ðc˜‚\u0004Yõ</td>\n",
       "    </tr>\n",
       "    <tr>\n",
       "      <th>573507</th>\n",
       "      <td>«Dü\béºþ +\u001bZIdN\u001cÖ-\u0015lh9L©h\u0006DKÄúhßÆ%YqÃ±¹d</td>\n",
       "      <td>«Dü\b‘éºþ +\u001bZIdN\u001cÖ-\u0015lh9L©h\u0006ŽDKÄúhßÆ%Yqñ¹d</td>\n",
       "    </tr>\n",
       "    <tr>\n",
       "      <th>573508</th>\n",
       "      <td>\u001bÞ~³\\\u001a(\u0010ÿÇ½Jú$Xm\u001e £\u0015ÜëÃ\u00025{¾kÜãCê_QÊ©BÇÈc2...</td>\n",
       "      <td>\u001bއ~³„Ÿ\\\u001a(\u0010ÿǽJú$Xm\u001e £\u0015ÜëÃ\u00025{¾kÜãCê_QÊ©B…ǆÈc2#S...</td>\n",
       "    </tr>\n",
       "    <tr>\n",
       "      <th>573509</th>\n",
       "      <td>ë\u0003Ël×uÏB'JI¨GÙn\"Ç(0</td>\n",
       "      <td>ë\u0003Ël×uÏB'JI¨GÙn\"Ç(…0</td>\n",
       "    </tr>\n",
       "    <tr>\n",
       "      <th>573510</th>\n",
       "      <td>\u0011+Sj\"ô*ôLð®\\tT|JöäÄ2!n</td>\n",
       "      <td>”†\u0011+S–j\"ô*ôLð®\\tT|JöäÄ2!n</td>\n",
       "    </tr>\n",
       "  </tbody>\n",
       "</table>\n",
       "<p>109 rows × 2 columns</p>\n",
       "</div>"
      ],
      "text/plain": [
       "                                                      url  \\\n",
       "44274   zoominfo.com/people/de%20GrandprÃ©_Jean_344774...   \n",
       "61961   http://www.scsrxx.com/js/?https://secure.runes...   \n",
       "126643  zoominfo.com/people/Sagan_FranÃƒÆ’Ã‚Â§oise_147...   \n",
       "300255  castroller.com/podcasts/CanaluPodcasts3/128646...   \n",
       "360359  zoominfo.com/people/SÃ©vigny_Danielle_15449882...   \n",
       "...                                                   ...   \n",
       "573506                                       r\n",
       "\u001a$Ðc\u0004Yõ   \n",
       "573507        «Dü\béºþ +\u001bZIdN\n",
       "Ö-\u0015lh9L©h\u0006DKÄúhßÆ%YqÃ±¹d   \n",
       "573508  \u001bÞ~³\\\u001a(\u0010ÿÇ½Jú$Xm\n",
       " £\u0015ÜëÃ\u00025{¾kÜãCê_QÊ©B\n",
       "ÇÈc2...   \n",
       "573509                               ë\u0003Ël×uÏB'JI¨GÙn\"Ç(\n",
       "0   \n",
       "573510                         \u0011+Sj\"ô*ôLð®\\tT|JöäÄ2!n   \n",
       "\n",
       "                                                url_fixed  \n",
       "44274   zoominfo.com/people/de%20Grandpré_Jean_3447745...  \n",
       "61961   http://www.scsrxx.com/js/?https://secure.runes...  \n",
       "126643  zoominfo.com/people/Sagan_Françoise_1473040483...  \n",
       "300255  castroller.com/podcasts/CanaluPodcasts3/128646...  \n",
       "360359  zoominfo.com/people/Sévigny_Danielle_154498825...  \n",
       "...                                                   ...  \n",
       "573506                                       r\n",
       "\u001a$Ðc˜‚\u0004Yõ  \n",
       "573507         «Dü\b‘éºþ +\u001bZIdN\n",
       "Ö-\u0015lh9L©h\u0006ŽDKÄúhßÆ%Yqñ¹d  \n",
       "573508  \u001bއ~³„Ÿ\\\u001a(\u0010ÿǽJú$Xm\n",
       " £\u0015ÜëÃ\u00025{¾kÜãCê_QÊ©B…ǆÈc2#S...  \n",
       "573509                               ë\u0003Ël×uÏB'JI¨GÙn\"Ç(…0  \n",
       "573510                         ”†\u0011+S–j\"ô*ôLð®\\tT|JöäÄ2!n  \n",
       "\n",
       "[109 rows x 2 columns]"
      ]
     },
     "execution_count": 261,
     "metadata": {},
     "output_type": "execute_result"
    }
   ],
   "source": [
    "# Attempt to fix some broken encoding\n",
    "from ftfy import fix_encoding\n",
    "\n",
    "df_fixed = pd.DataFrame()\n",
    "df_fixed['url'] = df['url']\n",
    "df_fixed['url_fixed'] = df_fixed['url'].apply(fix_encoding)\n",
    "df_fixed.query(expr='url != url_fixed')"
   ]
  },
  {
   "cell_type": "code",
   "execution_count": 262,
   "metadata": {},
   "outputs": [
    {
     "data": {
      "text/html": [
       "<div>\n",
       "<style scoped>\n",
       "    .dataframe tbody tr th:only-of-type {\n",
       "        vertical-align: middle;\n",
       "    }\n",
       "\n",
       "    .dataframe tbody tr th {\n",
       "        vertical-align: top;\n",
       "    }\n",
       "\n",
       "    .dataframe thead th {\n",
       "        text-align: right;\n",
       "    }\n",
       "</style>\n",
       "<table border=\"1\" class=\"dataframe\">\n",
       "  <thead>\n",
       "    <tr style=\"text-align: right;\">\n",
       "      <th></th>\n",
       "      <th>url</th>\n",
       "      <th>type</th>\n",
       "      <th>encoding</th>\n",
       "      <th>enc_confidence</th>\n",
       "    </tr>\n",
       "  </thead>\n",
       "  <tbody>\n",
       "    <tr>\n",
       "      <th>573417</th>\n",
       "      <td>esxcc.com/js/index.htm?us.battle.net/noghn/en/...</td>\n",
       "      <td>phishing</td>\n",
       "      <td>None</td>\n",
       "      <td>0.000000</td>\n",
       "    </tr>\n",
       "    <tr>\n",
       "      <th>573418</th>\n",
       "      <td>www\u000eeira¯&amp;nvinip¿ncH¯wVö%ÆåyDaHðû/ÏyEùu\u0003Ë\\nÓ\u00176...</td>\n",
       "      <td>phishing</td>\n",
       "      <td>None</td>\n",
       "      <td>0.000000</td>\n",
       "    </tr>\n",
       "    <tr>\n",
       "      <th>573422</th>\n",
       "      <td>ruta89fm.com/images/AS@Vies/1i75cf7b16vc&lt;F\u0015d16...</td>\n",
       "      <td>phishing</td>\n",
       "      <td>TIS-620</td>\n",
       "      <td>0.264226</td>\n",
       "    </tr>\n",
       "    <tr>\n",
       "      <th>573424</th>\n",
       "      <td>esxcc.com/js/index.htm?us.battle.net/login/en/...</td>\n",
       "      <td>phishing</td>\n",
       "      <td>Windows-1254</td>\n",
       "      <td>0.490066</td>\n",
       "    </tr>\n",
       "    <tr>\n",
       "      <th>573425</th>\n",
       "      <td>esxcc.com/js/index.htm?us.battle.net/login/en/...</td>\n",
       "      <td>phishing</td>\n",
       "      <td>Windows-1252</td>\n",
       "      <td>0.228806</td>\n",
       "    </tr>\n",
       "    <tr>\n",
       "      <th>573427</th>\n",
       "      <td>&gt;Iq\u00169E) l¬0™ZÝì\u0017\u0010\u0017Ãw!'Ôp\u000e£ãW§&amp;£Ñ\u000bp&amp;$ImÞôöÝYÖ</td>\n",
       "      <td>phishing</td>\n",
       "      <td>TIS-620</td>\n",
       "      <td>0.257015</td>\n",
       "    </tr>\n",
       "    <tr>\n",
       "      <th>573429</th>\n",
       "      <td>esxcc.com/js/index.htm?us.battle.net/login/en/...</td>\n",
       "      <td>phishing</td>\n",
       "      <td>TIS-620</td>\n",
       "      <td>0.203882</td>\n",
       "    </tr>\n",
       "    <tr>\n",
       "      <th>573430</th>\n",
       "      <td>˜\u000f\u001c꭛~l‡+×\u0013û¢ïÄÁŒR\"+íI\u000e</td>\n",
       "      <td>phishing</td>\n",
       "      <td>None</td>\n",
       "      <td>0.000000</td>\n",
       "    </tr>\n",
       "    <tr>\n",
       "      <th>573431</th>\n",
       "      <td>ŠRybjUx\u0018Ùãl5»7ÆE%Ý\u0014Ôk+h\u001f\u000f|U\u001a\u0007+ýk©ìɔ½“Æq]âF·žõÁ...</td>\n",
       "      <td>phishing</td>\n",
       "      <td>None</td>\n",
       "      <td>0.000000</td>\n",
       "    </tr>\n",
       "    <tr>\n",
       "      <th>573432</th>\n",
       "      <td>§¬I0f9ÎP\u000fðÏ}åç`.7õú X\u001d\u000f'˜}—؁4~æʸa(_à</td>\n",
       "      <td>phishing</td>\n",
       "      <td>TIS-620</td>\n",
       "      <td>0.335509</td>\n",
       "    </tr>\n",
       "    <tr>\n",
       "      <th>573434</th>\n",
       "      <td>¶Ã‡·¼Ø鯷¤êZ‰}\u0017²^v³Ñ‰Ï¯\u001fn‰D-\u000f³ª\\á彍^oz’¤8\\t°òÆӁ...</td>\n",
       "      <td>phishing</td>\n",
       "      <td>None</td>\n",
       "      <td>0.000000</td>\n",
       "    </tr>\n",
       "    <tr>\n",
       "      <th>573436</th>\n",
       "      <td>esxcc.com/js/index.htm?us.battle.net/Logmn+en¯...</td>\n",
       "      <td>phishing</td>\n",
       "      <td>Windows-1254</td>\n",
       "      <td>0.443722</td>\n",
       "    </tr>\n",
       "    <tr>\n",
       "      <th>573439</th>\n",
       "      <td>'www.118bm.com/images/?us.battle.net/login/en/...</td>\n",
       "      <td>phishing</td>\n",
       "      <td>None</td>\n",
       "      <td>0.000000</td>\n",
       "    </tr>\n",
       "    <tr>\n",
       "      <th>573442</th>\n",
       "      <td>Ï×è`d¨ÖaÒJc´ÐӋ)ã°!gü6K\u0004ž&lt;T\u0007\u000fZ–\\è\u0019)6xÜ*\u000b\u000bMæóp</td>\n",
       "      <td>phishing</td>\n",
       "      <td>TIS-620</td>\n",
       "      <td>0.207426</td>\n",
       "    </tr>\n",
       "    <tr>\n",
       "      <th>573445</th>\n",
       "      <td>ÐͳÕÙ»®:õ\u000fGw#9ø£prÝU‘\\On‡~Àòûu3ЁҒh‘ö؈±Ú9Ì\u0003e „J...</td>\n",
       "      <td>phishing</td>\n",
       "      <td>None</td>\n",
       "      <td>0.000000</td>\n",
       "    </tr>\n",
       "    <tr>\n",
       "      <th>573447</th>\n",
       "      <td>esxcc.com/js/index.htm?us.battle.net/logIn+en/...</td>\n",
       "      <td>phishing</td>\n",
       "      <td>Windows-1254</td>\n",
       "      <td>0.458201</td>\n",
       "    </tr>\n",
       "    <tr>\n",
       "      <th>573450</th>\n",
       "      <td>.ú†Ñ¦~\u0004@üþ^\u0010\u0015t²'\u000e\u000eë\u0006ŠÆ6T\u001c¯U¶ƒF\"-ê}6oã\u0012­8aØÜ00</td>\n",
       "      <td>phishing</td>\n",
       "      <td>None</td>\n",
       "      <td>0.000000</td>\n",
       "    </tr>\n",
       "    <tr>\n",
       "      <th>573451</th>\n",
       "      <td>www.118bm.com/images/?uó.battle.net/lggin/en+9...</td>\n",
       "      <td>benign</td>\n",
       "      <td>TIS-620</td>\n",
       "      <td>0.211932</td>\n",
       "    </tr>\n",
       "    <tr>\n",
       "      <th>573454</th>\n",
       "      <td>esycg.cOu;js.indq|.èôì¾tq.†aî\u001fli.jC&lt;Ä¿ca\u0006(ÎòÀ...</td>\n",
       "      <td>phishing</td>\n",
       "      <td>Windows-1252</td>\n",
       "      <td>0.365000</td>\n",
       "    </tr>\n",
       "    <tr>\n",
       "      <th>573455</th>\n",
       "      <td>ø\"!.)pþYsëËãߗ'}\u000eר±SâC³Epd´Q*</td>\n",
       "      <td>phishing</td>\n",
       "      <td>None</td>\n",
       "      <td>0.000000</td>\n",
       "    </tr>\n",
       "    <tr>\n",
       "      <th>573457</th>\n",
       "      <td>܍×é̉ÉuTEq&lt;¸\u000e«\u0003ÏnÓuÏB\u0003JIªWÙn\"Çhƒ4\\t”†\u0011+Q–j\"ä*´...</td>\n",
       "      <td>phishing</td>\n",
       "      <td>None</td>\n",
       "      <td>0.000000</td>\n",
       "    </tr>\n",
       "    <tr>\n",
       "      <th>573460</th>\n",
       "      <td>ˆ—‰ôÑ¿ŒJ²ã‡crÈ\u00147½\u000eýg\\t&gt;¸4P!ÿz•ôH°Ú&lt;AF+¹×†\u0004j÷...</td>\n",
       "      <td>phishing</td>\n",
       "      <td>None</td>\n",
       "      <td>0.000000</td>\n",
       "    </tr>\n",
       "    <tr>\n",
       "      <th>573461</th>\n",
       "      <td>Æe\u001eF§÷%\u0011¶\u001c¿ÕŒ½9¿b@Ö¸ÚZE¤ÒC¢˜ŽÄŪ2åç-]W³fU¤\u001eJgk...</td>\n",
       "      <td>phishing</td>\n",
       "      <td>TIS-620</td>\n",
       "      <td>0.239010</td>\n",
       "    </tr>\n",
       "    <tr>\n",
       "      <th>573462</th>\n",
       "      <td>ӗ6¸RTÃ\u0006u\u000f‹~æ‚\fÙ\u001dg0&gt;–÷mÖi\u0012Ó=;ŸXZ\\%êýÜ\u0005Éfn&amp;‡\\°%...</td>\n",
       "      <td>phishing</td>\n",
       "      <td>None</td>\n",
       "      <td>0.000000</td>\n",
       "    </tr>\n",
       "    <tr>\n",
       "      <th>573464</th>\n",
       "      <td>äÕ3ñºT-\f\u0011TÖGÑîÊ­\u0002ñò“ò\u0002}¼ae°\u000bôÈ&gt;´ôÌ~ÀÁÙD¡Žê\u0006—Ås...</td>\n",
       "      <td>phishing</td>\n",
       "      <td>None</td>\n",
       "      <td>0.000000</td>\n",
       "    </tr>\n",
       "    <tr>\n",
       "      <th>573465</th>\n",
       "      <td>oÍёOwEu\u001aÊÚ\u0007Ãß=n™Ëß[j{2%.tñœ\u0017ø‘­½½qx½NºPmx$Aì&amp;ž...</td>\n",
       "      <td>phishing</td>\n",
       "      <td>None</td>\n",
       "      <td>0.000000</td>\n",
       "    </tr>\n",
       "    <tr>\n",
       "      <th>573467</th>\n",
       "      <td>µ“ÔA¨!݌Û=]›º£¦Pôwr7\u001fƒ2\u0007-ÕY5Äòè7¬\u000f-³]×=\b)&amp;¡\u001fe¸...</td>\n",
       "      <td>phishing</td>\n",
       "      <td>None</td>\n",
       "      <td>0.000000</td>\n",
       "    </tr>\n",
       "    <tr>\n",
       "      <th>573472</th>\n",
       "      <td>¨R˜ÊÆûaCóÞit×ßÂe-D֋Ø+9YèÌçϗ¯·\u0004\"0£ÙÕ.0ößF«7¹N‰R...</td>\n",
       "      <td>phishing</td>\n",
       "      <td>None</td>\n",
       "      <td>0.000000</td>\n",
       "    </tr>\n",
       "    <tr>\n",
       "      <th>573474</th>\n",
       "      <td>Ÿ\u0010ƒ+†\u0015k'¨ƒPC»\u0019¶z»7uGL¡èîän?\u0006d\u000e[ª²k‰åÐoX\u001e[f»®z...</td>\n",
       "      <td>phishing</td>\n",
       "      <td>None</td>\n",
       "      <td>0.000000</td>\n",
       "    </tr>\n",
       "    <tr>\n",
       "      <th>573475</th>\n",
       "      <td>ìUۛ ï’wкÐã\u0016ìÌÔÍæÓJ&gt;Ҟª©dÆ\u0012\u001btŠY¹Š</td>\n",
       "      <td>phishing</td>\n",
       "      <td>TIS-620</td>\n",
       "      <td>0.224888</td>\n",
       "    </tr>\n",
       "    <tr>\n",
       "      <th>573476</th>\n",
       "      <td>ŠQ9bjUñ\u0018Ùâl5¿7FE=Ý\u0015Ôk+h\u001f\u000f|õºg/}m©ìȔ¹ÓÆp_âF¶öõÅ...</td>\n",
       "      <td>phishing</td>\n",
       "      <td>TIS-620</td>\n",
       "      <td>0.209374</td>\n",
       "    </tr>\n",
       "    <tr>\n",
       "      <th>573477</th>\n",
       "      <td>ÔÁ&amp;O\u0015\u0001ãÖ%•x\u0006BMŽ7\u000e‚âÓy&lt;Ü\\t\\tú1\u0019Éÿapñ¯\u0015‰íP‡24/¤%...</td>\n",
       "      <td>phishing</td>\n",
       "      <td>None</td>\n",
       "      <td>0.000000</td>\n",
       "    </tr>\n",
       "    <tr>\n",
       "      <th>573479</th>\n",
       "      <td>ßWªçm\u001a`× ÉÑ¢M\u00069ˆ EŸPÚ´OÀ‰\u001e›¯â\u0002±µ¤–DáÉÝbÑY\u0006ƃ”Ê–...</td>\n",
       "      <td>phishing</td>\n",
       "      <td>None</td>\n",
       "      <td>0.000000</td>\n",
       "    </tr>\n",
       "    <tr>\n",
       "      <th>573480</th>\n",
       "      <td>1]μ0#W»æ½Î4&gt;¥õ\u001cª”(\\xl†3(ò5?¹(°åþ¬eéÍû\u0012\u0006µÆÒÒ-&amp;...</td>\n",
       "      <td>phishing</td>\n",
       "      <td>TIS-620</td>\n",
       "      <td>0.205849</td>\n",
       "    </tr>\n",
       "    <tr>\n",
       "      <th>573482</th>\n",
       "      <td>à•GįnLC\"\u0016à\fH’ٝéïø³®\u001c\u0015Ø«·7 Aß$ï¡u¡Æ-ٙ©›Í¦”}¥=U\u001b...</td>\n",
       "      <td>phishing</td>\n",
       "      <td>None</td>\n",
       "      <td>0.000000</td>\n",
       "    </tr>\n",
       "    <tr>\n",
       "      <th>573483</th>\n",
       "      <td>gM9ûe\u0003‡ë|N¶ñ'\u001b\u000fO÷Ë\u001bÒGâì»ÑÿË}Ö¥\u001b\u0016ÎÏueO</td>\n",
       "      <td>phishing</td>\n",
       "      <td>TIS-620</td>\n",
       "      <td>0.211741</td>\n",
       "    </tr>\n",
       "    <tr>\n",
       "      <th>573484</th>\n",
       "      <td>‰G] 8:°‡º:©\u0006‚„×›Å&amp;|\u0017pŸ+\u001f\u001a=Q[&amp;ü™\u001eW¦'ñE_™ƒ\u0018„d\u0017ڒ\f...</td>\n",
       "      <td>phishing</td>\n",
       "      <td>None</td>\n",
       "      <td>0.000000</td>\n",
       "    </tr>\n",
       "    <tr>\n",
       "      <th>573486</th>\n",
       "      <td>£Ä\u0014b»x`F¯wÍ{œh}Kê9U(P¸ðÙ\ffQäjrQ\u001baËýXËӛö$</td>\n",
       "      <td>phishing</td>\n",
       "      <td>None</td>\n",
       "      <td>0.000000</td>\n",
       "    </tr>\n",
       "    <tr>\n",
       "      <th>573488</th>\n",
       "      <td>A\u000eìfÙêìÝÕ\u001d2‡£»‘¸ü\u00199nªÉ®'—A½`ymšî¹èDéI5\bû-ÄXå\u0010...</td>\n",
       "      <td>phishing</td>\n",
       "      <td>None</td>\n",
       "      <td>0.000000</td>\n",
       "    </tr>\n",
       "    <tr>\n",
       "      <th>573490</th>\n",
       "      <td>žóK¦¾þ\u0013)j&amp;´^ÁYÊÏFg&gt;|½}¸!\u0011…\u001eΩq‡¶ú5Y½ÊtJà&amp;ËÛ\u001b\u001e...</td>\n",
       "      <td>phishing</td>\n",
       "      <td>None</td>\n",
       "      <td>0.000000</td>\n",
       "    </tr>\n",
       "    <tr>\n",
       "      <th>573491</th>\n",
       "      <td>+ʒÀ\u001cÑQ†.é¾¾T\u001e\u000e`(+}^«´iƒ\\ƒ'F‰4\u0018æ \u0016}CjÑ?\u0002$zn¿ˆ</td>\n",
       "      <td>phishing</td>\n",
       "      <td>None</td>\n",
       "      <td>0.000000</td>\n",
       "    </tr>\n",
       "    <tr>\n",
       "      <th>573492</th>\n",
       "      <td>Æ֒Y\u0013‡'u‹Ed\u001b\u001a\u000eS*Z\u0001£‘\u0012ñ&gt;š7ñ‰V\\pìnY\u0002†÷¡ß¬á'×\u0006Š\u0004?ñ...</td>\n",
       "      <td>phishing</td>\n",
       "      <td>TIS-620</td>\n",
       "      <td>0.210592</td>\n",
       "    </tr>\n",
       "    <tr>\n",
       "      <th>573495</th>\n",
       "      <td>œ\u0006ùAyéTôDpFc~\bˆh‚@^¶\\øâèû¥ÊÞG·ê(Tø„ì\u0019\\0«Y=D\u001a‚\u001d...</td>\n",
       "      <td>phishing</td>\n",
       "      <td>None</td>\n",
       "      <td>0.000000</td>\n",
       "    </tr>\n",
       "    <tr>\n",
       "      <th>573499</th>\n",
       "      <td>=Rã\u000fmôj³{”è•!ÀM—¶6&lt;œN&gt;žw…¼Cf\u0011£]\u001b4ÍnÝ̜</td>\n",
       "      <td>phishing</td>\n",
       "      <td>None</td>\n",
       "      <td>0.000000</td>\n",
       "    </tr>\n",
       "    <tr>\n",
       "      <th>573507</th>\n",
       "      <td>«Dü\b‘éºþ +\u001bZIdN\u001cÖ-\u0015lh9L©h\u0006ŽDKÄúhßÆ%Yqñ¹d</td>\n",
       "      <td>phishing</td>\n",
       "      <td>None</td>\n",
       "      <td>0.000000</td>\n",
       "    </tr>\n",
       "    <tr>\n",
       "      <th>573508</th>\n",
       "      <td>\u001bއ~³„Ÿ\\\u001a(\u0010ÿǽJú$Xm\u001e £\u0015ÜëÃ\u00025{¾kÜãCê_QÊ©B…ǆÈc2#S...</td>\n",
       "      <td>phishing</td>\n",
       "      <td>None</td>\n",
       "      <td>0.000000</td>\n",
       "    </tr>\n",
       "  </tbody>\n",
       "</table>\n",
       "</div>"
      ],
      "text/plain": [
       "                                                      url      type  \\\n",
       "573417  esxcc.com/js/index.htm?us.battle.net/noghn/en/...  phishing   \n",
       "573418  www\u000eeira¯&nvinip¿ncH¯wVö%ÆåyDaHðû/ÏyEùu\u0003Ë\\nÓ\u00176...  phishing   \n",
       "573422  ruta89fm.com/images/AS@Vies/1i75cf7b16vc<F\u0015d16...  phishing   \n",
       "573424  esxcc.com/js/index.htm?us.battle.net/login/en/...  phishing   \n",
       "573425  esxcc.com/js/index.htm?us.battle.net/login/en/...  phishing   \n",
       "573427       >Iq\u00169E) l¬0™ZÝì\u0017\u0010\u0017Ãw!'Ôp\u000e£ãW§&£Ñ\n",
       "p&$ImÞôöÝYÖ  phishing   \n",
       "573429  esxcc.com/js/index.htm?us.battle.net/login/en/...  phishing   \n",
       "573430                          ˜\u000f\n",
       "꭛~l‡+×\u0013û¢ïÄÁŒR\"+íI\u000e  phishing   \n",
       "573431  ŠRybjUx\u0018Ùãl5»7ÆE%Ý\u0014Ôk+h\u001f\u000f|U\u001a\u0007+ýk©ìɔ½“Æq]âF·žõÁ...  phishing   \n",
       "573432              §¬I0f9ÎP\u000fðÏ}åç`.7õú X\n",
       "\u000f'˜}—؁4~æʸa(_à  phishing   \n",
       "573434  ¶Ã‡·¼Ø鯷¤êZ‰}\u0017²^v³Ñ‰Ï¯\u001fn‰D-\u000f³ª\\á彍^oz’¤8\\t°òÆӁ...  phishing   \n",
       "573436  esxcc.com/js/index.htm?us.battle.net/Logmn+en¯...  phishing   \n",
       "573439  'www.118bm.com/images/?us.battle.net/login/en/...  phishing   \n",
       "573442     Ï×è`d¨ÖaÒJc´ÐӋ)ã°!gü6K\u0004ž<T\u0007\u000fZ–\\è\u0019)6xÜ*\n",
       "\n",
       "Mæóp  phishing   \n",
       "573445  ÐͳÕÙ»®:õ\u000fGw#9ø£prÝU‘\\On‡~Àòûu3ЁҒh‘ö؈±Ú9Ì\u0003e „J...  phishing   \n",
       "573447  esxcc.com/js/index.htm?us.battle.net/logIn+en/...  phishing   \n",
       "573450    .ú†Ñ¦~\u0004@üþ^\u0010\u0015t²'\u000e\u000eë\u0006ŠÆ6T\n",
       "¯U¶ƒF\"-ê}6oã\u0012­8aØÜ00  phishing   \n",
       "573451  www.118bm.com/images/?uó.battle.net/lggin/en+9...    benign   \n",
       "573454  esycg.cOu;js.indq|.èôì¾tq.†aî\u001fli.jC<Ä¿ca\u0006(ÎòÀ...  phishing   \n",
       "573455                      ø\"!.)pþYsëËãߗ'}\u000eר±SâC³Epd´Q*  phishing   \n",
       "573457  ܍×é̉ÉuTEq<¸\u000e«\u0003ÏnÓuÏB\u0003JIªWÙn\"Çhƒ4\\t”†\u0011+Q–j\"ä*´...  phishing   \n",
       "573460  \n",
       "ˆ—‰ôÑ¿ŒJ²ã‡crÈ\u00147½\u000eýg\\t>¸4P!ÿz•ôH°Ú<AF+¹×†\u0004j÷...  phishing   \n",
       "573461  Æe\n",
       "F§÷%\u0011¶\n",
       "¿ÕŒ½9¿b@Ö¸ÚZE¤ÒC¢˜ŽÄŪ2åç-]W³fU¤\n",
       "Jgk...  phishing   \n",
       "573462  ӗ6¸RTÃ\u0006u\u000f‹~æ‚\n",
       "Ù\n",
       "g0>–÷mÖi\u0012Ó=;ŸXZ\\%êýÜ\u0005Éfn&‡\\°%...  phishing   \n",
       "573464  äÕ3ñºT-\n",
       "\u0011TÖGÑîÊ­\u0002ñò“ò\u0002}¼ae°\n",
       "ôÈ>´ôÌ~ÀÁÙD¡Žê\u0006—Ås...  phishing   \n",
       "573465  oÍёOwEu\u001aÊÚ\u0007Ãß=n™Ëß[j{2%.tñœ\u0017ø‘­½½qx½NºPmx$Aì&ž...  phishing   \n",
       "573467  µ“ÔA¨!݌Û=]›º£¦Pôwr7\u001fƒ2\u0007-ÕY5Äòè7¬\u000f-³]×=\b)&¡\u001fe¸...  phishing   \n",
       "573472  ¨R˜ÊÆûaCóÞit×ßÂe-D֋Ø+9YèÌçϗ¯·\u0004\"0£ÙÕ.0ößF«7¹N‰R...  phishing   \n",
       "573474  Ÿ\u0010ƒ+†\u0015k'¨ƒPC»\u0019¶z»7uGL¡èîän?\u0006d\u000e[ª²k‰åÐoX\n",
       "[f»®z...  phishing   \n",
       "573475                  ìUۛ ï’wкÐã\u0016ìÌÔÍæÓJ>Ҟª©dÆ\u0012\u001btŠY¹Š  phishing   \n",
       "573476  ŠQ9bjUñ\u0018Ùâl5¿7FE=Ý\u0015Ôk+h\u001f\u000f|õºg/}m©ìȔ¹ÓÆp_âF¶öõÅ...  phishing   \n",
       "573477  ÔÁ&O\u0015\u0001ãÖ%•x\u0006BMŽ7\u000e‚âÓy<Ü\\t\\tú1\u0019Éÿapñ¯\u0015‰íP‡24/¤%...  phishing   \n",
       "573479  ßWªçm\u001a`× ÉÑ¢M\u00069ˆ EŸPÚ´OÀ‰\n",
       "›¯â\u0002±µ¤–DáÉÝbÑY\u0006ƃ”Ê–...  phishing   \n",
       "573480  1]μ0#W»æ½Î4>¥õ\n",
       "ª”(\\xl†3(ò5?¹(°åþ¬eéÍû\u0012\u0006µÆÒÒ-&...  phishing   \n",
       "573482  à•GįnLC\"\u0016à\n",
       "H’ٝéïø³®\n",
       "\u0015Ø«·7 Aß$ï¡u¡Æ-ٙ©›Í¦”}¥=U\u001b...  phishing   \n",
       "573483             gM9ûe\u0003‡ë|N¶ñ'\u001b\u000fO÷Ë\u001bÒGâì»ÑÿË}Ö¥\u001b\u0016ÎÏueO  phishing   \n",
       "573484  ‰G] 8:°‡º:©\u0006‚„×›Å&|\u0017pŸ+\u001f\u001a=Q[&ü™\n",
       "W¦'ñE_™ƒ\u0018„d\u0017ڒ\n",
       "...  phishing   \n",
       "573486         £Ä\u0014b»x`F¯wÍ{œh}Kê9U(P¸ðÙ\n",
       "fQäjrQ\u001baËýXËӛö$  phishing   \n",
       "573488  A\u000eìfÙêìÝÕ\n",
       "2‡£»‘¸ü\u00199nªÉ®'—A½`ymšî¹èDéI5\bû-ÄXå\u0010...  phishing   \n",
       "573490  \u001fžóK¦¾þ\u0013)j&´^ÁYÊÏFg>|½}¸!\u0011…\n",
       "Ωq‡¶ú5Y½ÊtJà&ËÛ\u001b\n",
       "...  phishing   \n",
       "573491     +ʒÀ\n",
       "ÑQ†.é¾¾T\n",
       "\u000e`(+}^«´iƒ\\ƒ'F‰4\u0018æ \u0016}CjÑ?\u0002$zn¿ˆ  phishing   \n",
       "573492  Æ֒Y\u0013‡'u‹Ed\u001b\u001a\u000eS*Z\u0001£‘\u0012ñ>š7ñ‰V\\pìnY\u0002†÷¡ß¬á'×\u0006Š\u0004?ñ...  phishing   \n",
       "573495  œ\u0006ùAyéTôDpFc~\bˆh‚@^¶\\øâèû¥ÊÞG·ê(Tø„ì\u0019\\0«Y=D\u001a‚\n",
       "...  phishing   \n",
       "573499             =Rã\u000fmôj³{”è•!ÀM—¶6<œN>žw…¼Cf\u0011£]\u001b4ÍnÝ̜  phishing   \n",
       "573507         «Dü\b‘éºþ +\u001bZIdN\n",
       "Ö-\u0015lh9L©h\u0006ŽDKÄúhßÆ%Yqñ¹d  phishing   \n",
       "573508  \u001bއ~³„Ÿ\\\u001a(\u0010ÿǽJú$Xm\n",
       " £\u0015ÜëÃ\u00025{¾kÜãCê_QÊ©B…ǆÈc2#S...  phishing   \n",
       "\n",
       "            encoding  enc_confidence  \n",
       "573417          None        0.000000  \n",
       "573418          None        0.000000  \n",
       "573422       TIS-620        0.264226  \n",
       "573424  Windows-1254        0.490066  \n",
       "573425  Windows-1252        0.228806  \n",
       "573427       TIS-620        0.257015  \n",
       "573429       TIS-620        0.203882  \n",
       "573430          None        0.000000  \n",
       "573431          None        0.000000  \n",
       "573432       TIS-620        0.335509  \n",
       "573434          None        0.000000  \n",
       "573436  Windows-1254        0.443722  \n",
       "573439          None        0.000000  \n",
       "573442       TIS-620        0.207426  \n",
       "573445          None        0.000000  \n",
       "573447  Windows-1254        0.458201  \n",
       "573450          None        0.000000  \n",
       "573451       TIS-620        0.211932  \n",
       "573454  Windows-1252        0.365000  \n",
       "573455          None        0.000000  \n",
       "573457          None        0.000000  \n",
       "573460          None        0.000000  \n",
       "573461       TIS-620        0.239010  \n",
       "573462          None        0.000000  \n",
       "573464          None        0.000000  \n",
       "573465          None        0.000000  \n",
       "573467          None        0.000000  \n",
       "573472          None        0.000000  \n",
       "573474          None        0.000000  \n",
       "573475       TIS-620        0.224888  \n",
       "573476       TIS-620        0.209374  \n",
       "573477          None        0.000000  \n",
       "573479          None        0.000000  \n",
       "573480       TIS-620        0.205849  \n",
       "573482          None        0.000000  \n",
       "573483       TIS-620        0.211741  \n",
       "573484          None        0.000000  \n",
       "573486          None        0.000000  \n",
       "573488          None        0.000000  \n",
       "573490          None        0.000000  \n",
       "573491          None        0.000000  \n",
       "573492       TIS-620        0.210592  \n",
       "573495          None        0.000000  \n",
       "573499          None        0.000000  \n",
       "573507          None        0.000000  \n",
       "573508          None        0.000000  "
      ]
     },
     "execution_count": 262,
     "metadata": {},
     "output_type": "execute_result"
    }
   ],
   "source": [
    "# Commit changes and check for strings that are still broken\n",
    "df['url'] = df_fixed['url_fixed']\n",
    "df.query('enc_confidence < 0.5')    # Includes all unidentified encodings"
   ]
  },
  {
   "cell_type": "code",
   "execution_count": 263,
   "metadata": {},
   "outputs": [
    {
     "data": {
      "text/html": [
       "<div>\n",
       "<style scoped>\n",
       "    .dataframe tbody tr th:only-of-type {\n",
       "        vertical-align: middle;\n",
       "    }\n",
       "\n",
       "    .dataframe tbody tr th {\n",
       "        vertical-align: top;\n",
       "    }\n",
       "\n",
       "    .dataframe thead th {\n",
       "        text-align: right;\n",
       "    }\n",
       "</style>\n",
       "<table border=\"1\" class=\"dataframe\">\n",
       "  <thead>\n",
       "    <tr style=\"text-align: right;\">\n",
       "      <th></th>\n",
       "      <th>url</th>\n",
       "      <th>type</th>\n",
       "      <th>encoding</th>\n",
       "      <th>enc_confidence</th>\n",
       "    </tr>\n",
       "  </thead>\n",
       "  <tbody>\n",
       "    <tr>\n",
       "      <th>573418</th>\n",
       "      <td>www\u000eeira¯&amp;nvinip¿ncH¯wVö%ÆåyDaHðû/ÏyEùu\u0003Ë\\nÓ\u00176...</td>\n",
       "      <td>phishing</td>\n",
       "      <td>None</td>\n",
       "      <td>0.000000</td>\n",
       "    </tr>\n",
       "    <tr>\n",
       "      <th>573419</th>\n",
       "      <td>'www.institutocgr.coo/web/media/syqvem/dk-\u000fóij...</td>\n",
       "      <td>phishing</td>\n",
       "      <td>Windows-1252</td>\n",
       "      <td>0.730000</td>\n",
       "    </tr>\n",
       "    <tr>\n",
       "      <th>573420</th>\n",
       "      <td>\u0011\u0018Yìê‡\fkoãջΧDéÎ\u0002l½ñ¡ââqtò¸/à; Í</td>\n",
       "      <td>phishing</td>\n",
       "      <td>utf-8</td>\n",
       "      <td>0.990000</td>\n",
       "    </tr>\n",
       "    <tr>\n",
       "      <th>573421</th>\n",
       "      <td>虠kvüDâQÎé4¼ÒŽ©</td>\n",
       "      <td>benign</td>\n",
       "      <td>utf-8</td>\n",
       "      <td>0.990000</td>\n",
       "    </tr>\n",
       "    <tr>\n",
       "      <th>573422</th>\n",
       "      <td>ruta89fm.com/images/AS@Vies/1i75cf7b16vc&lt;F\u0015d16...</td>\n",
       "      <td>phishing</td>\n",
       "      <td>TIS-620</td>\n",
       "      <td>0.264226</td>\n",
       "    </tr>\n",
       "    <tr>\n",
       "      <th>...</th>\n",
       "      <td>...</td>\n",
       "      <td>...</td>\n",
       "      <td>...</td>\n",
       "      <td>...</td>\n",
       "    </tr>\n",
       "    <tr>\n",
       "      <th>573506</th>\n",
       "      <td>r\f\u001a$Ðc˜‚\u0004Yõ</td>\n",
       "      <td>phishing</td>\n",
       "      <td>utf-8</td>\n",
       "      <td>0.990000</td>\n",
       "    </tr>\n",
       "    <tr>\n",
       "      <th>573507</th>\n",
       "      <td>«Dü\b‘éºþ +\u001bZIdN\u001cÖ-\u0015lh9L©h\u0006ŽDKÄúhßÆ%Yqñ¹d</td>\n",
       "      <td>phishing</td>\n",
       "      <td>None</td>\n",
       "      <td>0.000000</td>\n",
       "    </tr>\n",
       "    <tr>\n",
       "      <th>573508</th>\n",
       "      <td>\u001bއ~³„Ÿ\\\u001a(\u0010ÿǽJú$Xm\u001e £\u0015ÜëÃ\u00025{¾kÜãCê_QÊ©B…ǆÈc2#S...</td>\n",
       "      <td>phishing</td>\n",
       "      <td>None</td>\n",
       "      <td>0.000000</td>\n",
       "    </tr>\n",
       "    <tr>\n",
       "      <th>573509</th>\n",
       "      <td>ë\u0003Ël×uÏB'JI¨GÙn\"Ç(…0</td>\n",
       "      <td>phishing</td>\n",
       "      <td>utf-8</td>\n",
       "      <td>0.990000</td>\n",
       "    </tr>\n",
       "    <tr>\n",
       "      <th>573510</th>\n",
       "      <td>”†\u0011+S–j\"ô*ôLð®\\tT|JöäÄ2!n</td>\n",
       "      <td>phishing</td>\n",
       "      <td>utf-8</td>\n",
       "      <td>0.990000</td>\n",
       "    </tr>\n",
       "  </tbody>\n",
       "</table>\n",
       "<p>93 rows × 4 columns</p>\n",
       "</div>"
      ],
      "text/plain": [
       "                                                      url      type  \\\n",
       "573418  www\u000eeira¯&nvinip¿ncH¯wVö%ÆåyDaHðû/ÏyEùu\u0003Ë\\nÓ\u00176...  phishing   \n",
       "573419  'www.institutocgr.coo/web/media/syqvem/dk-\u000fóij...  phishing   \n",
       "573420                    \u0011\u0018Yìê‡\n",
       "koãջΧDéÎ\u0002l½ñ¡ââqtò¸/à; Í  phishing   \n",
       "573421                                     虠kvüDâQÎé4¼ÒŽ©    benign   \n",
       "573422  ruta89fm.com/images/AS@Vies/1i75cf7b16vc<F\u0015d16...  phishing   \n",
       "...                                                   ...       ...   \n",
       "573506                                       r\n",
       "\u001a$Ðc˜‚\u0004Yõ  phishing   \n",
       "573507         «Dü\b‘éºþ +\u001bZIdN\n",
       "Ö-\u0015lh9L©h\u0006ŽDKÄúhßÆ%Yqñ¹d  phishing   \n",
       "573508  \u001bއ~³„Ÿ\\\u001a(\u0010ÿǽJú$Xm\n",
       " £\u0015ÜëÃ\u00025{¾kÜãCê_QÊ©B…ǆÈc2#S...  phishing   \n",
       "573509                               ë\u0003Ël×uÏB'JI¨GÙn\"Ç(…0  phishing   \n",
       "573510                         ”†\u0011+S–j\"ô*ôLð®\\tT|JöäÄ2!n  phishing   \n",
       "\n",
       "            encoding  enc_confidence  \n",
       "573418          None        0.000000  \n",
       "573419  Windows-1252        0.730000  \n",
       "573420         utf-8        0.990000  \n",
       "573421         utf-8        0.990000  \n",
       "573422       TIS-620        0.264226  \n",
       "...              ...             ...  \n",
       "573506         utf-8        0.990000  \n",
       "573507          None        0.000000  \n",
       "573508          None        0.000000  \n",
       "573509         utf-8        0.990000  \n",
       "573510         utf-8        0.990000  \n",
       "\n",
       "[93 rows x 4 columns]"
      ]
     },
     "execution_count": 263,
     "metadata": {},
     "output_type": "execute_result"
    }
   ],
   "source": [
    "# It seems there is an interval of rows where these invalid urls are concentrated\n",
    "df.loc[573418:573510]"
   ]
  },
  {
   "cell_type": "code",
   "execution_count": 264,
   "metadata": {},
   "outputs": [],
   "source": [
    "# Remove urls we can't fix\n",
    "df.drop(df.loc[573418:573510].index, inplace=True)"
   ]
  },
  {
   "cell_type": "code",
   "execution_count": 265,
   "metadata": {},
   "outputs": [],
   "source": [
    "# Remove enc_confidence as it will not be needed for training\n",
    "df.drop('enc_confidence', axis=1, inplace=True)"
   ]
  },
  {
   "attachments": {},
   "cell_type": "markdown",
   "metadata": {},
   "source": [
    "### Prepare URLs for parsing"
   ]
  },
  {
   "cell_type": "code",
   "execution_count": 266,
   "metadata": {},
   "outputs": [
    {
     "data": {
      "text/html": [
       "<div>\n",
       "<style scoped>\n",
       "    .dataframe tbody tr th:only-of-type {\n",
       "        vertical-align: middle;\n",
       "    }\n",
       "\n",
       "    .dataframe tbody tr th {\n",
       "        vertical-align: top;\n",
       "    }\n",
       "\n",
       "    .dataframe thead th {\n",
       "        text-align: right;\n",
       "    }\n",
       "</style>\n",
       "<table border=\"1\" class=\"dataframe\">\n",
       "  <thead>\n",
       "    <tr style=\"text-align: right;\">\n",
       "      <th></th>\n",
       "      <th>url</th>\n",
       "      <th>type</th>\n",
       "      <th>encoding</th>\n",
       "    </tr>\n",
       "  </thead>\n",
       "  <tbody>\n",
       "    <tr>\n",
       "      <th>0</th>\n",
       "      <td>//br-icloud.com.br</td>\n",
       "      <td>phishing</td>\n",
       "      <td>ascii</td>\n",
       "    </tr>\n",
       "    <tr>\n",
       "      <th>1</th>\n",
       "      <td>//mp3raid.com/music/krizz_kaliko.html</td>\n",
       "      <td>benign</td>\n",
       "      <td>ascii</td>\n",
       "    </tr>\n",
       "    <tr>\n",
       "      <th>2</th>\n",
       "      <td>//bopsecrets.org/rexroth/cr/1.htm</td>\n",
       "      <td>benign</td>\n",
       "      <td>ascii</td>\n",
       "    </tr>\n",
       "    <tr>\n",
       "      <th>3</th>\n",
       "      <td>http://www.garage-pirenne.be/index.php?option=...</td>\n",
       "      <td>defacement</td>\n",
       "      <td>ascii</td>\n",
       "    </tr>\n",
       "    <tr>\n",
       "      <th>4</th>\n",
       "      <td>http://adventure-nicaragua.net/index.php?optio...</td>\n",
       "      <td>defacement</td>\n",
       "      <td>ascii</td>\n",
       "    </tr>\n",
       "    <tr>\n",
       "      <th>5</th>\n",
       "      <td>http://buzzfil.net/m/show-art/ils-etaient-loin...</td>\n",
       "      <td>benign</td>\n",
       "      <td>ascii</td>\n",
       "    </tr>\n",
       "    <tr>\n",
       "      <th>6</th>\n",
       "      <td>//espn.go.com/nba/player/_/id/3457/brandon-rush</td>\n",
       "      <td>benign</td>\n",
       "      <td>ascii</td>\n",
       "    </tr>\n",
       "    <tr>\n",
       "      <th>7</th>\n",
       "      <td>//yourbittorrent.com/?q=anthony-hamilton-soulife</td>\n",
       "      <td>benign</td>\n",
       "      <td>ascii</td>\n",
       "    </tr>\n",
       "    <tr>\n",
       "      <th>8</th>\n",
       "      <td>http://www.pashminaonline.com/pure-pashminas</td>\n",
       "      <td>defacement</td>\n",
       "      <td>ascii</td>\n",
       "    </tr>\n",
       "    <tr>\n",
       "      <th>9</th>\n",
       "      <td>//allmusic.com/album/crazy-from-the-heat-r16990</td>\n",
       "      <td>benign</td>\n",
       "      <td>ascii</td>\n",
       "    </tr>\n",
       "  </tbody>\n",
       "</table>\n",
       "</div>"
      ],
      "text/plain": [
       "                                                 url        type encoding\n",
       "0                                 //br-icloud.com.br    phishing    ascii\n",
       "1              //mp3raid.com/music/krizz_kaliko.html      benign    ascii\n",
       "2                  //bopsecrets.org/rexroth/cr/1.htm      benign    ascii\n",
       "3  http://www.garage-pirenne.be/index.php?option=...  defacement    ascii\n",
       "4  http://adventure-nicaragua.net/index.php?optio...  defacement    ascii\n",
       "5  http://buzzfil.net/m/show-art/ils-etaient-loin...      benign    ascii\n",
       "6    //espn.go.com/nba/player/_/id/3457/brandon-rush      benign    ascii\n",
       "7   //yourbittorrent.com/?q=anthony-hamilton-soulife      benign    ascii\n",
       "8       http://www.pashminaonline.com/pure-pashminas  defacement    ascii\n",
       "9    //allmusic.com/album/crazy-from-the-heat-r16990      benign    ascii"
      ]
     },
     "execution_count": 266,
     "metadata": {},
     "output_type": "execute_result"
    }
   ],
   "source": [
    "import re\n",
    "\n",
    "# Add // before every URL so that urllib.parse can detect the netloc part correctly (https://docs.python.org/3/library/urllib.parse.html#urllib.parse.urlparse)\n",
    "df['url'] = df['url'].apply(lambda x: '//' + str(x) if not re.match(pattern=\"^.{0,5}:\\/\\/\", string=str(x)) else str(x))\n",
    "df.head(10)"
   ]
  },
  {
   "cell_type": "code",
   "execution_count": 267,
   "metadata": {},
   "outputs": [
    {
     "name": "stdout",
     "output_type": "stream",
     "text": [
      "no errors.\n"
     ]
    }
   ],
   "source": [
    "from urllib.parse import urlparse\n",
    "\n",
    "# Check if we have any exceptions while parsing\n",
    "success = True\n",
    "for url in df['url']:\n",
    "    try:\n",
    "        urlparse(url)\n",
    "    except ValueError as e:\n",
    "        success = False\n",
    "        print(e)\n",
    "if success :\n",
    "    print('no errors.')"
   ]
  },
  {
   "cell_type": "code",
   "execution_count": 268,
   "metadata": {},
   "outputs": [],
   "source": [
    "# Check again for duplicates since we changed some urls\n",
    "df.drop_duplicates(inplace=True, subset=['url'], keep='last')"
   ]
  },
  {
   "attachments": {},
   "cell_type": "markdown",
   "metadata": {},
   "source": [
    "## Feature extraction"
   ]
  },
  {
   "cell_type": "code",
   "execution_count": 269,
   "metadata": {},
   "outputs": [
    {
     "data": {
      "text/html": [
       "<div>\n",
       "<style scoped>\n",
       "    .dataframe tbody tr th:only-of-type {\n",
       "        vertical-align: middle;\n",
       "    }\n",
       "\n",
       "    .dataframe tbody tr th {\n",
       "        vertical-align: top;\n",
       "    }\n",
       "\n",
       "    .dataframe thead th {\n",
       "        text-align: right;\n",
       "    }\n",
       "</style>\n",
       "<table border=\"1\" class=\"dataframe\">\n",
       "  <thead>\n",
       "    <tr style=\"text-align: right;\">\n",
       "      <th></th>\n",
       "      <th>url</th>\n",
       "      <th>type</th>\n",
       "      <th>encoding</th>\n",
       "      <th>length</th>\n",
       "      <th>hostname</th>\n",
       "      <th>port</th>\n",
       "      <th>protocol</th>\n",
       "      <th>path</th>\n",
       "      <th>query</th>\n",
       "      <th>fragment</th>\n",
       "    </tr>\n",
       "  </thead>\n",
       "  <tbody>\n",
       "    <tr>\n",
       "      <th>0</th>\n",
       "      <td>//br-icloud.com.br</td>\n",
       "      <td>phishing</td>\n",
       "      <td>ascii</td>\n",
       "      <td>18</td>\n",
       "      <td>br-icloud.com.br</td>\n",
       "      <td>&lt;NA&gt;</td>\n",
       "      <td></td>\n",
       "      <td></td>\n",
       "      <td></td>\n",
       "      <td></td>\n",
       "    </tr>\n",
       "    <tr>\n",
       "      <th>1</th>\n",
       "      <td>//mp3raid.com/music/krizz_kaliko.html</td>\n",
       "      <td>benign</td>\n",
       "      <td>ascii</td>\n",
       "      <td>37</td>\n",
       "      <td>mp3raid.com</td>\n",
       "      <td>&lt;NA&gt;</td>\n",
       "      <td></td>\n",
       "      <td>/music/krizz_kaliko.html</td>\n",
       "      <td></td>\n",
       "      <td></td>\n",
       "    </tr>\n",
       "    <tr>\n",
       "      <th>2</th>\n",
       "      <td>//bopsecrets.org/rexroth/cr/1.htm</td>\n",
       "      <td>benign</td>\n",
       "      <td>ascii</td>\n",
       "      <td>33</td>\n",
       "      <td>bopsecrets.org</td>\n",
       "      <td>&lt;NA&gt;</td>\n",
       "      <td></td>\n",
       "      <td>/rexroth/cr/1.htm</td>\n",
       "      <td></td>\n",
       "      <td></td>\n",
       "    </tr>\n",
       "    <tr>\n",
       "      <th>3</th>\n",
       "      <td>http://www.garage-pirenne.be/index.php?option=...</td>\n",
       "      <td>defacement</td>\n",
       "      <td>ascii</td>\n",
       "      <td>88</td>\n",
       "      <td>www.garage-pirenne.be</td>\n",
       "      <td>&lt;NA&gt;</td>\n",
       "      <td>http</td>\n",
       "      <td>/index.php</td>\n",
       "      <td>option=com_content&amp;view=article&amp;id=70&amp;vsig70_0=15</td>\n",
       "      <td></td>\n",
       "    </tr>\n",
       "    <tr>\n",
       "      <th>4</th>\n",
       "      <td>http://adventure-nicaragua.net/index.php?optio...</td>\n",
       "      <td>defacement</td>\n",
       "      <td>ascii</td>\n",
       "      <td>235</td>\n",
       "      <td>adventure-nicaragua.net</td>\n",
       "      <td>&lt;NA&gt;</td>\n",
       "      <td>http</td>\n",
       "      <td>/index.php</td>\n",
       "      <td>option=com_mailto&amp;tmpl=component&amp;link=aHR0cDov...</td>\n",
       "      <td></td>\n",
       "    </tr>\n",
       "    <tr>\n",
       "      <th>5</th>\n",
       "      <td>http://buzzfil.net/m/show-art/ils-etaient-loin...</td>\n",
       "      <td>benign</td>\n",
       "      <td>ascii</td>\n",
       "      <td>118</td>\n",
       "      <td>buzzfil.net</td>\n",
       "      <td>&lt;NA&gt;</td>\n",
       "      <td>http</td>\n",
       "      <td>/m/show-art/ils-etaient-loin-de-s-imaginer-que...</td>\n",
       "      <td></td>\n",
       "      <td></td>\n",
       "    </tr>\n",
       "    <tr>\n",
       "      <th>6</th>\n",
       "      <td>//espn.go.com/nba/player/_/id/3457/brandon-rush</td>\n",
       "      <td>benign</td>\n",
       "      <td>ascii</td>\n",
       "      <td>47</td>\n",
       "      <td>espn.go.com</td>\n",
       "      <td>&lt;NA&gt;</td>\n",
       "      <td></td>\n",
       "      <td>/nba/player/_/id/3457/brandon-rush</td>\n",
       "      <td></td>\n",
       "      <td></td>\n",
       "    </tr>\n",
       "    <tr>\n",
       "      <th>7</th>\n",
       "      <td>//yourbittorrent.com/?q=anthony-hamilton-soulife</td>\n",
       "      <td>benign</td>\n",
       "      <td>ascii</td>\n",
       "      <td>48</td>\n",
       "      <td>yourbittorrent.com</td>\n",
       "      <td>&lt;NA&gt;</td>\n",
       "      <td></td>\n",
       "      <td>/</td>\n",
       "      <td>q=anthony-hamilton-soulife</td>\n",
       "      <td></td>\n",
       "    </tr>\n",
       "    <tr>\n",
       "      <th>8</th>\n",
       "      <td>http://www.pashminaonline.com/pure-pashminas</td>\n",
       "      <td>defacement</td>\n",
       "      <td>ascii</td>\n",
       "      <td>44</td>\n",
       "      <td>www.pashminaonline.com</td>\n",
       "      <td>&lt;NA&gt;</td>\n",
       "      <td>http</td>\n",
       "      <td>/pure-pashminas</td>\n",
       "      <td></td>\n",
       "      <td></td>\n",
       "    </tr>\n",
       "    <tr>\n",
       "      <th>9</th>\n",
       "      <td>//allmusic.com/album/crazy-from-the-heat-r16990</td>\n",
       "      <td>benign</td>\n",
       "      <td>ascii</td>\n",
       "      <td>47</td>\n",
       "      <td>allmusic.com</td>\n",
       "      <td>&lt;NA&gt;</td>\n",
       "      <td></td>\n",
       "      <td>/album/crazy-from-the-heat-r16990</td>\n",
       "      <td></td>\n",
       "      <td></td>\n",
       "    </tr>\n",
       "  </tbody>\n",
       "</table>\n",
       "</div>"
      ],
      "text/plain": [
       "                                                 url        type encoding  \\\n",
       "0                                 //br-icloud.com.br    phishing    ascii   \n",
       "1              //mp3raid.com/music/krizz_kaliko.html      benign    ascii   \n",
       "2                  //bopsecrets.org/rexroth/cr/1.htm      benign    ascii   \n",
       "3  http://www.garage-pirenne.be/index.php?option=...  defacement    ascii   \n",
       "4  http://adventure-nicaragua.net/index.php?optio...  defacement    ascii   \n",
       "5  http://buzzfil.net/m/show-art/ils-etaient-loin...      benign    ascii   \n",
       "6    //espn.go.com/nba/player/_/id/3457/brandon-rush      benign    ascii   \n",
       "7   //yourbittorrent.com/?q=anthony-hamilton-soulife      benign    ascii   \n",
       "8       http://www.pashminaonline.com/pure-pashminas  defacement    ascii   \n",
       "9    //allmusic.com/album/crazy-from-the-heat-r16990      benign    ascii   \n",
       "\n",
       "   length                 hostname  port protocol  \\\n",
       "0      18         br-icloud.com.br  <NA>            \n",
       "1      37              mp3raid.com  <NA>            \n",
       "2      33           bopsecrets.org  <NA>            \n",
       "3      88    www.garage-pirenne.be  <NA>     http   \n",
       "4     235  adventure-nicaragua.net  <NA>     http   \n",
       "5     118              buzzfil.net  <NA>     http   \n",
       "6      47              espn.go.com  <NA>            \n",
       "7      48       yourbittorrent.com  <NA>            \n",
       "8      44   www.pashminaonline.com  <NA>     http   \n",
       "9      47             allmusic.com  <NA>            \n",
       "\n",
       "                                                path  \\\n",
       "0                                                      \n",
       "1                           /music/krizz_kaliko.html   \n",
       "2                                  /rexroth/cr/1.htm   \n",
       "3                                         /index.php   \n",
       "4                                         /index.php   \n",
       "5  /m/show-art/ils-etaient-loin-de-s-imaginer-que...   \n",
       "6                 /nba/player/_/id/3457/brandon-rush   \n",
       "7                                                  /   \n",
       "8                                    /pure-pashminas   \n",
       "9                  /album/crazy-from-the-heat-r16990   \n",
       "\n",
       "                                               query fragment  \n",
       "0                                                              \n",
       "1                                                              \n",
       "2                                                              \n",
       "3  option=com_content&view=article&id=70&vsig70_0=15           \n",
       "4  option=com_mailto&tmpl=component&link=aHR0cDov...           \n",
       "5                                                              \n",
       "6                                                              \n",
       "7                         q=anthony-hamilton-soulife           \n",
       "8                                                              \n",
       "9                                                              "
      ]
     },
     "execution_count": 269,
     "metadata": {},
     "output_type": "execute_result"
    }
   ],
   "source": [
    "df['length'] = df['url'].apply(lambda x: len(str(x)))\n",
    "\n",
    "urls = df['url'].apply(urlparse)\n",
    "\n",
    "df['hostname'] = urls.apply(lambda x: x.hostname)\n",
    "df['port'] = urls.apply(lambda x: x.port).astype('Int64')\n",
    "df['protocol'] = urls.apply(lambda x: x.scheme)\n",
    "df['path'] = urls.apply(lambda x: x.path)\n",
    "df['query'] = urls.apply(lambda x: x.query)\n",
    "df['fragment'] = urls.apply(lambda x: x.fragment)\n",
    "\n",
    "df.head(10)"
   ]
  },
  {
   "cell_type": "code",
   "execution_count": 270,
   "metadata": {},
   "outputs": [
    {
     "data": {
      "text/plain": [
       "<IntegerArray>\n",
       "[ <NA>,  8001,  7674,  8881,  8890,  9010,   444,  7890,    84,  8080,\n",
       " ...\n",
       "    83, 10080,    88, 49160,  8002,  8008,  8090,  8000,    70,  8192]\n",
       "Length: 3875, dtype: Int64"
      ]
     },
     "execution_count": 270,
     "metadata": {},
     "output_type": "execute_result"
    }
   ],
   "source": [
    "df['port'].unique()"
   ]
  },
  {
   "cell_type": "code",
   "execution_count": 271,
   "metadata": {},
   "outputs": [
    {
     "data": {
      "image/png": "[encoded data removed]",
      "text/plain": [
       "<Figure size 1000x1000 with 2 Axes>"
      ]
     },
     "metadata": {},
     "output_type": "display_data"
    }
   ],
   "source": [
    "benign = df.query(expr='type == \"benign\"')['port'].value_counts()\n",
    "malicious= df.query(expr='type != \"benign\"')['port'].value_counts()\n",
    "malicious.drop(malicious.iloc[25:].index, inplace=True)\n",
    "\n",
    "fig, axs = plt.subplots(2, 1, figsize=(10, 10), sharex=True)\n",
    "ax1 = axs[0]\n",
    "ax2 = axs[1]\n",
    "benign.sort_index(ascending=False).plot.barh(ax=ax1)\n",
    "ax1.set_title('benign (all)')\n",
    "malicious.sort_index(ascending=False).plot.barh(ax=ax2)\n",
    "ax2.set_title('malicious (top 25)')\n",
    "fig.text(0.5, 0.04, 'frequency', ha='center')\n",
    "fig.text(0.04, 0.5, 'port', va='center', rotation='vertical')\n",
    "\n",
    "plt.show()"
   ]
  },
  {
   "cell_type": "code",
   "execution_count": 272,
   "metadata": {},
   "outputs": [],
   "source": [
    "from urllib.parse import parse_qs\n",
    "\n",
    "df['query_length'] = df['query'].apply(lambda x: len(str(x)))\n",
    "\n",
    "df['query_args'] = df['query'].apply(lambda x: len(parse_qs(x)))"
   ]
  },
  {
   "cell_type": "code",
   "execution_count": 273,
   "metadata": {},
   "outputs": [],
   "source": [
    "from pathlib import Path\n",
    "\n",
    "df['path_length'] = df['path'].apply(lambda x: len(str(x)))\n",
    "\n",
    "df['path_depth'] = df['path'].apply(lambda x: len(Path(str(x)).parents))"
   ]
  },
  {
   "cell_type": "code",
   "execution_count": 274,
   "metadata": {},
   "outputs": [],
   "source": [
    "import ipaddress\n",
    "import tldextract as tldx\n",
    "\n",
    "def is_ip(url):\n",
    "    try:\n",
    "        ip = ipaddress.ip_address(url)\n",
    "    except:\n",
    "        return False\n",
    "    return str(ip) == url\n",
    "\n",
    "def count_subdomains(hostname, has_ip):\n",
    "    if has_ip:\n",
    "        return 0\n",
    "    else:\n",
    "        ext = tldx.extract(hostname)\n",
    "        return len(ext.subdomain.split('.'))\n",
    "\n",
    "def extract_tld(hostname, has_ip):\n",
    "    if has_ip:\n",
    "        return ''\n",
    "    else:\n",
    "        ext = tldx.extract(hostname)\n",
    "        return ext.suffix\n",
    "    \n",
    "\n",
    "df['hostname_length'] = df['hostname'].apply(lambda x: len(str(x)))\n",
    "df['has_ip'] = df['hostname'].apply(lambda x: 1 if is_ip(str(x)) else 0)\n",
    "df['num_subdomains'] = df.apply(lambda row: count_subdomains(row['hostname'], row['has_ip']), axis=1)\n",
    "df['tld'] = df.apply(lambda row: extract_tld(row['hostname'], row['has_ip']), axis=1)"
   ]
  },
  {
   "cell_type": "code",
   "execution_count": 275,
   "metadata": {},
   "outputs": [
    {
     "data": {
      "image/png": "[encoded data removed]",
      "text/plain": [
       "<Figure size 1000x1000 with 6 Axes>"
      ]
     },
     "metadata": {},
     "output_type": "display_data"
    }
   ],
   "source": [
    "features = ['query_length', 'query_args', 'path_length', 'path_depth', 'hostname_length', 'num_subdomains']\n",
    "\n",
    "fig, axs = plt.subplots(nrows=3, ncols=2, figsize=(10, 10))\n",
    "\n",
    "for i, feature in enumerate(features):\n",
    "    row = i // 2\n",
    "    col = i % 2\n",
    "    ax = axs[row, col]\n",
    "    ax.boxplot([df[df['type'] == t][feature] for t in df['type'].unique()])\n",
    "    ax.set_title(feature)\n",
    "    ax.set_xticklabels(df['type'].unique())\n",
    "    if(feature in ['query_length', 'path_length', 'hostname_length']):\n",
    "        ax.set_yscale('symlog')\n",
    "\n",
    "plt.show()"
   ]
  },
  {
   "cell_type": "code",
   "execution_count": 276,
   "metadata": {},
   "outputs": [],
   "source": [
    "df['has_urlencoded_char'] = df['url'].apply(lambda x: 1 if '%' in str(x) else 0)\n",
    "df['is_abnormal_url'] = df['protocol'].apply(lambda x: 1 if str(x) == '' else 0)\n",
    "df['has_fragment'] = df['fragment'].apply(lambda x: 1 if str(x) != '' else 0)"
   ]
  },
  {
   "cell_type": "code",
   "execution_count": 277,
   "metadata": {},
   "outputs": [
    {
     "data": {
      "text/plain": [
       "1112"
      ]
     },
     "execution_count": 277,
     "metadata": {},
     "output_type": "execute_result"
    }
   ],
   "source": [
    "# Match URL shorteners\n",
    "SHORTENERS = 'datasets/shorteners.txt'\n",
    "\n",
    "with open(SHORTENERS, 'r') as f:\n",
    "    shorteners = [line.strip() for line in f.readlines()]\n",
    "\n",
    "df['is_shortener'] = df['hostname'].apply(lambda x: 1 if x in shorteners else 0)\n",
    "\n",
    "df.query('is_shortener == 1')['url'].count()"
   ]
  },
  {
   "cell_type": "code",
   "execution_count": 278,
   "metadata": {},
   "outputs": [
    {
     "data": {
      "image/png": "[encoded data removed]",
      "text/plain": [
       "<Figure size 1000x1000 with 4 Axes>"
      ]
     },
     "metadata": {},
     "output_type": "display_data"
    }
   ],
   "source": [
    "features = ['has_urlencoded_char', 'is_shortener', 'is_abnormal_url', 'has_fragment']\n",
    "\n",
    "fig, axes = plt.subplots(nrows=2, ncols=2, figsize=(10, 10))\n",
    "for i, feature in enumerate(features):\n",
    "    row = i // 2\n",
    "    col = i % 2\n",
    "    ax = axes[row, col]\n",
    "    bars = df[df[feature] == True].groupby('type')[feature].count().plot.bar(ax=ax, rot=0)\n",
    "    ax.set_title(feature)\n",
    "\n",
    "plt.tight_layout()\n",
    "plt.show()"
   ]
  },
  {
   "cell_type": "code",
   "execution_count": 279,
   "metadata": {},
   "outputs": [
    {
     "data": {
      "text/plain": [
       "<Axes: >"
      ]
     },
     "execution_count": 279,
     "metadata": {},
     "output_type": "execute_result"
    },
    {
     "data": {
      "image/png": "[encoded data removed]",
      "text/plain": [
       "<Figure size 640x480 with 2 Axes>"
      ]
     },
     "metadata": {},
     "output_type": "display_data"
    }
   ],
   "source": [
    "import seaborn as sns\n",
    "\n",
    "plt.figure()\n",
    "temp_df = pd.DataFrame(df)\n",
    "temp_df['type'] = temp_df['type'].apply(lambda x: 1 if x == 'defacement' else 2 if x == 'phishing' else 3 if x == 'malware' else 0)\n",
    "sns.heatmap(temp_df.corr(numeric_only=True), linewidths=.5)"
   ]
  },
  {
   "attachments": {},
   "cell_type": "markdown",
   "metadata": {},
   "source": [
    "## Training set"
   ]
  },
  {
   "cell_type": "code",
   "execution_count": 280,
   "metadata": {},
   "outputs": [
    {
     "data": {
      "text/html": [
       "<div>\n",
       "<style scoped>\n",
       "    .dataframe tbody tr th:only-of-type {\n",
       "        vertical-align: middle;\n",
       "    }\n",
       "\n",
       "    .dataframe tbody tr th {\n",
       "        vertical-align: top;\n",
       "    }\n",
       "\n",
       "    .dataframe thead th {\n",
       "        text-align: right;\n",
       "    }\n",
       "</style>\n",
       "<table border=\"1\" class=\"dataframe\">\n",
       "  <thead>\n",
       "    <tr style=\"text-align: right;\">\n",
       "      <th></th>\n",
       "      <th>encoding</th>\n",
       "      <th>length</th>\n",
       "      <th>port</th>\n",
       "      <th>protocol</th>\n",
       "      <th>query_length</th>\n",
       "      <th>query_args</th>\n",
       "      <th>path_length</th>\n",
       "      <th>path_depth</th>\n",
       "      <th>hostname_length</th>\n",
       "      <th>has_ip</th>\n",
       "      <th>num_subdomains</th>\n",
       "      <th>tld</th>\n",
       "      <th>has_urlencoded_char</th>\n",
       "      <th>is_abnormal_url</th>\n",
       "      <th>has_fragment</th>\n",
       "      <th>is_shortener</th>\n",
       "    </tr>\n",
       "  </thead>\n",
       "  <tbody>\n",
       "    <tr>\n",
       "      <th>count</th>\n",
       "      <td>641013</td>\n",
       "      <td>641014.000000</td>\n",
       "      <td>5141.0</td>\n",
       "      <td>641014</td>\n",
       "      <td>641014.000000</td>\n",
       "      <td>641014.000000</td>\n",
       "      <td>641014.000000</td>\n",
       "      <td>641014.000000</td>\n",
       "      <td>641014.000000</td>\n",
       "      <td>641014.000000</td>\n",
       "      <td>641014.000000</td>\n",
       "      <td>641014</td>\n",
       "      <td>641014.000000</td>\n",
       "      <td>641014.000000</td>\n",
       "      <td>641014.000000</td>\n",
       "      <td>641014.000000</td>\n",
       "    </tr>\n",
       "    <tr>\n",
       "      <th>unique</th>\n",
       "      <td>7</td>\n",
       "      <td>NaN</td>\n",
       "      <td>&lt;NA&gt;</td>\n",
       "      <td>4</td>\n",
       "      <td>NaN</td>\n",
       "      <td>NaN</td>\n",
       "      <td>NaN</td>\n",
       "      <td>NaN</td>\n",
       "      <td>NaN</td>\n",
       "      <td>NaN</td>\n",
       "      <td>NaN</td>\n",
       "      <td>886</td>\n",
       "      <td>NaN</td>\n",
       "      <td>NaN</td>\n",
       "      <td>NaN</td>\n",
       "      <td>NaN</td>\n",
       "    </tr>\n",
       "    <tr>\n",
       "      <th>top</th>\n",
       "      <td>ascii</td>\n",
       "      <td>NaN</td>\n",
       "      <td>&lt;NA&gt;</td>\n",
       "      <td></td>\n",
       "      <td>NaN</td>\n",
       "      <td>NaN</td>\n",
       "      <td>NaN</td>\n",
       "      <td>NaN</td>\n",
       "      <td>NaN</td>\n",
       "      <td>NaN</td>\n",
       "      <td>NaN</td>\n",
       "      <td>com</td>\n",
       "      <td>NaN</td>\n",
       "      <td>NaN</td>\n",
       "      <td>NaN</td>\n",
       "      <td>NaN</td>\n",
       "    </tr>\n",
       "    <tr>\n",
       "      <th>freq</th>\n",
       "      <td>640203</td>\n",
       "      <td>NaN</td>\n",
       "      <td>&lt;NA&gt;</td>\n",
       "      <td>463070</td>\n",
       "      <td>NaN</td>\n",
       "      <td>NaN</td>\n",
       "      <td>NaN</td>\n",
       "      <td>NaN</td>\n",
       "      <td>NaN</td>\n",
       "      <td>NaN</td>\n",
       "      <td>NaN</td>\n",
       "      <td>393890</td>\n",
       "      <td>NaN</td>\n",
       "      <td>NaN</td>\n",
       "      <td>NaN</td>\n",
       "      <td>NaN</td>\n",
       "    </tr>\n",
       "    <tr>\n",
       "      <th>mean</th>\n",
       "      <td>NaN</td>\n",
       "      <td>61.200038</td>\n",
       "      <td>42396.71951</td>\n",
       "      <td>NaN</td>\n",
       "      <td>11.572874</td>\n",
       "      <td>0.544636</td>\n",
       "      <td>28.513716</td>\n",
       "      <td>2.074264</td>\n",
       "      <td>17.405997</td>\n",
       "      <td>0.018917</td>\n",
       "      <td>1.086831</td>\n",
       "      <td>NaN</td>\n",
       "      <td>0.036294</td>\n",
       "      <td>0.722402</td>\n",
       "      <td>0.000694</td>\n",
       "      <td>0.001735</td>\n",
       "    </tr>\n",
       "    <tr>\n",
       "      <th>std</th>\n",
       "      <td>NaN</td>\n",
       "      <td>44.552114</td>\n",
       "      <td>14914.113409</td>\n",
       "      <td>NaN</td>\n",
       "      <td>34.030121</td>\n",
       "      <td>1.361899</td>\n",
       "      <td>27.937355</td>\n",
       "      <td>1.593860</td>\n",
       "      <td>11.351191</td>\n",
       "      <td>0.136232</td>\n",
       "      <td>0.818694</td>\n",
       "      <td>NaN</td>\n",
       "      <td>0.187021</td>\n",
       "      <td>0.447814</td>\n",
       "      <td>0.026339</td>\n",
       "      <td>0.041614</td>\n",
       "    </tr>\n",
       "    <tr>\n",
       "      <th>min</th>\n",
       "      <td>NaN</td>\n",
       "      <td>7.000000</td>\n",
       "      <td>70.0</td>\n",
       "      <td>NaN</td>\n",
       "      <td>0.000000</td>\n",
       "      <td>0.000000</td>\n",
       "      <td>0.000000</td>\n",
       "      <td>0.000000</td>\n",
       "      <td>2.000000</td>\n",
       "      <td>0.000000</td>\n",
       "      <td>0.000000</td>\n",
       "      <td>NaN</td>\n",
       "      <td>0.000000</td>\n",
       "      <td>0.000000</td>\n",
       "      <td>0.000000</td>\n",
       "      <td>0.000000</td>\n",
       "    </tr>\n",
       "    <tr>\n",
       "      <th>25%</th>\n",
       "      <td>NaN</td>\n",
       "      <td>33.000000</td>\n",
       "      <td>36851.0</td>\n",
       "      <td>NaN</td>\n",
       "      <td>0.000000</td>\n",
       "      <td>0.000000</td>\n",
       "      <td>10.000000</td>\n",
       "      <td>1.000000</td>\n",
       "      <td>12.000000</td>\n",
       "      <td>0.000000</td>\n",
       "      <td>1.000000</td>\n",
       "      <td>NaN</td>\n",
       "      <td>0.000000</td>\n",
       "      <td>0.000000</td>\n",
       "      <td>0.000000</td>\n",
       "      <td>0.000000</td>\n",
       "    </tr>\n",
       "    <tr>\n",
       "      <th>50%</th>\n",
       "      <td>NaN</td>\n",
       "      <td>48.000000</td>\n",
       "      <td>45211.0</td>\n",
       "      <td>NaN</td>\n",
       "      <td>0.000000</td>\n",
       "      <td>0.000000</td>\n",
       "      <td>21.000000</td>\n",
       "      <td>2.000000</td>\n",
       "      <td>16.000000</td>\n",
       "      <td>0.000000</td>\n",
       "      <td>1.000000</td>\n",
       "      <td>NaN</td>\n",
       "      <td>0.000000</td>\n",
       "      <td>1.000000</td>\n",
       "      <td>0.000000</td>\n",
       "      <td>0.000000</td>\n",
       "    </tr>\n",
       "    <tr>\n",
       "      <th>75%</th>\n",
       "      <td>NaN</td>\n",
       "      <td>78.000000</td>\n",
       "      <td>53106.0</td>\n",
       "      <td>NaN</td>\n",
       "      <td>0.000000</td>\n",
       "      <td>0.000000</td>\n",
       "      <td>39.000000</td>\n",
       "      <td>3.000000</td>\n",
       "      <td>20.000000</td>\n",
       "      <td>0.000000</td>\n",
       "      <td>1.000000</td>\n",
       "      <td>NaN</td>\n",
       "      <td>0.000000</td>\n",
       "      <td>1.000000</td>\n",
       "      <td>0.000000</td>\n",
       "      <td>0.000000</td>\n",
       "    </tr>\n",
       "    <tr>\n",
       "      <th>max</th>\n",
       "      <td>NaN</td>\n",
       "      <td>2177.000000</td>\n",
       "      <td>65509.0</td>\n",
       "      <td>NaN</td>\n",
       "      <td>2005.000000</td>\n",
       "      <td>51.000000</td>\n",
       "      <td>2156.000000</td>\n",
       "      <td>38.000000</td>\n",
       "      <td>248.000000</td>\n",
       "      <td>1.000000</td>\n",
       "      <td>33.000000</td>\n",
       "      <td>NaN</td>\n",
       "      <td>1.000000</td>\n",
       "      <td>1.000000</td>\n",
       "      <td>1.000000</td>\n",
       "      <td>1.000000</td>\n",
       "    </tr>\n",
       "  </tbody>\n",
       "</table>\n",
       "</div>"
      ],
      "text/plain": [
       "       encoding         length          port protocol   query_length  \\\n",
       "count    641013  641014.000000        5141.0   641014  641014.000000   \n",
       "unique        7            NaN          <NA>        4            NaN   \n",
       "top       ascii            NaN          <NA>                     NaN   \n",
       "freq     640203            NaN          <NA>   463070            NaN   \n",
       "mean        NaN      61.200038   42396.71951      NaN      11.572874   \n",
       "std         NaN      44.552114  14914.113409      NaN      34.030121   \n",
       "min         NaN       7.000000          70.0      NaN       0.000000   \n",
       "25%         NaN      33.000000       36851.0      NaN       0.000000   \n",
       "50%         NaN      48.000000       45211.0      NaN       0.000000   \n",
       "75%         NaN      78.000000       53106.0      NaN       0.000000   \n",
       "max         NaN    2177.000000       65509.0      NaN    2005.000000   \n",
       "\n",
       "           query_args    path_length     path_depth  hostname_length  \\\n",
       "count   641014.000000  641014.000000  641014.000000    641014.000000   \n",
       "unique            NaN            NaN            NaN              NaN   \n",
       "top               NaN            NaN            NaN              NaN   \n",
       "freq              NaN            NaN            NaN              NaN   \n",
       "mean         0.544636      28.513716       2.074264        17.405997   \n",
       "std          1.361899      27.937355       1.593860        11.351191   \n",
       "min          0.000000       0.000000       0.000000         2.000000   \n",
       "25%          0.000000      10.000000       1.000000        12.000000   \n",
       "50%          0.000000      21.000000       2.000000        16.000000   \n",
       "75%          0.000000      39.000000       3.000000        20.000000   \n",
       "max         51.000000    2156.000000      38.000000       248.000000   \n",
       "\n",
       "               has_ip  num_subdomains     tld  has_urlencoded_char  \\\n",
       "count   641014.000000   641014.000000  641014        641014.000000   \n",
       "unique            NaN             NaN     886                  NaN   \n",
       "top               NaN             NaN     com                  NaN   \n",
       "freq              NaN             NaN  393890                  NaN   \n",
       "mean         0.018917        1.086831     NaN             0.036294   \n",
       "std          0.136232        0.818694     NaN             0.187021   \n",
       "min          0.000000        0.000000     NaN             0.000000   \n",
       "25%          0.000000        1.000000     NaN             0.000000   \n",
       "50%          0.000000        1.000000     NaN             0.000000   \n",
       "75%          0.000000        1.000000     NaN             0.000000   \n",
       "max          1.000000       33.000000     NaN             1.000000   \n",
       "\n",
       "        is_abnormal_url   has_fragment   is_shortener  \n",
       "count     641014.000000  641014.000000  641014.000000  \n",
       "unique              NaN            NaN            NaN  \n",
       "top                 NaN            NaN            NaN  \n",
       "freq                NaN            NaN            NaN  \n",
       "mean           0.722402       0.000694       0.001735  \n",
       "std            0.447814       0.026339       0.041614  \n",
       "min            0.000000       0.000000       0.000000  \n",
       "25%            0.000000       0.000000       0.000000  \n",
       "50%            1.000000       0.000000       0.000000  \n",
       "75%            1.000000       0.000000       0.000000  \n",
       "max            1.000000       1.000000       1.000000  "
      ]
     },
     "execution_count": 280,
     "metadata": {},
     "output_type": "execute_result"
    }
   ],
   "source": [
    "train_Y = df['type']\n",
    "train_x_raw = df.drop(['url', 'type', 'hostname', 'path', 'query', 'fragment'], axis=1)\n",
    "\n",
    "train_x_raw.describe(include='all')"
   ]
  },
  {
   "cell_type": "code",
   "execution_count": 281,
   "metadata": {},
   "outputs": [
    {
     "name": "stdout",
     "output_type": "stream",
     "text": [
      "['length', 'query_length', 'query_args', 'path_length', 'path_depth', 'hostname_length', 'num_subdomains']\n",
      "['has_ip', 'has_urlencoded_char', 'is_shortener', 'is_abnormal_url', 'has_fragment']\n",
      "['encoding', 'tld', 'protocol', 'port']\n"
     ]
    },
    {
     "data": {
      "text/html": [
       "<div>\n",
       "<style scoped>\n",
       "    .dataframe tbody tr th:only-of-type {\n",
       "        vertical-align: middle;\n",
       "    }\n",
       "\n",
       "    .dataframe tbody tr th {\n",
       "        vertical-align: top;\n",
       "    }\n",
       "\n",
       "    .dataframe thead th {\n",
       "        text-align: right;\n",
       "    }\n",
       "</style>\n",
       "<table border=\"1\" class=\"dataframe\">\n",
       "  <thead>\n",
       "    <tr style=\"text-align: right;\">\n",
       "      <th></th>\n",
       "      <th>count</th>\n",
       "      <th>mean</th>\n",
       "      <th>std</th>\n",
       "      <th>min</th>\n",
       "      <th>25%</th>\n",
       "      <th>50%</th>\n",
       "      <th>75%</th>\n",
       "      <th>max</th>\n",
       "    </tr>\n",
       "  </thead>\n",
       "  <tbody>\n",
       "    <tr>\n",
       "      <th>has_ip</th>\n",
       "      <td>641014.0</td>\n",
       "      <td>0.018917</td>\n",
       "      <td>0.136232</td>\n",
       "      <td>0.0</td>\n",
       "      <td>0.0</td>\n",
       "      <td>0.0</td>\n",
       "      <td>0.0</td>\n",
       "      <td>1.0</td>\n",
       "    </tr>\n",
       "    <tr>\n",
       "      <th>has_urlencoded_char</th>\n",
       "      <td>641014.0</td>\n",
       "      <td>0.036294</td>\n",
       "      <td>0.187021</td>\n",
       "      <td>0.0</td>\n",
       "      <td>0.0</td>\n",
       "      <td>0.0</td>\n",
       "      <td>0.0</td>\n",
       "      <td>1.0</td>\n",
       "    </tr>\n",
       "    <tr>\n",
       "      <th>is_shortener</th>\n",
       "      <td>641014.0</td>\n",
       "      <td>0.001735</td>\n",
       "      <td>0.041614</td>\n",
       "      <td>0.0</td>\n",
       "      <td>0.0</td>\n",
       "      <td>0.0</td>\n",
       "      <td>0.0</td>\n",
       "      <td>1.0</td>\n",
       "    </tr>\n",
       "    <tr>\n",
       "      <th>is_abnormal_url</th>\n",
       "      <td>641014.0</td>\n",
       "      <td>0.722402</td>\n",
       "      <td>0.447814</td>\n",
       "      <td>0.0</td>\n",
       "      <td>0.0</td>\n",
       "      <td>1.0</td>\n",
       "      <td>1.0</td>\n",
       "      <td>1.0</td>\n",
       "    </tr>\n",
       "    <tr>\n",
       "      <th>has_fragment</th>\n",
       "      <td>641014.0</td>\n",
       "      <td>0.000694</td>\n",
       "      <td>0.026339</td>\n",
       "      <td>0.0</td>\n",
       "      <td>0.0</td>\n",
       "      <td>0.0</td>\n",
       "      <td>0.0</td>\n",
       "      <td>1.0</td>\n",
       "    </tr>\n",
       "  </tbody>\n",
       "</table>\n",
       "</div>"
      ],
      "text/plain": [
       "                        count      mean       std  min  25%  50%  75%  max\n",
       "has_ip               641014.0  0.018917  0.136232  0.0  0.0  0.0  0.0  1.0\n",
       "has_urlencoded_char  641014.0  0.036294  0.187021  0.0  0.0  0.0  0.0  1.0\n",
       "is_shortener         641014.0  0.001735  0.041614  0.0  0.0  0.0  0.0  1.0\n",
       "is_abnormal_url      641014.0  0.722402  0.447814  0.0  0.0  1.0  1.0  1.0\n",
       "has_fragment         641014.0  0.000694  0.026339  0.0  0.0  0.0  0.0  1.0"
      ]
     },
     "execution_count": 281,
     "metadata": {},
     "output_type": "execute_result"
    }
   ],
   "source": [
    "col_names = np.array(train_x_raw.columns)\n",
    "\n",
    "nominal_idx = [np.where(col_names == 'encoding')[0][0], np.where(col_names == 'tld')[0][0], np.where(col_names == 'protocol')[0][0], np.where(col_names == 'port')[0][0]]\n",
    "binary_idx = [np.where(col_names == 'has_ip')[0][0], np.where(col_names == 'has_urlencoded_char')[0][0], np.where(col_names == 'is_shortener')[0][0], np.where(col_names == 'is_abnormal_url')[0][0], np.where(col_names == 'has_fragment')[0][0]]\n",
    "numeric_idx = list(set(range(len(col_names))).difference(nominal_idx).difference(binary_idx))\n",
    "\n",
    "nominal_cols = col_names[nominal_idx].tolist()\n",
    "binary_cols = col_names[binary_idx].tolist()\n",
    "numeric_cols = col_names[numeric_idx].tolist()\n",
    "\n",
    "print(numeric_cols)\n",
    "print(binary_cols)\n",
    "print(nominal_cols)\n",
    "\n",
    "train_x_raw[binary_cols].describe().transpose()"
   ]
  },
  {
   "cell_type": "code",
   "execution_count": 282,
   "metadata": {},
   "outputs": [
    {
     "data": {
      "text/html": [
       "<div>\n",
       "<style scoped>\n",
       "    .dataframe tbody tr th:only-of-type {\n",
       "        vertical-align: middle;\n",
       "    }\n",
       "\n",
       "    .dataframe tbody tr th {\n",
       "        vertical-align: top;\n",
       "    }\n",
       "\n",
       "    .dataframe thead th {\n",
       "        text-align: right;\n",
       "    }\n",
       "</style>\n",
       "<table border=\"1\" class=\"dataframe\">\n",
       "  <thead>\n",
       "    <tr style=\"text-align: right;\">\n",
       "      <th></th>\n",
       "      <th>length</th>\n",
       "      <th>query_length</th>\n",
       "      <th>query_args</th>\n",
       "      <th>path_length</th>\n",
       "      <th>path_depth</th>\n",
       "      <th>hostname_length</th>\n",
       "      <th>has_ip</th>\n",
       "      <th>num_subdomains</th>\n",
       "      <th>has_urlencoded_char</th>\n",
       "      <th>is_abnormal_url</th>\n",
       "      <th>...</th>\n",
       "      <th>port_63829</th>\n",
       "      <th>port_63847</th>\n",
       "      <th>port_63892</th>\n",
       "      <th>port_63968</th>\n",
       "      <th>port_64238</th>\n",
       "      <th>port_64752</th>\n",
       "      <th>port_65364</th>\n",
       "      <th>port_65408</th>\n",
       "      <th>port_65440</th>\n",
       "      <th>port_65509</th>\n",
       "    </tr>\n",
       "  </thead>\n",
       "  <tbody>\n",
       "    <tr>\n",
       "      <th>count</th>\n",
       "      <td>641014.000000</td>\n",
       "      <td>641014.000000</td>\n",
       "      <td>641014.000000</td>\n",
       "      <td>641014.000000</td>\n",
       "      <td>641014.000000</td>\n",
       "      <td>641014.000000</td>\n",
       "      <td>641014.000000</td>\n",
       "      <td>641014.000000</td>\n",
       "      <td>641014.000000</td>\n",
       "      <td>641014.000000</td>\n",
       "      <td>...</td>\n",
       "      <td>641014.000000</td>\n",
       "      <td>641014.000000</td>\n",
       "      <td>641014.000000</td>\n",
       "      <td>641014.000000</td>\n",
       "      <td>641014.000000</td>\n",
       "      <td>641014.000000</td>\n",
       "      <td>641014.000000</td>\n",
       "      <td>641014.000000</td>\n",
       "      <td>641014.000000</td>\n",
       "      <td>641014.000000</td>\n",
       "    </tr>\n",
       "    <tr>\n",
       "      <th>mean</th>\n",
       "      <td>61.200038</td>\n",
       "      <td>11.572874</td>\n",
       "      <td>0.544636</td>\n",
       "      <td>28.513716</td>\n",
       "      <td>2.074264</td>\n",
       "      <td>17.405997</td>\n",
       "      <td>0.018917</td>\n",
       "      <td>1.086831</td>\n",
       "      <td>0.036294</td>\n",
       "      <td>0.722402</td>\n",
       "      <td>...</td>\n",
       "      <td>0.000002</td>\n",
       "      <td>0.000002</td>\n",
       "      <td>0.000002</td>\n",
       "      <td>0.000002</td>\n",
       "      <td>0.000002</td>\n",
       "      <td>0.000002</td>\n",
       "      <td>0.000002</td>\n",
       "      <td>0.000002</td>\n",
       "      <td>0.000002</td>\n",
       "      <td>0.000002</td>\n",
       "    </tr>\n",
       "    <tr>\n",
       "      <th>std</th>\n",
       "      <td>44.552114</td>\n",
       "      <td>34.030121</td>\n",
       "      <td>1.361899</td>\n",
       "      <td>27.937355</td>\n",
       "      <td>1.593860</td>\n",
       "      <td>11.351191</td>\n",
       "      <td>0.136232</td>\n",
       "      <td>0.818694</td>\n",
       "      <td>0.187021</td>\n",
       "      <td>0.447814</td>\n",
       "      <td>...</td>\n",
       "      <td>0.001249</td>\n",
       "      <td>0.001249</td>\n",
       "      <td>0.001249</td>\n",
       "      <td>0.001249</td>\n",
       "      <td>0.001249</td>\n",
       "      <td>0.001249</td>\n",
       "      <td>0.001249</td>\n",
       "      <td>0.001249</td>\n",
       "      <td>0.001249</td>\n",
       "      <td>0.001249</td>\n",
       "    </tr>\n",
       "    <tr>\n",
       "      <th>min</th>\n",
       "      <td>7.000000</td>\n",
       "      <td>0.000000</td>\n",
       "      <td>0.000000</td>\n",
       "      <td>0.000000</td>\n",
       "      <td>0.000000</td>\n",
       "      <td>2.000000</td>\n",
       "      <td>0.000000</td>\n",
       "      <td>0.000000</td>\n",
       "      <td>0.000000</td>\n",
       "      <td>0.000000</td>\n",
       "      <td>...</td>\n",
       "      <td>0.000000</td>\n",
       "      <td>0.000000</td>\n",
       "      <td>0.000000</td>\n",
       "      <td>0.000000</td>\n",
       "      <td>0.000000</td>\n",
       "      <td>0.000000</td>\n",
       "      <td>0.000000</td>\n",
       "      <td>0.000000</td>\n",
       "      <td>0.000000</td>\n",
       "      <td>0.000000</td>\n",
       "    </tr>\n",
       "    <tr>\n",
       "      <th>25%</th>\n",
       "      <td>33.000000</td>\n",
       "      <td>0.000000</td>\n",
       "      <td>0.000000</td>\n",
       "      <td>10.000000</td>\n",
       "      <td>1.000000</td>\n",
       "      <td>12.000000</td>\n",
       "      <td>0.000000</td>\n",
       "      <td>1.000000</td>\n",
       "      <td>0.000000</td>\n",
       "      <td>0.000000</td>\n",
       "      <td>...</td>\n",
       "      <td>0.000000</td>\n",
       "      <td>0.000000</td>\n",
       "      <td>0.000000</td>\n",
       "      <td>0.000000</td>\n",
       "      <td>0.000000</td>\n",
       "      <td>0.000000</td>\n",
       "      <td>0.000000</td>\n",
       "      <td>0.000000</td>\n",
       "      <td>0.000000</td>\n",
       "      <td>0.000000</td>\n",
       "    </tr>\n",
       "    <tr>\n",
       "      <th>50%</th>\n",
       "      <td>48.000000</td>\n",
       "      <td>0.000000</td>\n",
       "      <td>0.000000</td>\n",
       "      <td>21.000000</td>\n",
       "      <td>2.000000</td>\n",
       "      <td>16.000000</td>\n",
       "      <td>0.000000</td>\n",
       "      <td>1.000000</td>\n",
       "      <td>0.000000</td>\n",
       "      <td>1.000000</td>\n",
       "      <td>...</td>\n",
       "      <td>0.000000</td>\n",
       "      <td>0.000000</td>\n",
       "      <td>0.000000</td>\n",
       "      <td>0.000000</td>\n",
       "      <td>0.000000</td>\n",
       "      <td>0.000000</td>\n",
       "      <td>0.000000</td>\n",
       "      <td>0.000000</td>\n",
       "      <td>0.000000</td>\n",
       "      <td>0.000000</td>\n",
       "    </tr>\n",
       "    <tr>\n",
       "      <th>75%</th>\n",
       "      <td>78.000000</td>\n",
       "      <td>0.000000</td>\n",
       "      <td>0.000000</td>\n",
       "      <td>39.000000</td>\n",
       "      <td>3.000000</td>\n",
       "      <td>20.000000</td>\n",
       "      <td>0.000000</td>\n",
       "      <td>1.000000</td>\n",
       "      <td>0.000000</td>\n",
       "      <td>1.000000</td>\n",
       "      <td>...</td>\n",
       "      <td>0.000000</td>\n",
       "      <td>0.000000</td>\n",
       "      <td>0.000000</td>\n",
       "      <td>0.000000</td>\n",
       "      <td>0.000000</td>\n",
       "      <td>0.000000</td>\n",
       "      <td>0.000000</td>\n",
       "      <td>0.000000</td>\n",
       "      <td>0.000000</td>\n",
       "      <td>0.000000</td>\n",
       "    </tr>\n",
       "    <tr>\n",
       "      <th>max</th>\n",
       "      <td>2177.000000</td>\n",
       "      <td>2005.000000</td>\n",
       "      <td>51.000000</td>\n",
       "      <td>2156.000000</td>\n",
       "      <td>38.000000</td>\n",
       "      <td>248.000000</td>\n",
       "      <td>1.000000</td>\n",
       "      <td>33.000000</td>\n",
       "      <td>1.000000</td>\n",
       "      <td>1.000000</td>\n",
       "      <td>...</td>\n",
       "      <td>1.000000</td>\n",
       "      <td>1.000000</td>\n",
       "      <td>1.000000</td>\n",
       "      <td>1.000000</td>\n",
       "      <td>1.000000</td>\n",
       "      <td>1.000000</td>\n",
       "      <td>1.000000</td>\n",
       "      <td>1.000000</td>\n",
       "      <td>1.000000</td>\n",
       "      <td>1.000000</td>\n",
       "    </tr>\n",
       "  </tbody>\n",
       "</table>\n",
       "<p>8 rows × 4779 columns</p>\n",
       "</div>"
      ],
      "text/plain": [
       "              length   query_length     query_args    path_length  \\\n",
       "count  641014.000000  641014.000000  641014.000000  641014.000000   \n",
       "mean       61.200038      11.572874       0.544636      28.513716   \n",
       "std        44.552114      34.030121       1.361899      27.937355   \n",
       "min         7.000000       0.000000       0.000000       0.000000   \n",
       "25%        33.000000       0.000000       0.000000      10.000000   \n",
       "50%        48.000000       0.000000       0.000000      21.000000   \n",
       "75%        78.000000       0.000000       0.000000      39.000000   \n",
       "max      2177.000000    2005.000000      51.000000    2156.000000   \n",
       "\n",
       "          path_depth  hostname_length         has_ip  num_subdomains  \\\n",
       "count  641014.000000    641014.000000  641014.000000   641014.000000   \n",
       "mean        2.074264        17.405997       0.018917        1.086831   \n",
       "std         1.593860        11.351191       0.136232        0.818694   \n",
       "min         0.000000         2.000000       0.000000        0.000000   \n",
       "25%         1.000000        12.000000       0.000000        1.000000   \n",
       "50%         2.000000        16.000000       0.000000        1.000000   \n",
       "75%         3.000000        20.000000       0.000000        1.000000   \n",
       "max        38.000000       248.000000       1.000000       33.000000   \n",
       "\n",
       "       has_urlencoded_char  is_abnormal_url  ...     port_63829  \\\n",
       "count        641014.000000    641014.000000  ...  641014.000000   \n",
       "mean              0.036294         0.722402  ...       0.000002   \n",
       "std               0.187021         0.447814  ...       0.001249   \n",
       "min               0.000000         0.000000  ...       0.000000   \n",
       "25%               0.000000         0.000000  ...       0.000000   \n",
       "50%               0.000000         1.000000  ...       0.000000   \n",
       "75%               0.000000         1.000000  ...       0.000000   \n",
       "max               1.000000         1.000000  ...       1.000000   \n",
       "\n",
       "          port_63847     port_63892     port_63968     port_64238  \\\n",
       "count  641014.000000  641014.000000  641014.000000  641014.000000   \n",
       "mean        0.000002       0.000002       0.000002       0.000002   \n",
       "std         0.001249       0.001249       0.001249       0.001249   \n",
       "min         0.000000       0.000000       0.000000       0.000000   \n",
       "25%         0.000000       0.000000       0.000000       0.000000   \n",
       "50%         0.000000       0.000000       0.000000       0.000000   \n",
       "75%         0.000000       0.000000       0.000000       0.000000   \n",
       "max         1.000000       1.000000       1.000000       1.000000   \n",
       "\n",
       "          port_64752     port_65364     port_65408     port_65440  \\\n",
       "count  641014.000000  641014.000000  641014.000000  641014.000000   \n",
       "mean        0.000002       0.000002       0.000002       0.000002   \n",
       "std         0.001249       0.001249       0.001249       0.001249   \n",
       "min         0.000000       0.000000       0.000000       0.000000   \n",
       "25%         0.000000       0.000000       0.000000       0.000000   \n",
       "50%         0.000000       0.000000       0.000000       0.000000   \n",
       "75%         0.000000       0.000000       0.000000       0.000000   \n",
       "max         1.000000       1.000000       1.000000       1.000000   \n",
       "\n",
       "          port_65509  \n",
       "count  641014.000000  \n",
       "mean        0.000002  \n",
       "std         0.001249  \n",
       "min         0.000000  \n",
       "25%         0.000000  \n",
       "50%         0.000000  \n",
       "75%         0.000000  \n",
       "max         1.000000  \n",
       "\n",
       "[8 rows x 4779 columns]"
      ]
     },
     "execution_count": 282,
     "metadata": {},
     "output_type": "execute_result"
    }
   ],
   "source": [
    "train_x = pd.get_dummies(train_x_raw, columns=nominal_cols, drop_first=True)\n",
    "dummy_variables = list(set(train_x)-set(train_x_raw))\n",
    "train_x.describe()"
   ]
  },
  {
   "cell_type": "code",
   "execution_count": 283,
   "metadata": {},
   "outputs": [
    {
     "data": {
      "text/html": [
       "<div>\n",
       "<style scoped>\n",
       "    .dataframe tbody tr th:only-of-type {\n",
       "        vertical-align: middle;\n",
       "    }\n",
       "\n",
       "    .dataframe tbody tr th {\n",
       "        vertical-align: top;\n",
       "    }\n",
       "\n",
       "    .dataframe thead th {\n",
       "        text-align: right;\n",
       "    }\n",
       "</style>\n",
       "<table border=\"1\" class=\"dataframe\">\n",
       "  <thead>\n",
       "    <tr style=\"text-align: right;\">\n",
       "      <th></th>\n",
       "      <th>length</th>\n",
       "      <th>query_length</th>\n",
       "      <th>query_args</th>\n",
       "      <th>path_length</th>\n",
       "      <th>path_depth</th>\n",
       "      <th>hostname_length</th>\n",
       "      <th>num_subdomains</th>\n",
       "    </tr>\n",
       "  </thead>\n",
       "  <tbody>\n",
       "    <tr>\n",
       "      <th>count</th>\n",
       "      <td>6.410140e+05</td>\n",
       "      <td>6.410140e+05</td>\n",
       "      <td>6.410140e+05</td>\n",
       "      <td>6.410140e+05</td>\n",
       "      <td>6.410140e+05</td>\n",
       "      <td>6.410140e+05</td>\n",
       "      <td>6.410140e+05</td>\n",
       "    </tr>\n",
       "    <tr>\n",
       "      <th>mean</th>\n",
       "      <td>5.320641e-19</td>\n",
       "      <td>-5.107815e-17</td>\n",
       "      <td>-2.216934e-17</td>\n",
       "      <td>2.660320e-19</td>\n",
       "      <td>8.796793e-17</td>\n",
       "      <td>-4.218825e-17</td>\n",
       "      <td>2.724611e-17</td>\n",
       "    </tr>\n",
       "    <tr>\n",
       "      <th>std</th>\n",
       "      <td>1.000001e+00</td>\n",
       "      <td>1.000001e+00</td>\n",
       "      <td>1.000001e+00</td>\n",
       "      <td>1.000001e+00</td>\n",
       "      <td>1.000001e+00</td>\n",
       "      <td>1.000001e+00</td>\n",
       "      <td>1.000001e+00</td>\n",
       "    </tr>\n",
       "    <tr>\n",
       "      <th>min</th>\n",
       "      <td>-1.216555e+00</td>\n",
       "      <td>-3.400776e-01</td>\n",
       "      <td>-3.999093e-01</td>\n",
       "      <td>-1.020631e+00</td>\n",
       "      <td>-1.301410e+00</td>\n",
       "      <td>-1.357215e+00</td>\n",
       "      <td>-1.327520e+00</td>\n",
       "    </tr>\n",
       "    <tr>\n",
       "      <th>25%</th>\n",
       "      <td>-6.329679e-01</td>\n",
       "      <td>-3.400776e-01</td>\n",
       "      <td>-3.999093e-01</td>\n",
       "      <td>-6.626873e-01</td>\n",
       "      <td>-6.740018e-01</td>\n",
       "      <td>-4.762497e-01</td>\n",
       "      <td>-1.060607e-01</td>\n",
       "    </tr>\n",
       "    <tr>\n",
       "      <th>50%</th>\n",
       "      <td>-2.962833e-01</td>\n",
       "      <td>-3.400776e-01</td>\n",
       "      <td>-3.999093e-01</td>\n",
       "      <td>-2.689489e-01</td>\n",
       "      <td>-4.659358e-02</td>\n",
       "      <td>-1.238635e-01</td>\n",
       "      <td>-1.060607e-01</td>\n",
       "    </tr>\n",
       "    <tr>\n",
       "      <th>75%</th>\n",
       "      <td>3.770859e-01</td>\n",
       "      <td>-3.400776e-01</td>\n",
       "      <td>-3.999093e-01</td>\n",
       "      <td>3.753502e-01</td>\n",
       "      <td>5.808146e-01</td>\n",
       "      <td>2.285227e-01</td>\n",
       "      <td>-1.060607e-01</td>\n",
       "    </tr>\n",
       "    <tr>\n",
       "      <th>max</th>\n",
       "      <td>4.749049e+01</td>\n",
       "      <td>5.857836e+01</td>\n",
       "      <td>3.704784e+01</td>\n",
       "      <td>7.615209e+01</td>\n",
       "      <td>2.254010e+01</td>\n",
       "      <td>2.031454e+01</td>\n",
       "      <td>3.898063e+01</td>\n",
       "    </tr>\n",
       "  </tbody>\n",
       "</table>\n",
       "</div>"
      ],
      "text/plain": [
       "             length  query_length    query_args   path_length    path_depth  \\\n",
       "count  6.410140e+05  6.410140e+05  6.410140e+05  6.410140e+05  6.410140e+05   \n",
       "mean   5.320641e-19 -5.107815e-17 -2.216934e-17  2.660320e-19  8.796793e-17   \n",
       "std    1.000001e+00  1.000001e+00  1.000001e+00  1.000001e+00  1.000001e+00   \n",
       "min   -1.216555e+00 -3.400776e-01 -3.999093e-01 -1.020631e+00 -1.301410e+00   \n",
       "25%   -6.329679e-01 -3.400776e-01 -3.999093e-01 -6.626873e-01 -6.740018e-01   \n",
       "50%   -2.962833e-01 -3.400776e-01 -3.999093e-01 -2.689489e-01 -4.659358e-02   \n",
       "75%    3.770859e-01 -3.400776e-01 -3.999093e-01  3.753502e-01  5.808146e-01   \n",
       "max    4.749049e+01  5.857836e+01  3.704784e+01  7.615209e+01  2.254010e+01   \n",
       "\n",
       "       hostname_length  num_subdomains  \n",
       "count     6.410140e+05    6.410140e+05  \n",
       "mean     -4.218825e-17    2.724611e-17  \n",
       "std       1.000001e+00    1.000001e+00  \n",
       "min      -1.357215e+00   -1.327520e+00  \n",
       "25%      -4.762497e-01   -1.060607e-01  \n",
       "50%      -1.238635e-01   -1.060607e-01  \n",
       "75%       2.285227e-01   -1.060607e-01  \n",
       "max       2.031454e+01    3.898063e+01  "
      ]
     },
     "execution_count": 283,
     "metadata": {},
     "output_type": "execute_result"
    }
   ],
   "source": [
    "# Normalize features\n",
    "from sklearn.preprocessing import StandardScaler\n",
    "\n",
    "# RobustScaler could also be used, but query_length would have mean = 11 and std = 34. Is it statistically accceptable?\n",
    "robust_scaler = StandardScaler().fit(train_x[numeric_cols])\n",
    "train_x[numeric_cols] = robust_scaler.transform(train_x[numeric_cols])\n",
    "\n",
    "train_x[numeric_cols].describe()"
   ]
  },
  {
   "cell_type": "code",
   "execution_count": 284,
   "metadata": {},
   "outputs": [],
   "source": [
    "import plotly.graph_objects as go\n",
    "import plotly.express as px\n",
    "\n",
    "from sklearn.tree import DecisionTreeClassifier\n",
    "\n",
    "def plot_feature_importance(df_train, df_test, title='Feature importance', max_tree_depth=10):\n",
    "    clf = DecisionTreeClassifier(max_depth=max_tree_depth)\n",
    "    X = df_train\n",
    "    y = df_test\n",
    "    clf = clf.fit(X, y)\n",
    "\n",
    "    feature_names = df_train.columns\n",
    "    feature_importance_df = pd.DataFrame(list(zip(clf.feature_importances_, feature_names)), columns=[\"feature_importance\", \"feature_name\"])\n",
    "    feature_importance_df = feature_importance_df.sort_values(by='feature_importance', ascending=False)\n",
    "    useless_features = list(feature_importance_df[feature_importance_df['feature_importance'] == 0]['feature_name'])\n",
    "    feature_importance_df = feature_importance_df[feature_importance_df['feature_importance'] != 0]\n",
    "\n",
    "    fig = px.bar(feature_importance_df, x=\"feature_name\", y=\"feature_importance\", log_y=True, title=title)\n",
    "    fig.show(width=900, height=500)\n",
    "    \n",
    "\n",
    "    print(\"The following features were dropped:\")\n",
    "    print(useless_features)"
   ]
  },
  {
   "cell_type": "code",
   "execution_count": 285,
   "metadata": {},
   "outputs": [
    {
     "data": {
      "application/vnd.plotly.v1+json": {
       "config": {
        "plotlyServerURL": "https://plot.ly"
       },
       "data": [
        {
         "alignmentgroup": "True",
         "hovertemplate": "feature_name=%{x}<br>feature_importance=%{y}<extra></extra>",
         "legendgroup": "",
         "marker": {
          "color": "#636efa",
          "pattern": {
           "shape": ""
          }
         },
         "name": "",
         "offsetgroup": "",
         "orientation": "v",
         "showlegend": false,
         "textposition": "auto",
         "type": "bar",
         "x": [
          "is_abnormal_url",
          "path_length",
          "hostname_length",
          "has_ip",
          "protocol_https",
          "length",
          "path_depth",
          "num_subdomains",
          "tld_com",
          "query_length",
          "tld_jp",
          "has_urlencoded_char",
          "tld_nl",
          "query_args",
          "tld_edu",
          "tld_info",
          "tld_org",
          "tld_net",
          "protocol_http",
          "tld_gov",
          "encoding_utf-8",
          "tld_de",
          "tld_co.uk",
          "tld_ca",
          "tld_cz",
          "tld_com.pl",
          "tld_com.br",
          "tld_in",
          "tld_ac.uk",
          "tld_ee",
          "tld_fr",
          "tld_com.au",
          "has_fragment",
          "tld_es",
          "tld_eu",
          "tld_dk",
          "tld_stream",
          "tld_science",
          "tld_ru",
          "tld_my",
          "tld_ms",
          "tld_biz.pl",
          "tld_review",
          "tld_com.cn",
          "tld_tc",
          "tld_online",
          "tld_ne.jp",
          "tld_org.uk",
          "tld_bg",
          "tld_pl",
          "protocol_ftp",
          "tld_hr",
          "tld_ac.at",
          "tld_bid",
          "tld_pt",
          "port_8090",
          "tld_pro",
          "tld_cn",
          "tld_ga",
          "tld_to",
          "port_8080",
          "tld_co.nz",
          "port_39182",
          "tld_trade",
          "tld_ks.us",
          "tld_vip",
          "port_39125",
          "port_59188",
          "tld_asia",
          "tld_co.ke",
          "tld_co",
          "tld_xyz",
          "tld_ml",
          "encoding_ascii"
         ],
         "xaxis": "x",
         "y": [
          0.40754699658372673,
          0.265556722704885,
          0.07001837036119192,
          0.0639267796988972,
          0.04978761029256992,
          0.043990500814473435,
          0.022034171153784594,
          0.018180052740330875,
          0.013809606182008773,
          0.01102148978898584,
          0.008919318685464299,
          0.008040021645153944,
          0.0015909936253592852,
          0.0015526234347195504,
          0.0014705266621986165,
          0.0013115171942001608,
          0.0011999902890572633,
          0.0010955897497005424,
          0.00100757348079717,
          0.0008840231341963492,
          0.0008555192624247875,
          0.0006827518577535304,
          0.0006663630559415868,
          0.0006638472173438734,
          0.0006385568909158493,
          0.0005717350933320271,
          0.00040050636038323374,
          0.0003155195262047055,
          0.0002925767136172369,
          0.00023700318589432942,
          0.00023348849770780177,
          0.00017464161690067584,
          0.0001507482694437386,
          0.0001396725233444303,
          0.00011491580371959444,
          0.00009819716381577707,
          0.0000746219028481217,
          0.00006864836313583604,
          0.00005904628911378047,
          0.00004255580602364366,
          0.00004135808301205909,
          0.00004079562509618949,
          0.000037896426925311534,
          0.000037496379089975985,
          0.00003311904576211956,
          0.000031629564875064663,
          0.000025101060661521846,
          0.0000247876340819159,
          0.00002047567763746016,
          0.000020000165058290923,
          0.00001721176767564577,
          0.00001716222071351912,
          0.000017161065475155822,
          0.000016519002643283798,
          0.000016335928143269474,
          0.00001602867442322675,
          0.00001546896091796352,
          0.000013785530998659303,
          0.000012097301282652036,
          0.00001092129883542922,
          0.00000869050122635861,
          0.000008563929593417063,
          0.000008450165549394054,
          0.00000844304579545612,
          0.000008420730279527616,
          0.000008411273481921026,
          0.000008251338124702426,
          0.000008059446540407026,
          0.000007837328714147729,
          0.000007298222293407858,
          0.000007111876121488557,
          0.000006862336608453878,
          0.000006451894017414417,
          0.000006402876778915544
         ],
         "yaxis": "y"
        }
       ],
       "layout": {
        "barmode": "relative",
        "legend": {
         "tracegroupgap": 0
        },
        "template": {
         "data": {
          "bar": [
           {
            "error_x": {
             "color": "#2a3f5f"
            },
            "error_y": {
             "color": "#2a3f5f"
            },
            "marker": {
             "line": {
              "color": "#E5ECF6",
              "width": 0.5
             },
             "pattern": {
              "fillmode": "overlay",
              "size": 10,
              "solidity": 0.2
             }
            },
            "type": "bar"
           }
          ],
          "barpolar": [
           {
            "marker": {
             "line": {
              "color": "#E5ECF6",
              "width": 0.5
             },
             "pattern": {
              "fillmode": "overlay",
              "size": 10,
              "solidity": 0.2
             }
            },
            "type": "barpolar"
           }
          ],
          "carpet": [
           {
            "aaxis": {
             "endlinecolor": "#2a3f5f",
             "gridcolor": "white",
             "linecolor": "white",
             "minorgridcolor": "white",
             "startlinecolor": "#2a3f5f"
            },
            "baxis": {
             "endlinecolor": "#2a3f5f",
             "gridcolor": "white",
             "linecolor": "white",
             "minorgridcolor": "white",
             "startlinecolor": "#2a3f5f"
            },
            "type": "carpet"
           }
          ],
          "choropleth": [
           {
            "colorbar": {
             "outlinewidth": 0,
             "ticks": ""
            },
            "type": "choropleth"
           }
          ],
          "contour": [
           {
            "colorbar": {
             "outlinewidth": 0,
             "ticks": ""
            },
            "colorscale": [
             [
              0,
              "#0d0887"
             ],
             [
              0.1111111111111111,
              "#46039f"
             ],
             [
              0.2222222222222222,
              "#7201a8"
             ],
             [
              0.3333333333333333,
              "#9c179e"
             ],
             [
              0.4444444444444444,
              "#bd3786"
             ],
             [
              0.5555555555555556,
              "#d8576b"
             ],
             [
              0.6666666666666666,
              "#ed7953"
             ],
             [
              0.7777777777777778,
              "#fb9f3a"
             ],
             [
              0.8888888888888888,
              "#fdca26"
             ],
             [
              1,
              "#f0f921"
             ]
            ],
            "type": "contour"
           }
          ],
          "contourcarpet": [
           {
            "colorbar": {
             "outlinewidth": 0,
             "ticks": ""
            },
            "type": "contourcarpet"
           }
          ],
          "heatmap": [
           {
            "colorbar": {
             "outlinewidth": 0,
             "ticks": ""
            },
            "colorscale": [
             [
              0,
              "#0d0887"
             ],
             [
              0.1111111111111111,
              "#46039f"
             ],
             [
              0.2222222222222222,
              "#7201a8"
             ],
             [
              0.3333333333333333,
              "#9c179e"
             ],
             [
              0.4444444444444444,
              "#bd3786"
             ],
             [
              0.5555555555555556,
              "#d8576b"
             ],
             [
              0.6666666666666666,
              "#ed7953"
             ],
             [
              0.7777777777777778,
              "#fb9f3a"
             ],
             [
              0.8888888888888888,
              "#fdca26"
             ],
             [
              1,
              "#f0f921"
             ]
            ],
            "type": "heatmap"
           }
          ],
          "heatmapgl": [
           {
            "colorbar": {
             "outlinewidth": 0,
             "ticks": ""
            },
            "colorscale": [
             [
              0,
              "#0d0887"
             ],
             [
              0.1111111111111111,
              "#46039f"
             ],
             [
              0.2222222222222222,
              "#7201a8"
             ],
             [
              0.3333333333333333,
              "#9c179e"
             ],
             [
              0.4444444444444444,
              "#bd3786"
             ],
             [
              0.5555555555555556,
              "#d8576b"
             ],
             [
              0.6666666666666666,
              "#ed7953"
             ],
             [
              0.7777777777777778,
              "#fb9f3a"
             ],
             [
              0.8888888888888888,
              "#fdca26"
             ],
             [
              1,
              "#f0f921"
             ]
            ],
            "type": "heatmapgl"
           }
          ],
          "histogram": [
           {
            "marker": {
             "pattern": {
              "fillmode": "overlay",
              "size": 10,
              "solidity": 0.2
             }
            },
            "type": "histogram"
           }
          ],
          "histogram2d": [
           {
            "colorbar": {
             "outlinewidth": 0,
             "ticks": ""
            },
            "colorscale": [
             [
              0,
              "#0d0887"
             ],
             [
              0.1111111111111111,
              "#46039f"
             ],
             [
              0.2222222222222222,
              "#7201a8"
             ],
             [
              0.3333333333333333,
              "#9c179e"
             ],
             [
              0.4444444444444444,
              "#bd3786"
             ],
             [
              0.5555555555555556,
              "#d8576b"
             ],
             [
              0.6666666666666666,
              "#ed7953"
             ],
             [
              0.7777777777777778,
              "#fb9f3a"
             ],
             [
              0.8888888888888888,
              "#fdca26"
             ],
             [
              1,
              "#f0f921"
             ]
            ],
            "type": "histogram2d"
           }
          ],
          "histogram2dcontour": [
           {
            "colorbar": {
             "outlinewidth": 0,
             "ticks": ""
            },
            "colorscale": [
             [
              0,
              "#0d0887"
             ],
             [
              0.1111111111111111,
              "#46039f"
             ],
             [
              0.2222222222222222,
              "#7201a8"
             ],
             [
              0.3333333333333333,
              "#9c179e"
             ],
             [
              0.4444444444444444,
              "#bd3786"
             ],
             [
              0.5555555555555556,
              "#d8576b"
             ],
             [
              0.6666666666666666,
              "#ed7953"
             ],
             [
              0.7777777777777778,
              "#fb9f3a"
             ],
             [
              0.8888888888888888,
              "#fdca26"
             ],
             [
              1,
              "#f0f921"
             ]
            ],
            "type": "histogram2dcontour"
           }
          ],
          "mesh3d": [
           {
            "colorbar": {
             "outlinewidth": 0,
             "ticks": ""
            },
            "type": "mesh3d"
           }
          ],
          "parcoords": [
           {
            "line": {
             "colorbar": {
              "outlinewidth": 0,
              "ticks": ""
             }
            },
            "type": "parcoords"
           }
          ],
          "pie": [
           {
            "automargin": true,
            "type": "pie"
           }
          ],
          "scatter": [
           {
            "fillpattern": {
             "fillmode": "overlay",
             "size": 10,
             "solidity": 0.2
            },
            "type": "scatter"
           }
          ],
          "scatter3d": [
           {
            "line": {
             "colorbar": {
              "outlinewidth": 0,
              "ticks": ""
             }
            },
            "marker": {
             "colorbar": {
              "outlinewidth": 0,
              "ticks": ""
             }
            },
            "type": "scatter3d"
           }
          ],
          "scattercarpet": [
           {
            "marker": {
             "colorbar": {
              "outlinewidth": 0,
              "ticks": ""
             }
            },
            "type": "scattercarpet"
           }
          ],
          "scattergeo": [
           {
            "marker": {
             "colorbar": {
              "outlinewidth": 0,
              "ticks": ""
             }
            },
            "type": "scattergeo"
           }
          ],
          "scattergl": [
           {
            "marker": {
             "colorbar": {
              "outlinewidth": 0,
              "ticks": ""
             }
            },
            "type": "scattergl"
           }
          ],
          "scattermapbox": [
           {
            "marker": {
             "colorbar": {
              "outlinewidth": 0,
              "ticks": ""
             }
            },
            "type": "scattermapbox"
           }
          ],
          "scatterpolar": [
           {
            "marker": {
             "colorbar": {
              "outlinewidth": 0,
              "ticks": ""
             }
            },
            "type": "scatterpolar"
           }
          ],
          "scatterpolargl": [
           {
            "marker": {
             "colorbar": {
              "outlinewidth": 0,
              "ticks": ""
             }
            },
            "type": "scatterpolargl"
           }
          ],
          "scatterternary": [
           {
            "marker": {
             "colorbar": {
              "outlinewidth": 0,
              "ticks": ""
             }
            },
            "type": "scatterternary"
           }
          ],
          "surface": [
           {
            "colorbar": {
             "outlinewidth": 0,
             "ticks": ""
            },
            "colorscale": [
             [
              0,
              "#0d0887"
             ],
             [
              0.1111111111111111,
              "#46039f"
             ],
             [
              0.2222222222222222,
              "#7201a8"
             ],
             [
              0.3333333333333333,
              "#9c179e"
             ],
             [
              0.4444444444444444,
              "#bd3786"
             ],
             [
              0.5555555555555556,
              "#d8576b"
             ],
             [
              0.6666666666666666,
              "#ed7953"
             ],
             [
              0.7777777777777778,
              "#fb9f3a"
             ],
             [
              0.8888888888888888,
              "#fdca26"
             ],
             [
              1,
              "#f0f921"
             ]
            ],
            "type": "surface"
           }
          ],
          "table": [
           {
            "cells": {
             "fill": {
              "color": "#EBF0F8"
             },
             "line": {
              "color": "white"
             }
            },
            "header": {
             "fill": {
              "color": "#C8D4E3"
             },
             "line": {
              "color": "white"
             }
            },
            "type": "table"
           }
          ]
         },
         "layout": {
          "annotationdefaults": {
           "arrowcolor": "#2a3f5f",
           "arrowhead": 0,
           "arrowwidth": 1
          },
          "autotypenumbers": "strict",
          "coloraxis": {
           "colorbar": {
            "outlinewidth": 0,
            "ticks": ""
           }
          },
          "colorscale": {
           "diverging": [
            [
             0,
             "#8e0152"
            ],
            [
             0.1,
             "#c51b7d"
            ],
            [
             0.2,
             "#de77ae"
            ],
            [
             0.3,
             "#f1b6da"
            ],
            [
             0.4,
             "#fde0ef"
            ],
            [
             0.5,
             "#f7f7f7"
            ],
            [
             0.6,
             "#e6f5d0"
            ],
            [
             0.7,
             "#b8e186"
            ],
            [
             0.8,
             "#7fbc41"
            ],
            [
             0.9,
             "#4d9221"
            ],
            [
             1,
             "#276419"
            ]
           ],
           "sequential": [
            [
             0,
             "#0d0887"
            ],
            [
             0.1111111111111111,
             "#46039f"
            ],
            [
             0.2222222222222222,
             "#7201a8"
            ],
            [
             0.3333333333333333,
             "#9c179e"
            ],
            [
             0.4444444444444444,
             "#bd3786"
            ],
            [
             0.5555555555555556,
             "#d8576b"
            ],
            [
             0.6666666666666666,
             "#ed7953"
            ],
            [
             0.7777777777777778,
             "#fb9f3a"
            ],
            [
             0.8888888888888888,
             "#fdca26"
            ],
            [
             1,
             "#f0f921"
            ]
           ],
           "sequentialminus": [
            [
             0,
             "#0d0887"
            ],
            [
             0.1111111111111111,
             "#46039f"
            ],
            [
             0.2222222222222222,
             "#7201a8"
            ],
            [
             0.3333333333333333,
             "#9c179e"
            ],
            [
             0.4444444444444444,
             "#bd3786"
            ],
            [
             0.5555555555555556,
             "#d8576b"
            ],
            [
             0.6666666666666666,
             "#ed7953"
            ],
            [
             0.7777777777777778,
             "#fb9f3a"
            ],
            [
             0.8888888888888888,
             "#fdca26"
            ],
            [
             1,
             "#f0f921"
            ]
           ]
          },
          "colorway": [
           "#636efa",
           "#EF553B",
           "#00cc96",
           "#ab63fa",
           "#FFA15A",
           "#19d3f3",
           "#FF6692",
           "#B6E880",
           "#FF97FF",
           "#FECB52"
          ],
          "font": {
           "color": "#2a3f5f"
          },
          "geo": {
           "bgcolor": "white",
           "lakecolor": "white",
           "landcolor": "#E5ECF6",
           "showlakes": true,
           "showland": true,
           "subunitcolor": "white"
          },
          "hoverlabel": {
           "align": "left"
          },
          "hovermode": "closest",
          "mapbox": {
           "style": "light"
          },
          "paper_bgcolor": "white",
          "plot_bgcolor": "#E5ECF6",
          "polar": {
           "angularaxis": {
            "gridcolor": "white",
            "linecolor": "white",
            "ticks": ""
           },
           "bgcolor": "#E5ECF6",
           "radialaxis": {
            "gridcolor": "white",
            "linecolor": "white",
            "ticks": ""
           }
          },
          "scene": {
           "xaxis": {
            "backgroundcolor": "#E5ECF6",
            "gridcolor": "white",
            "gridwidth": 2,
            "linecolor": "white",
            "showbackground": true,
            "ticks": "",
            "zerolinecolor": "white"
           },
           "yaxis": {
            "backgroundcolor": "#E5ECF6",
            "gridcolor": "white",
            "gridwidth": 2,
            "linecolor": "white",
            "showbackground": true,
            "ticks": "",
            "zerolinecolor": "white"
           },
           "zaxis": {
            "backgroundcolor": "#E5ECF6",
            "gridcolor": "white",
            "gridwidth": 2,
            "linecolor": "white",
            "showbackground": true,
            "ticks": "",
            "zerolinecolor": "white"
           }
          },
          "shapedefaults": {
           "line": {
            "color": "#2a3f5f"
           }
          },
          "ternary": {
           "aaxis": {
            "gridcolor": "white",
            "linecolor": "white",
            "ticks": ""
           },
           "baxis": {
            "gridcolor": "white",
            "linecolor": "white",
            "ticks": ""
           },
           "bgcolor": "#E5ECF6",
           "caxis": {
            "gridcolor": "white",
            "linecolor": "white",
            "ticks": ""
           }
          },
          "title": {
           "x": 0.05
          },
          "xaxis": {
           "automargin": true,
           "gridcolor": "white",
           "linecolor": "white",
           "ticks": "",
           "title": {
            "standoff": 15
           },
           "zerolinecolor": "white",
           "zerolinewidth": 2
          },
          "yaxis": {
           "automargin": true,
           "gridcolor": "white",
           "linecolor": "white",
           "ticks": "",
           "title": {
            "standoff": 15
           },
           "zerolinecolor": "white",
           "zerolinewidth": 2
          }
         }
        },
        "title": {
         "text": "Feature importance"
        },
        "xaxis": {
         "anchor": "y",
         "domain": [
          0,
          1
         ],
         "title": {
          "text": "feature_name"
         }
        },
        "yaxis": {
         "anchor": "x",
         "domain": [
          0,
          1
         ],
         "title": {
          "text": "feature_importance"
         },
         "type": "log"
        }
       }
      }
     },
     "metadata": {},
     "output_type": "display_data"
    },
    {
     "name": "stdout",
     "output_type": "stream",
     "text": [
      "The following features were dropped:\n",
      "['port_48676', 'port_49336', 'port_48666', 'port_48660', 'port_49347', 'port_49334', 'port_48650', 'port_48621', 'port_49349', 'port_48620', 'port_49364', 'port_48683', 'port_49181', 'port_48684', 'port_48612', 'port_49331', 'port_48700', 'port_48715', 'port_48723', 'port_48733', 'port_48737', 'port_49326', 'port_48740', 'port_49325', 'port_48743', 'port_48755', 'port_49324', 'port_48616', 'port_48604', 'port_48610', 'port_49424', 'port_48430', 'port_49444', 'port_48431', 'port_48436', 'port_48441', 'port_48471', 'port_48494', 'port_48495', 'port_48499', 'port_48507', 'port_49442', 'port_49440', 'port_48520', 'port_49376', 'port_49412', 'port_48539', 'port_49406', 'port_49405', 'port_48547', 'port_48552', 'port_49390', 'port_48563', 'port_49385', 'port_48595', 'port_49382', 'port_48768', 'port_48765', 'port_48773', 'port_49319', 'port_48422', 'port_48935', 'port_48940', 'port_49250', 'port_48948', 'port_49249', 'port_48950', 'port_48960', 'port_48962', 'port_48983', 'port_49243', 'port_49003', 'port_49239', 'port_49024', 'port_49224', 'port_49046', 'port_49047', 'port_49065', 'port_49075', 'port_49091', 'port_49092', 'port_49194', 'port_49108', 'port_49122', 'port_49133', 'port_49134', 'port_49155', 'port_49160', 'port_48934', 'port_48928', 'port_48772', 'port_48918', 'port_49164', 'port_49316', 'port_48780', 'port_48793', 'port_49307', 'port_49303', 'port_48804', 'port_49297', 'port_48808', 'port_48812', 'port_48829', 'port_48833', 'port_48836', 'port_48838', 'port_48842', 'port_49294', 'port_48843', 'port_48847', 'port_48848', 'port_48865', 'port_49289', 'port_49281', 'port_49276', 'port_48868', 'port_49273', 'port_48892', 'port_48916', 'port_48423', 'port_48300', 'port_48410', 'port_47568', 'port_47557', 'port_47534', 'port_47533', 'port_47530', 'port_47512', 'port_47495', 'port_47485', 'port_47484', 'port_47478', 'port_47475', 'port_47471', 'port_47462', 'port_47461', 'port_47460', 'port_47446', 'port_47562', 'port_47580', 'port_47441', 'port_47584', 'port_47709', 'port_47698', 'port_47692', 'port_47691', 'port_47673', 'port_47652', 'port_47649', 'port_47643', 'port_47639', 'port_47638', 'port_47634', 'port_47612', 'port_47601', 'port_47595', 'port_47589', 'port_47442', 'port_47440', 'port_48405', 'port_47296', 'port_47256', 'port_47250', 'port_47244', 'port_47243', 'port_47214', 'port_47209', 'port_47205', 'port_47200', 'port_47199', 'port_47187', 'port_47181', 'port_47173', 'port_47169', 'port_47166', 'port_47159', 'port_47276', 'port_47297', 'port_47435', 'port_47300', 'port_47434', 'port_47411', 'port_47403', 'port_47394', 'port_47391', 'port_47378', 'port_47376', 'port_47371', 'port_47364', 'port_47354', 'port_47348', 'port_47336', 'port_47320', 'port_47315', 'port_47310', 'port_47711', 'port_47720', 'port_47725', 'port_48254', 'port_48250', 'port_48248', 'port_48243', 'port_48242', 'port_48233', 'port_48231', 'port_48215', 'port_48203', 'port_48202', 'port_48195', 'port_48155', 'port_48142', 'port_48119', 'port_48118', 'port_48112', 'port_48251', 'port_49450', 'port_47737', 'port_48262', 'port_48400', 'port_48399', 'port_48386', 'port_48371', 'port_48367', 'port_48351', 'port_48350', 'port_48349', 'port_48347', 'port_48342', 'port_48340', 'port_48336', 'port_48330', 'port_48287', 'port_48267', 'port_48093', 'port_48081', 'port_48075', 'port_48066', 'port_47866', 'port_47843', 'port_47830', 'port_47826', 'port_47821', 'port_47818', 'port_47816', 'port_47803', 'port_47799', 'port_47788', 'port_47780', 'port_47779', 'port_47763', 'port_47758', 'port_47743', 'port_47888', 'port_47914', 'port_47924', 'port_48002', 'port_48063', 'port_48051', 'port_48045', 'port_48014', 'port_48006', 'port_48003', 'port_47994', 'port_47932', 'port_47992', 'port_47991', 'port_47987', 'port_47965', 'port_47959', 'port_47950', 'port_49448', 'port_49656', 'port_49464', 'port_50966', 'port_51040', 'port_51039', 'port_51033', 'port_51008', 'port_51004', 'port_50979', 'port_50967', 'port_50956', 'port_49467', 'port_50955', 'port_50925', 'port_50909', 'port_50905', 'port_50903', 'port_50899', 'port_50897', 'port_51048', 'port_51058', 'port_51065', 'port_51067', 'port_51228', 'port_51226', 'port_51225', 'port_51219', 'port_51217', 'port_51212', 'port_51203', 'port_51198', 'port_51179', 'port_51177', 'port_51172', 'port_51165', 'port_51159', 'port_51147', 'port_51102', 'port_50880', 'port_50873', 'port_50855', 'port_50710', 'port_50695', 'port_50656', 'port_50652', 'port_50651', 'port_50650', 'port_50648', 'port_50643', 'port_50640', 'port_50614', 'port_50607', 'port_50594', 'port_50567', 'port_50566', 'port_50562', 'port_50552', 'port_50705', 'port_50717', 'port_50844', 'port_50725', 'port_50837', 'port_50835', 'port_50812', 'port_50809', 'port_50807', 'port_50802', 'port_50788', 'port_50787', 'port_50780', 'port_50771', 'port_50768', 'port_50751', 'port_50744', 'port_50731', 'port_50727', 'port_51230', 'port_51231', 'port_51234', 'port_51700', 'port_51682', 'port_51678', 'port_51677', 'port_51671', 'port_51668', 'port_51667', 'port_51614', 'port_51609', 'port_51608', 'port_51594', 'port_51575', 'port_51560', 'port_51554', 'port_51539', 'port_51533', 'port_51687', 'port_51703', 'port_51526', 'port_51708', 'port_51860', 'port_51850', 'port_51846', 'port_51844', 'port_51811', 'port_51800', 'port_51797', 'port_51770', 'port_51762', 'port_51749', 'port_51744', 'port_51739', 'port_51736', 'port_51734', 'port_51717', 'port_51529', 'port_51525', 'port_51235', 'port_51382', 'port_51369', 'port_51362', 'port_51359', 'port_51355', 'port_51353', 'port_51346', 'port_51331', 'port_51317', 'port_51309', 'port_51291', 'port_51271', 'port_51259', 'port_51256', 'port_51250', 'port_51244', 'port_51375', 'port_51385', 'port_51523', 'port_51398', 'port_51504', 'port_51497', 'port_51483', 'port_51475', 'port_51472', 'port_51467', 'port_51464', 'port_51459', 'port_51450', 'port_51449', 'port_51440', 'port_51431', 'port_51430', 'port_51420', 'port_51412', 'port_50549', 'port_50541', 'port_50535', 'port_49906', 'port_49897', 'port_49889', 'port_49887', 'port_49882', 'port_49881', 'port_49872', 'port_49865', 'port_49860', 'port_49858', 'port_49851', 'port_49848', 'port_49845', 'port_49841', 'port_49838', 'port_49828', 'port_49903', 'port_49910', 'port_49820', 'port_49919', 'port_50026', 'port_50009', 'port_49997', 'port_49990', 'port_49989', 'port_49986', 'port_49977', 'port_49973', 'port_49966', 'port_49964', 'port_49961', 'port_49958', 'port_49943', 'port_49940', 'port_49928', 'port_49826', 'port_49808', 'port_50039', 'port_47149', 'port_49624', 'port_49594', 'port_49593', 'port_49591', 'port_49579', 'port_49566', 'port_49554', 'port_49550', 'port_49547', 'port_49542', 'port_49541', 'port_49519', 'port_49514', 'port_49473', 'port_49472', 'port_49655', 'port_49659', 'port_49800', 'port_49669', 'port_49790', 'port_49789', 'port_49788', 'port_49776', 'port_49770', 'port_49767', 'port_49759', 'port_49755', 'port_49754', 'port_49746', 'port_49733', 'port_49730', 'port_49712', 'port_49688', 'port_49687', 'port_50028', 'port_50040', 'port_50525', 'port_50401', 'port_50395', 'port_50388', 'port_50382', 'port_50377', 'port_50376', 'port_50375', 'port_50364', 'port_50361', 'port_50358', 'port_50354', 'port_50347', 'port_50332', 'port_50323', 'port_50300', 'port_50281', 'port_50397', 'port_50404', 'port_50260', 'port_50417', 'port_50520', 'port_50511', 'port_50502', 'port_50497', 'port_50489', 'port_50478', 'port_50474', 'port_50471', 'port_50468', 'port_50440', 'port_50436', 'port_50431', 'port_50428', 'port_50427', 'port_50425', 'port_50269', 'port_50257', 'port_50049', 'port_50151', 'port_50142', 'port_50140', 'port_50136', 'port_50134', 'port_50120', 'port_50112', 'port_50103', 'port_50099', 'port_50096', 'port_50082', 'port_50081', 'port_50060', 'port_50053', 'port_50052', 'port_50050', 'port_50145', 'port_50152', 'port_50251', 'port_50157', 'port_50249', 'port_50246', 'port_50244', 'port_50236', 'port_50210', 'port_50209', 'port_50202', 'port_50196', 'port_50189', 'port_50187', 'port_50175', 'port_50173', 'port_50165', 'port_50160', 'port_50158', 'port_47150', 'port_46915', 'port_47145', 'port_44077', 'port_44047', 'port_44046', 'port_44031', 'port_44025', 'port_44013', 'port_44010', 'port_43982', 'port_43970', 'port_43969', 'port_43962', 'port_43961', 'port_43958', 'port_43952', 'port_43951', 'port_43947', 'port_44054', 'port_44098', 'port_44261', 'port_44099', 'port_44251', 'port_44242', 'port_44227', 'port_44223', 'port_44221', 'port_44180', 'port_44179', 'port_44169', 'port_44158', 'port_44145', 'port_44137', 'port_44132', 'port_44121', 'port_44119', 'port_44114', 'port_43941', 'port_43936', 'port_43935', 'port_43931', 'port_43741', 'port_43737', 'port_43734', 'port_43704', 'port_43703', 'port_43693', 'port_43679', 'port_43670', 'port_43656', 'port_43638', 'port_43636', 'port_43621', 'port_43614', 'port_43610', 'port_43604', 'port_43746', 'port_43761', 'port_43766', 'port_43874', 'port_43929', 'port_43923', 'port_43919', 'port_43908', 'port_43907', 'port_43878', 'port_43864', 'port_43781', 'port_43856', 'port_43851', 'port_43850', 'port_43822', 'port_43814', 'port_43794', 'port_44254', 'port_44276', 'port_47143', 'port_44599', 'port_44577', 'port_44564', 'port_44563', 'port_44560', 'port_44556', 'port_44554', 'port_44547', 'port_44530', 'port_44524', 'port_44523', 'port_44518', 'port_44515', 'port_44509', 'port_44490', 'port_44485', 'port_44587', 'port_44611', 'port_44282', 'port_44620', 'port_44775', 'port_44761', 'port_44737', 'port_44731', 'port_44719', 'port_44709', 'port_44692', 'port_44673', 'port_44671', 'port_44669', 'port_44663', 'port_44661', 'port_44652', 'port_44635', 'port_44634', 'port_44479', 'port_44475', 'port_44472', 'port_44470', 'port_44401', 'port_44400', 'port_44377', 'port_44356', 'port_44347', 'port_44343', 'port_44342', 'port_44340', 'port_44333', 'port_44322', 'port_44316', 'port_44314', 'port_44308', 'port_44295', 'port_44290', 'port_44404', 'port_44406', 'port_44410', 'port_44443', 'port_44467', 'port_44466', 'port_44464', 'port_44460', 'port_44458', 'port_44455', 'port_44435', 'port_44417', 'port_44432', 'port_44428', 'port_44427', 'port_44423', 'port_44422', 'port_44419', 'port_43597', 'port_43592', 'port_43572', 'port_42862', 'port_42845', 'port_42840', 'port_42830', 'port_42819', 'port_42810', 'port_42803', 'port_42795', 'port_42789', 'port_42780', 'port_42773', 'port_42770', 'port_42756', 'port_42755', 'port_42743', 'port_42733', 'port_42860', 'port_42867', 'port_43565', 'port_42870', 'port_43038', 'port_43032', 'port_43018', 'port_43015', 'port_43009', 'port_42991', 'port_42984', 'port_42974', 'port_42944', 'port_42905', 'port_42902', 'port_42901', 'port_42887', 'port_42886', 'port_42880', 'port_42729', 'port_42727', 'port_42722', 'port_42713', 'port_42574', 'port_42573', 'port_42559', 'port_42556', 'port_42548', 'port_42540', 'port_42539', 'port_42532', 'port_42531', 'port_42527', 'port_42517', 'port_42513', 'port_42504', 'port_42503', 'port_42492', 'port_42577', 'port_42579', 'port_42594', 'port_42679', 'port_42703', 'port_42702', 'port_42695', 'port_42692', 'port_42685', 'port_42680', 'port_42674', 'port_42601', 'port_42670', 'port_42633', 'port_42631', 'port_42629', 'port_42623', 'port_42618', 'port_43042', 'port_43043', 'port_43052', 'port_43353', 'port_43443', 'port_43439', 'port_43430', 'port_43417', 'port_43413', 'port_43403', 'port_43392', 'port_43383', 'port_43378', 'port_43373', 'port_43371', 'port_43370', 'port_43369', 'port_43367', 'port_43359', 'port_43447', 'port_43452', 'port_43456', 'port_43512', 'port_43552', 'port_43546', 'port_43544', 'port_43534', 'port_43516', 'port_43513', 'port_43509', 'port_43468', 'port_43506', 'port_43493', 'port_43481', 'port_43479', 'port_43476', 'port_43471', 'port_43355', 'port_43352', 'port_43057', 'port_43349', 'port_43170', 'port_43169', 'port_43147', 'port_43131', 'port_43130', 'port_43122', 'port_43112', 'port_43110', 'port_43106', 'port_43103', 'port_43096', 'port_43077', 'port_43071', 'port_43067', 'port_43061', 'port_43198', 'port_43204', 'port_43208', 'port_43329', 'port_43344', 'port_43342', 'port_43338', 'port_43337', 'port_43332', 'port_43331', 'port_43288', 'port_43215', 'port_43284', 'port_43266', 'port_43247', 'port_43242', 'port_43226', 'port_43224', 'port_44779', 'port_44783', 'port_44785', 'port_46362', 'port_46356', 'port_46351', 'port_46336', 'port_46332', 'port_46329', 'port_46323', 'port_46319', 'port_46316', 'port_46314', 'port_46311', 'port_46284', 'port_46270', 'port_46265', 'port_46241', 'port_46240', 'port_46358', 'port_46378', 'port_45928', 'port_46380', 'port_46472', 'port_46463', 'port_46444', 'port_46436', 'port_46433', 'port_46430', 'port_46427', 'port_46423', 'port_46417', 'port_46413', 'port_46411', 'port_46410', 'port_46398', 'port_46389', 'port_46387', 'port_46235', 'port_46234', 'port_46226', 'port_46221', 'port_46068', 'port_46063', 'port_46061', 'port_46052', 'port_46050', 'port_46043', 'port_46021', 'port_46000', 'port_45985', 'port_45984', 'port_45979', 'port_45967', 'port_45963', 'port_45955', 'port_45935', 'port_46069', 'port_46083', 'port_46091', 'port_46181', 'port_46212', 'port_46203', 'port_46201', 'port_46199', 'port_46193', 'port_46185', 'port_46176', 'port_46119', 'port_46171', 'port_46153', 'port_46147', 'port_46142', 'port_46140', 'port_46121', 'port_46474', 'port_46478', 'port_46483', 'port_46814', 'port_46957', 'port_46951', 'port_46932', 'port_46927', 'port_46919', 'port_51864', 'port_46903', 'port_46901', 'port_46887', 'port_46884', 'port_46877', 'port_46863', 'port_46862', 'port_46849', 'port_46838', 'port_46959', 'port_46962', 'port_46984', 'port_47073', 'port_47139', 'port_47137', 'port_47126', 'port_47118', 'port_47101', 'port_47090', 'port_47061', 'port_47001', 'port_47060', 'port_47058', 'port_47053', 'port_47043', 'port_47016', 'port_47002', 'port_46831', 'port_46806', 'port_46488', 'port_46800', 'port_46616', 'port_46599', 'port_46597', 'port_46585', 'port_46581', 'port_46578', 'port_46572', 'port_46551', 'port_46548', 'port_46545', 'port_46536', 'port_46528', 'port_46507', 'port_46499', 'port_46491', 'port_46626', 'port_46636', 'port_46660', 'port_46704', 'port_46796', 'port_46789', 'port_46788', 'port_46755', 'port_46727', 'port_46723', 'port_46702', 'port_46666', 'port_46698', 'port_46690', 'port_46689', 'port_46684', 'port_46682', 'port_46674', 'port_45932', 'port_45927', 'port_44789', 'port_45285', 'port_45246', 'port_45243', 'port_45239', 'port_45233', 'port_45227', 'port_45223', 'port_45214', 'port_45211', 'port_45207', 'port_45205', 'port_45202', 'port_45195', 'port_45190', 'port_45173', 'port_45155', 'port_45256', 'port_45291', 'port_45923', 'port_45293', 'port_45375', 'port_45364', 'port_45360', 'port_45345', 'port_45344', 'port_45335', 'port_45332', 'port_45327', 'port_45315', 'port_45314', 'port_45311', 'port_45305', 'port_45299', 'port_45298', 'port_45295', 'port_45148', 'port_45142', 'port_45132', 'port_45121', 'port_44952', 'port_44948', 'port_44946', 'port_44935', 'port_44919', 'port_44886', 'port_44883', 'port_44880', 'port_44873', 'port_44867', 'port_44852', 'port_44840', 'port_44829', 'port_44802', 'port_44798', 'port_44984', 'port_44996', 'port_45000', 'port_45057', 'port_45101', 'port_45099', 'port_45098', 'port_45087', 'port_45077', 'port_45075', 'port_45055', 'port_45001', 'port_45051', 'port_45047', 'port_45038', 'port_45023', 'port_45017', 'port_45016', 'port_45385', 'port_45393', 'port_45394', 'port_45672', 'port_45801', 'port_45800', 'port_45775', 'port_45774', 'port_45764', 'port_45757', 'port_45756', 'port_45740', 'port_45738', 'port_45727', 'port_45717', 'port_45716', 'port_45714', 'port_45703', 'port_45693', 'port_45818', 'port_45825', 'port_45839', 'port_45898', 'port_45921', 'port_45916', 'port_45912', 'port_45910', 'port_45904', 'port_45899', 'port_45886', 'port_45844', 'port_45883', 'port_45873', 'port_45872', 'port_45858', 'port_45852', 'port_45845', 'port_45683', 'port_45671', 'port_45407', 'port_45647', 'port_45503', 'port_45491', 'port_45490', 'port_45486', 'port_45474', 'port_45469', 'port_45465', 'port_45458', 'port_45442', 'port_45441', 'port_45439', 'port_45436', 'port_45432', 'port_45431', 'port_45426', 'port_45509', 'port_45520', 'port_45526', 'port_45587', 'port_45646', 'port_45634', 'port_45629', 'port_45616', 'port_45602', 'port_45599', 'port_45575', 'port_45537', 'port_45563', 'port_45562', 'port_45555', 'port_45541', 'port_45539', 'port_45538', 'port_51862', 'port_52130', 'port_51869', 'port_58048', 'port_58237', 'port_58233', 'port_58223', 'port_58216', 'port_58194', 'port_58186', 'port_58185', 'port_58128', 'port_58125', 'port_58116', 'port_58108', 'port_58101', 'port_58082', 'port_58080', 'port_58067', 'port_58245', 'port_58261', 'port_58267', 'port_58336', 'port_58376', 'port_58363', 'port_58358', 'port_58356', 'port_58348', 'port_58341', 'port_58324', 'port_58270', 'port_58310', 'port_58299', 'port_58298', 'port_58287', 'port_58273', 'port_58272', 'port_58051', 'port_58046', 'port_58383', 'port_58044', 'port_57832', 'port_57818', 'port_57815', 'port_57813', 'port_57804', 'port_57786', 'port_57783', 'port_57779', 'port_57777', 'port_57775', 'port_57767', 'port_57760', 'port_57745', 'port_57744', 'port_57741', 'port_57834', 'port_57851', 'port_57870', 'port_57992', 'port_58042', 'port_58032', 'port_58029', 'port_58028', 'port_58027', 'port_58016', 'port_57982', 'port_57882', 'port_57981', 'port_57940', 'port_57933', 'port_57922', 'port_57892', 'port_57884', 'port_58381', 'port_58403', 'port_56526', 'port_58700', 'port_58808', 'port_58802', 'port_58790', 'port_58778', 'port_58772', 'port_58769', 'port_58763', 'port_58750', 'port_58741', 'port_58739', 'port_58731', 'port_58727', 'port_58726', 'port_58725', 'port_58713', 'port_58816', 'port_58817', 'port_58832', 'port_58895', 'port_58921', 'port_58919', 'port_58916', 'port_58911', 'port_58903', 'port_58896', 'port_58890', 'port_58833', 'port_58869', 'port_58861', 'port_58858', 'port_58854', 'port_58841', 'port_58839', 'port_58706', 'port_58698', 'port_58428', 'port_58684', 'port_58542', 'port_58534', 'port_58532', 'port_58506', 'port_58505', 'port_58486', 'port_58479', 'port_58478', 'port_58463', 'port_58456', 'port_58449', 'port_58442', 'port_58437', 'port_58434', 'port_58429', 'port_58555', 'port_58559', 'port_58581', 'port_58665', 'port_58682', 'port_58679', 'port_58678', 'port_58672', 'port_58669', 'port_58668', 'port_58652', 'port_58587', 'port_58641', 'port_58630', 'port_58604', 'port_58601', 'port_58600', 'port_58588', 'port_57728', 'port_57727', 'port_57709', 'port_56768', 'port_56886', 'port_56883', 'port_56882', 'port_56875', 'port_56865', 'port_56864', 'port_56855', 'port_56853', 'port_56849', 'port_56841', 'port_56813', 'port_56804', 'port_56801', 'port_56800', 'port_56794', 'port_56892', 'port_56901', 'port_56903', 'port_57014', 'port_57033', 'port_57030', 'port_57025', 'port_57023', 'port_57020', 'port_57016', 'port_57007', 'port_56930', 'port_56989', 'port_56988', 'port_56985', 'port_56977', 'port_56949', 'port_56936', 'port_56787', 'port_56764', 'port_57708', 'port_56761', 'port_56639', 'port_56637', 'port_56625', 'port_56614', 'port_56601', 'port_56595', 'port_56594', 'port_56585', 'port_56583', 'port_56582', 'port_56580', 'port_56579', 'port_56574', 'port_56562', 'port_56559', 'port_56640', 'port_56641', 'port_56642', 'port_56683', 'port_56747', 'port_56725', 'port_56702', 'port_56699', 'port_56698', 'port_56695', 'port_56681', 'port_56644', 'port_56680', 'port_56674', 'port_56671', 'port_56668', 'port_56661', 'port_56653', 'port_57041', 'port_57055', 'port_57068', 'port_57076', 'port_57567', 'port_57550', 'port_57540', 'port_57526', 'port_57514', 'port_57510', 'port_57507', 'port_57495', 'port_57494', 'port_57493', 'port_57475', 'port_57466', 'port_57463', 'port_57456', 'port_57447', 'port_57571', 'port_57574', 'port_57583', 'port_57640', 'port_57705', 'port_57702', 'port_57687', 'port_57680', 'port_57670', 'port_57657', 'port_57634', 'port_57595', 'port_57623', 'port_57622', 'port_57614', 'port_57612', 'port_57611', 'port_57608', 'port_57444', 'port_57443', 'port_57410', 'port_57185', 'port_57243', 'port_57238', 'port_57223', 'port_57220', 'port_57209', 'port_57192', 'port_57176', 'port_57273', 'port_57172', 'port_57137', 'port_57128', 'port_57121', 'port_57113', 'port_57094', 'port_57265', 'port_57282', 'port_57408', 'port_57365', 'port_57406', 'port_57396', 'port_57388', 'port_57387', 'port_57384', 'port_57383', 'port_57356', 'port_57298', 'port_57330', 'port_57329', 'port_57324', 'port_57316', 'port_57305', 'port_57299', 'port_58928', 'port_58936', 'port_58945', 'port_60348', 'port_60471', 'port_60470', 'port_60458', 'port_60456', 'port_60455', 'port_60449', 'port_60448', 'port_60443', 'port_60441', 'port_60428', 'port_60419', 'port_60406', 'port_60403', 'port_60379', 'port_60366', 'port_60474', 'port_60492', 'port_60501', 'port_60573', 'port_60626', 'port_60622', 'port_60585', 'port_60581', 'port_60578', 'port_60574', 'port_60564', 'port_60506', 'port_60548', 'port_60543', 'port_60528', 'port_60527', 'port_60510', 'port_60508', 'port_60350', 'port_60345', 'port_60048', 'port_60339', 'port_60178', 'port_60177', 'port_60174', 'port_60166', 'port_60145', 'port_60136', 'port_60126', 'port_60116', 'port_60114', 'port_60099', 'port_60085', 'port_60082', 'port_60066', 'port_60065', 'port_60059', 'port_60196', 'port_60207', 'port_60218', 'port_60302', 'port_60337', 'port_60336', 'port_60322', 'port_60320', 'port_60313', 'port_60310', 'port_60293', 'port_60222', 'port_60281', 'port_60261', 'port_60260', 'port_60259', 'port_60246', 'port_60224', 'port_60637', 'port_60644', 'port_60650', 'port_60656', 'port_62204', 'port_62149', 'port_62126', 'port_62109', 'port_62048', 'port_61853', 'port_61519', 'port_61345', 'port_61114', 'port_61084', 'port_61012', 'port_60984', 'port_60980', 'port_60975', 'port_60965', 'port_62482', 'port_62501', 'port_62960', 'port_63892', 'port_65440', 'port_65408', 'port_65364', 'port_64752', 'port_64238', 'port_63968', 'port_63847', 'port_63165', 'port_63829', 'port_63659', 'port_63635', 'port_63469', 'port_63348', 'port_63185', 'port_60939', 'port_60928', 'port_60917', 'port_60715', 'port_60753', 'port_60750', 'port_60743', 'port_60742', 'port_60736', 'port_60720', 'port_60713', 'port_60760', 'port_60689', 'port_60688', 'port_60680', 'port_60676', 'port_60673', 'port_60664', 'port_60758', 'port_60762', 'port_60914', 'port_60858', 'port_60900', 'port_60896', 'port_60895', 'port_60893', 'port_60877', 'port_60862', 'port_60828', 'port_60770', 'port_60819', 'port_60804', 'port_60789', 'port_60785', 'port_60784', 'port_60773', 'port_60058', 'port_60046', 'port_58959', 'port_59316', 'port_59410', 'port_59405', 'port_59397', 'port_59389', 'port_59374', 'port_59370', 'port_59359', 'port_59358', 'port_59354', 'port_59352', 'port_59351', 'port_59344', 'port_59338', 'port_59334', 'port_59330', 'port_59419', 'port_59457', 'port_59458', 'port_59526', 'port_59557', 'port_59553', 'port_59539', 'port_59537', 'port_59536', 'port_59527', 'port_59497', 'port_59463', 'port_59495', 'port_59491', 'port_59489', 'port_59482', 'port_59479', 'port_59464', 'port_59319', 'port_59292', 'port_60043', 'port_59286', 'port_59131', 'port_59123', 'port_59121', 'port_59112', 'port_59097', 'port_59091', 'port_59082', 'port_59075', 'port_59074', 'port_59073', 'port_59046', 'port_59036', 'port_59017', 'port_59008', 'port_58963', 'port_59142', 'port_59159', 'port_59180', 'port_59243', 'port_59282', 'port_59280', 'port_59277', 'port_59263', 'port_59245', 'port_59244', 'port_59242', 'port_59184', 'port_59235', 'port_59231', 'port_59221', 'port_59215', 'port_59214', 'port_59192', 'port_59568', 'port_59569', 'port_59573', 'port_59574', 'port_59932', 'port_59929', 'port_59912', 'port_59909', 'port_59898', 'port_59893', 'port_59891', 'port_59882', 'port_59872', 'port_59869', 'port_59862', 'port_59860', 'port_59856', 'port_59848', 'port_59837', 'port_59936', 'port_59939', 'port_59940', 'port_59998', 'port_60042', 'port_60036', 'port_60030', 'port_60029', 'port_60024', 'port_60001', 'port_59994', 'port_59952', 'port_59992', 'port_59984', 'port_59980', 'port_59979', 'port_59966', 'port_59960', 'port_59828', 'port_59827', 'port_59826', 'port_59619', 'port_59659', 'port_59655', 'port_59653', 'port_59652', 'port_59636', 'port_59627', 'port_59609', 'port_59675', 'port_59602', 'port_59597', 'port_59587', 'port_59585', 'port_59581', 'port_59580', 'port_59666', 'port_59680', 'port_59813', 'port_59752', 'port_59812', 'port_59787', 'port_59775', 'port_59772', 'port_59770', 'port_59769', 'port_59740', 'port_59683', 'port_59732', 'port_59722', 'port_59712', 'port_59702', 'port_59696', 'port_59690', 'port_56543', 'port_56520', 'port_51874', 'port_53355', 'port_53476', 'port_53467', 'port_53460', 'port_53454', 'port_53453', 'port_53452', 'port_53446', 'port_53433', 'port_53429', 'port_53428', 'port_53408', 'port_53407', 'port_53382', 'port_53381', 'port_53377', 'port_53489', 'port_53491', 'port_53492', 'port_53537', 'port_53571', 'port_53568', 'port_53563', 'port_53554', 'port_53549', 'port_53548', 'port_53536', 'port_53499', 'port_53534', 'port_53532', 'port_53531', 'port_53519', 'port_53511', 'port_53507', 'port_53365', 'port_53343', 'port_53597', 'port_53329', 'port_53164', 'port_53146', 'port_53144', 'port_53141', 'port_53126', 'port_53112', 'port_53106', 'port_53087', 'port_53085', 'port_53081', 'port_53075', 'port_53073', 'port_53066', 'port_53061', 'port_53059', 'port_53168', 'port_53178', 'port_53180', 'port_53247', 'port_53324', 'port_53303', 'port_53284', 'port_53258', 'port_53257', 'port_53253', 'port_53243', 'port_53182', 'port_53241', 'port_53219', 'port_53196', 'port_53195', 'port_53192', 'port_53189', 'port_53586', 'port_53599', 'port_56518', 'port_53970', 'port_54113', 'port_54110', 'port_54102', 'port_54077', 'port_54076', 'port_54059', 'port_54055', 'port_54052', 'port_54028', 'port_54017', 'port_54004', 'port_53998', 'port_53996', 'port_53989', 'port_53986', 'port_54118', 'port_54119', 'port_54122', 'port_54188', 'port_54231', 'port_54229', 'port_54221', 'port_54218', 'port_54204', 'port_54192', 'port_54183', 'port_54129', 'port_54173', 'port_54162', 'port_54157', 'port_54140', 'port_54137', 'port_54136', 'port_53972', 'port_53950', 'port_53603', 'port_53945', 'port_53739', 'port_53725', 'port_53713', 'port_53711', 'port_53690', 'port_53663', 'port_53660', 'port_53652', 'port_53648', 'port_53643', 'port_53642', 'port_53630', 'port_53628', 'port_53624', 'port_53610', 'port_53740', 'port_53741', 'port_53747', 'port_53833', 'port_53943', 'port_53923', 'port_53874', 'port_53867', 'port_53852', 'port_53848', 'port_53832', 'port_53749', 'port_53826', 'port_53819', 'port_53816', 'port_53809', 'port_53772', 'port_53764', 'port_53058', 'port_53054', 'port_53033', 'port_52140', 'port_52257', 'port_52255', 'port_52251', 'port_52247', 'port_52223', 'port_52214', 'port_52212', 'port_52200', 'port_52193', 'port_52183', 'port_52181', 'port_52179', 'port_52166', 'port_52165', 'port_52158', 'port_52260', 'port_52267', 'port_52271', 'port_52345', 'port_52398', 'port_52394', 'port_52386', 'port_52374', 'port_52357', 'port_52346', 'port_52335', 'port_52274', 'port_52328', 'port_52326', 'port_52324', 'port_52299', 'port_52286', 'port_52283', 'port_52144', 'port_52133', 'port_53010', 'port_42478', 'port_51960', 'port_51945', 'port_51944', 'port_51934', 'port_51932', 'port_51931', 'port_51928', 'port_51925', 'port_51921', 'port_51920', 'port_51905', 'port_51887', 'port_51884', 'port_51882', 'port_51876', 'port_51976', 'port_51985', 'port_51992', 'port_52063', 'port_52128', 'port_52126', 'port_52115', 'port_52109', 'port_52078', 'port_52072', 'port_52032', 'port_51996', 'port_52031', 'port_52030', 'port_52022', 'port_52021', 'port_52007', 'port_51999', 'port_52399', 'port_52402', 'port_52412', 'port_52431', 'port_52835', 'port_52826', 'port_52814', 'port_52797', 'port_52788', 'port_52787', 'port_52778', 'port_52777', 'port_52776', 'port_52769', 'port_52767', 'port_52757', 'port_52754', 'port_52752', 'port_52746', 'port_52837', 'port_52844', 'port_52847', 'port_52924', 'port_52992', 'port_52960', 'port_52948', 'port_52940', 'port_52934', 'port_52930', 'port_52918', 'port_52850', 'port_52908', 'port_52896', 'port_52866', 'port_52856', 'port_52855', 'port_52853', 'port_52742', 'port_52735', 'port_52729', 'port_52544', 'port_52577', 'port_52575', 'port_52563', 'port_52557', 'port_52550', 'port_52549', 'port_52501', 'port_52594', 'port_52472', 'port_52461', 'port_52445', 'port_52442', 'port_52441', 'port_52440', 'port_52585', 'port_52606', 'port_52727', 'port_52649', 'port_52719', 'port_52706', 'port_52701', 'port_52671', 'port_52665', 'port_52664', 'port_52648', 'port_52608', 'port_52644', 'port_52642', 'port_52630', 'port_52625', 'port_52621', 'port_52613', 'port_54234', 'port_54258', 'port_54260', 'port_55674', 'port_55824', 'port_55821', 'port_55820', 'port_55815', 'port_55790', 'port_55770', 'port_55768', 'port_55754', 'port_55734', 'port_55732', 'port_55707', 'port_55691', 'port_55686', 'port_55685', 'port_55680', 'port_55827', 'port_55831', 'port_55836', 'port_55902', 'port_55961', 'port_55957', 'port_55955', 'port_55949', 'port_55945', 'port_55939', 'port_55896', 'port_55843', 'port_55884', 'port_55883', 'port_55868', 'port_55867', 'port_55853', 'port_55851', 'port_55675', 'port_55658', 'port_55422', 'port_55656', 'port_55549', 'port_55537', 'port_55516', 'port_55512', 'port_55511', 'port_55509', 'port_55499', 'port_55497', 'port_55484', 'port_55480', 'port_55475', 'port_55474', 'port_55459', 'port_55457', 'port_55445', 'port_55559', 'port_55563', 'port_55566', 'port_55627', 'port_55652', 'port_55647', 'port_55646', 'port_55645', 'port_55636', 'port_55632', 'port_55621', 'port_55582', 'port_55619', 'port_55615', 'port_55606', 'port_55602', 'port_55599', 'port_55587', 'port_55974', 'port_55980', 'port_55989', 'port_55993', 'port_56369', 'port_56363', 'port_56360', 'port_56353', 'port_56344', 'port_56320', 'port_56305', 'port_56301', 'port_56297', 'port_56294', 'port_56285', 'port_56283', 'port_56270', 'port_56260', 'port_56250', 'port_56385', 'port_56391', 'port_56395', 'port_56484', 'port_56509', 'port_56504', 'port_56503', 'port_56501', 'port_56494', 'port_56489', 'port_56478', 'port_56409', 'port_56475', 'port_56462', 'port_56450', 'port_56444', 'port_56438', 'port_56410', 'port_56244', 'port_56238', 'port_56237', 'port_56039', 'port_56111', 'port_56081', 'port_56080', 'port_56070', 'port_56066', 'port_56063', 'port_56037', 'port_56122', 'port_56036', 'port_56024', 'port_56010', 'port_56005', 'port_55999', 'port_55998', 'port_56119', 'port_56138', 'port_56235', 'port_56189', 'port_56224', 'port_56206', 'port_56201', 'port_56196', 'port_56193', 'port_56191', 'port_56188', 'port_56141', 'port_56182', 'port_56171', 'port_56168', 'port_56161', 'port_56159', 'port_56157', 'port_55444', 'port_55365', 'port_54267', 'port_54483', 'port_54593', 'port_54581', 'port_54572', 'port_54571', 'port_54565', 'port_54551', 'port_54549', 'port_54545', 'port_54543', 'port_54517', 'port_54506', 'port_54502', 'port_54500', 'port_54496', 'port_54492', 'port_54597', 'port_54607', 'port_54612', 'port_54676', 'port_54695', 'port_54692', 'port_54691', 'port_54689', 'port_54684', 'port_54682', 'port_54674', 'port_54634', 'port_54669', 'port_54660', 'port_54654', 'port_54641', 'port_54638', 'port_54636', 'port_54486', 'port_54480', 'port_55363', 'port_54477', 'port_54344', 'port_54336', 'port_54335', 'port_54330', 'port_54328', 'port_54323', 'port_54318', 'port_54317', 'port_54312', 'port_54306', 'port_54298', 'port_54287', 'port_54280', 'port_54278', 'port_54276', 'port_54356', 'port_54361', 'port_54363', 'port_54439', 'port_54471', 'port_54461', 'port_54457', 'port_54453', 'port_54450', 'port_54449', 'port_54437', 'port_54368', 'port_54430', 'port_54419', 'port_54413', 'port_54408', 'port_54404', 'port_54377', 'port_54699', 'port_54705', 'port_54707', 'port_54711', 'port_55189', 'port_55158', 'port_55153', 'port_55150', 'port_55147', 'port_55134', 'port_55127', 'port_55120', 'port_55114', 'port_55112', 'port_55102', 'port_55101', 'port_55100', 'port_55099', 'port_55095', 'port_55235', 'port_55240', 'port_55243', 'port_55290', 'port_55344', 'port_55343', 'port_55335', 'port_55308', 'port_55296', 'port_55292', 'port_55289', 'port_55258', 'port_55288', 'port_55281', 'port_55276', 'port_55275', 'port_55270', 'port_55260', 'port_55074', 'port_55057', 'port_55049', 'port_54809', 'port_54869', 'port_54863', 'port_54851', 'port_54844', 'port_54838', 'port_54833', 'port_54788', 'port_54914', 'port_54752', 'port_54747', 'port_54741', 'port_54734', 'port_54732', 'port_54731', 'port_54893', 'port_54915', 'port_55045', 'port_54994', 'port_55036', 'port_55025', 'port_55014', 'port_55010', 'port_55009', 'port_54997', 'port_54981', 'port_54918', 'port_54963', 'port_54951', 'port_54941', 'port_54935', 'port_54929', 'port_54927', 'port_42479', 'port_42132', 'port_42465', 'tld_tm', 'tld_tw', 'tld_tv.br', 'tld_tv', 'tld_tur.br', 'tld_tur.ar', 'tld_tt', 'tld_trieste.it', 'tld_travel.pl', 'tld_travel', 'tld_top', 'tld_tools', 'tld_today', 'tld_to.it', 'tld_tn.us', 'tld_tn', 'tld_tx.us', 'tld_tychy.pl', 'tld_ua', 'tld_va.us', 'tld_video', 'tld_vic.gov.au', 'tld_vic.edu.au', 'tld_vi', 'tld_vg', 'tld_vc', 'tld_va', 'tld_ug', 'tld_uz.ua', 'tld_uz', 'tld_uy', 'tld_us', 'tld_university', 'tld_uk', 'tld_tm.fr', 'tld_tl', 'tld_vlog.br', 'tld_tk', 'tld_srv.br', 'tld_space', 'tld_sp.gov.br', 'tld_solutions', 'tld_social', 'tld_so', 'tld_sn', 'tld_sm', 'tld_sklep.pl', 'tld_sk.ca', 'tld_sk', 'tld_site', 'tld_si', 'tld_shop', 'tld_sh.cn', 'tld_st', 'tld_stargard.pl', 'tld_store', 'tld_team', 'tld_tj', 'tld_tg', 'tld_tf', 'tld_tel', 'tld_technology', 'tld_tech', 'tld_tax', 'tld_studio', 'tld_tas.gov.au', 'tld_szczecin.pl', 'tld_systems', 'tld_sx', 'tld_support', 'tld_su', 'tld_vision', 'tld_vn', 'port_29782', 'port_444', 'port_1374', 'port_1354', 'port_1302', 'port_1285', 'port_1274', 'port_1249', 'port_1234', 'port_1208', 'port_1194', 'port_1182', 'port_1143', 'port_1080', 'port_1066', 'port_1049', 'port_1027', 'port_1399', 'port_1423', 'port_1447', 'port_1741', 'port_1891', 'port_1875', 'port_1823', 'port_1812', 'port_1804', 'port_1801', 'port_1717', 'port_1462', 'port_1691', 'port_1654', 'port_1560', 'port_1547', 'port_1542', 'port_1524', 'port_1025', 'port_443', 'tld_vn.ua', 'port_88', 'tld_wi.us', 'tld_wf', 'tld_website', 'tld_webcam', 'tld_web.tr', 'tld_web.pk', 'tld_web.id', 'tld_waw.pl', 'tld_wakefield.sch.uk', 'tld_wa.us', 'tld_wa.gov.au', 'tld_wa.edu.au', 'tld_w-sussex.sch.uk', 'tld_vu', 'tld_vt.us', 'tld_win', 'tld_work', 'tld_world', 'tld_zone', 'port_84', 'port_83', 'port_82', 'port_81', 'port_80', 'tld_zp.ua', 'tld_zj.cn', 'tld_wroclaw.pl', 'tld_yt', 'tld_yk.ca', 'tld_xxx', 'tld_xn--p1ai', 'tld_wv.us', 'tld_ws', 'tld_sh', 'tld_sg', 'tld_services', 'tld_or.kr', 'tld_org.eg', 'tld_org.ec', 'tld_org.do', 'tld_org.co', 'tld_org.cn', 'tld_org.bw', 'tld_org.br', 'tld_org.bd', 'tld_org.bb', 'tld_org.au', 'tld_org.ar', 'tld_org.al', 'tld_org.af', 'tld_or.us', 'tld_or.ug', 'tld_org.es', 'tld_org.gr', 'tld_org.gt', 'tld_org.mt', 'tld_org.nz', 'tld_org.np', 'tld_org.ni', 'tld_org.ng', 'tld_org.my', 'tld_org.mx', 'tld_org.mk', 'tld_org.hk', 'tld_org.ma', 'tld_org.lb', 'tld_org.je', 'tld_org.ir', 'tld_org.in', 'tld_org.il', 'tld_or.tz', 'tld_or.ke', 'tld_se', 'tld_or.jp', 'tld_nt.ca', 'tld_nsw.edu.au', 'tld_ns.ca', 'tld_nr', 'tld_no', 'tld_nm.us', 'tld_nl.ca', 'tld_nj.us', 'tld_ninja', 'tld_nic.in', 'tld_ni.sch.uk', 'tld_nhs.uk', 'tld_nh.us', 'tld_ng', 'tld_nf.ca', 'tld_ntr.br', 'tld_nu', 'tld_nv.us', 'tld_olsztyn.pl', 'tld_or.id', 'tld_or.at', 'tld_ooo', 'tld_one', 'tld_on.ca', 'tld_om', 'tld_okinawa.jp', 'tld_ny.us', 'tld_ok.us', 'tld_oh.us', 'tld_odessa.ua', 'tld_od.ua', 'tld_nz', 'tld_nyc', 'tld_org.pe', 'tld_org.ph', 'tld_org.pk', 'tld_org.pl', 'tld_rest', 'tld_res.in', 'tld_report', 'tld_rent', 'tld_red', 'tld_re.kr', 'tld_re', 'tld_radom.pl', 'tld_radio.br', 'tld_racing', 'tld_qld.gov.au', 'tld_qld.edu.au', 'tld_qc.ca', 'tld_qa', 'tld_pw', 'tld_reviews', 'tld_ro', 'tld_rocks', 'tld_sale', 'tld_sd.us', 'tld_sd', 'tld_sch.lk', 'tld_sch.id', 'tld_sc.us', 'tld_sc.ke', 'tld_sa.it', 'tld_rs', 'tld_sa.gov.au', 'tld_sa.edu.au', 'tld_sa', 'tld_rzeszow.pl', 'tld_rw', 'tld_run', 'tld_ps', 'tld_promo', 'tld_pro.br', 'tld_org.ua', 'tld_ovh', 'tld_org.zm', 'tld_org.za', 'tld_org.ws', 'tld_org.ve', 'tld_org.uy', 'tld_org.tw', 'tld_pa.gov.br', 'tld_org.tr', 'tld_org.sg', 'tld_org.sa', 'tld_org.rs', 'tld_org.py', 'tld_org.pt', 'tld_oz.au', 'tld_pa.us', 'tld_priv.no', 'tld_pn', 'tld_press', 'tld_pr', 'tld_ppg.br', 'tld_pp.se', 'tld_powys.sch.uk', 'tld_police.uk', 'tld_pm', 'tld_page', 'tld_pk', 'tld_ph', 'tld_pe.kr', 'tld_pe.ca', 'tld_pe', 'tld_party', 'port_1927', 'port_1935', 'port_1950', 'port_14072', 'port_16272', 'port_16171', 'port_16070', 'port_15878', 'port_15816', 'port_15734', 'port_15580', 'port_15238', 'port_14930', 'port_14805', 'port_14677', 'port_14482', 'port_14409', 'port_14261', 'port_14114', 'port_16636', 'port_16647', 'port_16670', 'port_17537', 'port_19162', 'port_19112', 'port_19061', 'port_18959', 'port_18290', 'port_17628', 'port_17442', 'port_16828', 'port_17389', 'port_17113', 'port_17012', 'port_16982', 'port_16972', 'port_16897', 'port_14073', 'port_14035', 'port_10080', 'port_13852', 'port_11725', 'port_11681', 'port_11577', 'port_11513', 'port_11489', 'port_11474', 'port_11296', 'port_11161', 'port_10974', 'port_10845', 'port_10815', 'port_10796', 'port_10762', 'port_10461', 'port_10388', 'port_11732', 'port_11740', 'port_11830', 'port_13022', 'port_13699', 'port_13669', 'port_13579', 'port_13474', 'port_13383', 'port_13348', 'port_12645', 'port_11908', 'port_12633', 'port_12314', 'port_12130', 'port_12098', 'port_12041', 'port_11983', 'port_19174', 'port_19218', 'port_19501', 'port_19635', 'port_25780', 'port_25734', 'port_25712', 'port_25639', 'port_25482', 'port_25322', 'port_25013', 'port_24911', 'port_24703', 'port_24677', 'port_24552', 'port_24443', 'port_24353', 'port_24240', 'port_23744', 'port_25973', 'port_26029', 'port_26286', 'port_27877', 'port_29712', 'port_29695', 'port_29026', 'port_29015', 'port_28561', 'port_28187', 'port_27409', 'port_26330', 'port_27197', 'port_27158', 'port_26950', 'port_26760', 'port_26715', 'port_26598', 'port_23693', 'port_23648', 'port_23559', 'port_20356', 'port_21447', 'port_21145', 'port_20936', 'port_20807', 'port_20663', 'port_20628', 'port_20277', 'port_21794', 'port_20271', 'port_20107', 'port_20018', 'port_19730', 'port_19702', 'port_19655', 'port_21530', 'port_21992', 'port_23308', 'port_22859', 'port_23156', 'port_23148', 'port_23127', 'port_23074', 'port_22976', 'port_22896', 'port_22757', 'port_22074', 'port_22689', 'port_22616', 'port_22401', 'port_22316', 'port_22235', 'port_22201', 'port_10158', 'port_9999', 'port_2004', 'port_3635', 'port_4217', 'port_4201', 'port_4162', 'port_4124', 'port_4120', 'port_4104', 'port_4090', 'port_4075', 'port_4015', 'port_3898', 'port_3884', 'port_3877', 'port_3874', 'port_3836', 'port_3659', 'port_4238', 'port_4245', 'port_4251', 'port_4751', 'port_4872', 'port_4852', 'port_4801', 'port_4796', 'port_4764', 'port_4755', 'port_4743', 'port_4391', 'port_4740', 'port_4709', 'port_4638', 'port_4630', 'port_4581', 'port_4409', 'port_3647', 'port_3552', 'port_9940', 'port_3546', 'port_2587', 'port_2398', 'port_2376', 'port_2367', 'port_2363', 'port_2352', 'port_2331', 'port_2315', 'port_2286', 'port_2233', 'port_2093', 'port_2063', 'port_2028', 'port_2020', 'port_2012', 'port_2614', 'port_2742', 'port_2753', 'port_3221', 'port_3517', 'port_3506', 'port_3485', 'port_3456', 'port_3388', 'port_3287', 'port_3218', 'port_2837', 'port_3210', 'port_3151', 'port_3061', 'port_2869', 'port_2864', 'port_2853', 'port_4912', 'port_4972', 'port_5028', 'port_5062', 'port_8829', 'port_8443', 'port_8383', 'port_8337', 'port_8199', 'port_8192', 'port_8186', 'port_8181', 'port_8136', 'port_8100', 'port_8087', 'port_8082', 'port_8081', 'port_8046', 'port_8020', 'port_8868', 'port_8881', 'port_8888', 'port_9604', 'port_9890', 'port_9874', 'port_9803', 'port_9796', 'port_9780', 'port_9646', 'port_9546', 'port_8890', 'port_9442', 'port_9276', 'port_9213', 'port_9190', 'port_9146', 'port_9010', 'port_8008', 'port_8004', 'port_8002', 'port_5681', 'port_6565', 'port_6435', 'port_6332', 'port_6273', 'port_5895', 'port_5800', 'port_5566', 'port_6633', 'port_5531', 'port_5441', 'port_5316', 'port_5229', 'port_5220', 'port_5171', 'port_6632', 'port_6651', 'port_8001', 'port_7516', 'port_8000', 'port_7890', 'port_7766', 'port_7762', 'port_7674', 'port_7555', 'port_7447', 'port_6688', 'port_7438', 'port_7346', 'port_7287', 'port_7195', 'port_7124', 'port_6719', 'tld_nf', 'tld_news', 'tld_network', 'tld_com.pe', 'tld_company', 'tld_community', 'tld_com.vn', 'tld_com.ve', 'tld_com.uy', 'tld_com.ua', 'tld_com.tw', 'tld_com.tr', 'tld_com.tn', 'tld_com.sv', 'tld_com.sg', 'tld_com.sa', 'tld_com.py', 'tld_com.pt', 'tld_com.pk', 'tld_cool', 'tld_coop', 'tld_coop.br', 'tld_cx', 'tld_design', 'tld_desa.id', 'tld_derbyshire.sch.uk', 'tld_de.us', 'tld_date', 'tld_czest.pl', 'tld_cv.ua', 'tld_coop.py', 'tld_cv', 'tld_cu', 'tld_ct.us', 'tld_creditcard', 'tld_credit', 'tld_cr', 'tld_com.ph', 'tld_com.pa', 'tld_co.zw', 'tld_com.np', 'tld_com.fj', 'tld_com.et', 'tld_com.es', 'tld_com.eg', 'tld_com.ec', 'tld_com.do', 'tld_com.cy', 'tld_com.co', 'tld_com.bz', 'tld_com.bt', 'tld_com.bo', 'tld_com.bd', 'tld_com.ba', 'tld_com.ar', 'tld_com.ai', 'tld_com.fr', 'tld_com.gh', 'tld_com.gr', 'tld_com.lb', 'tld_com.ng', 'tld_com.na', 'tld_com.my', 'tld_com.mx', 'tld_com.mt', 'tld_com.mk', 'tld_com.kz', 'tld_com.gt', 'tld_com.kw', 'tld_com.kh', 'tld_com.jm', 'tld_com.im', 'tld_com.hr', 'tld_com.hk', 'tld_digital', 'tld_dj', 'tld_dn.ua', 'tld_do', 'tld_email', 'tld_edu.vn', 'tld_edu.ve', 'tld_edu.uy', 'tld_edu.ua', 'tld_edu.tw', 'tld_edu.tr', 'tld_edu.sv', 'tld_edu.sg', 'tld_edu.sa', 'tld_edu.rs', 'tld_edu.pt', 'tld_edu.pl', 'tld_edu.pk', 'tld_edu.ph', 'tld_eng.br', 'tld_ens.tn', 'tld_estate', 'tld_fin.ec', 'tld_frl', 'tld_fot.br', 'tld_football', 'tld_fo', 'tld_fm', 'tld_fl.us', 'tld_fi', 'tld_etc.br', 'tld_fg.it', 'tld_fed.us', 'tld_falkirk.sch.uk', 'tld_faith', 'tld_expert', 'tld_events', 'tld_edu.pe', 'tld_edu.om', 'tld_edu.np', 'tld_eco.br', 'tld_edu.bb', 'tld_edu.au', 'tld_edu.ar', 'tld_edu.al', 'tld_edu.af', 'tld_ed.jp', 'tld_ec', 'tld_edu.br', 'tld_e-sussex.sch.uk', 'tld_dz', 'tld_dp.ua', 'tld_download', 'tld_donetsk.ua', 'tld_domains', 'tld_edu.bd', 'tld_edu.bt', 'tld_edu.ng', 'tld_edu.kh', 'tld_edu.my', 'tld_edu.mx', 'tld_edu.mt', 'tld_edu.mn', 'tld_edu.mk', 'tld_edu.lb', 'tld_edu.in', 'tld_edu.cn', 'tld_edu.hk', 'tld_edu.gt', 'tld_edu.gh', 'tld_edu.eg', 'tld_edu.ec', 'tld_edu.co', 'tld_coffee', 'tld_co.zm', 'tld_fun', 'tld_aero', 'tld_art', 'tld_arq.br', 'tld_army', 'tld_argyll-bute.sch.uk', 'tld_ar.us', 'tld_ar', 'tld_aq', 'tld_app', 'tld_am', 'tld_al.us', 'tld_al', 'tld_ak.us', 'tld_ai', 'tld_agency', 'tld_ag', 'tld_art.br', 'tld_as', 'tld_asn.au', 'tld_ba.gov.br', 'tld_bf', 'tld_best', 'tld_bel.tr', 'tld_be', 'tld_bc.ca', 'tld_bar', 'tld_ba', 'tld_asso.fr', 'tld_b.br', 'tld_az.us', 'tld_az', 'tld_av.tr', 'tld_au', 'tld_at', 'tld_af', 'tld_ae', 'tld_co.za', 'tld_adv.br', 'tld_ac.id', 'tld_ac.fj', 'tld_ac.cy', 'tld_ac.cr', 'tld_ac.cn', 'tld_ac.be', 'tld_ac.bd', 'tld_ac.ae', 'tld_ac', 'tld_ab.ca', 'encoding_Windows-1254', 'encoding_Windows-1252', 'encoding_MacRoman', 'encoding_ISO-8859-9', 'is_shortener', 'tld_ac.il', 'tld_ac.in', 'tld_ac.ir', 'tld_ac.tz', 'tld_adm.br', 'tld_ad.jp', 'tld_ad', 'tld_accountant', 'tld_academy', 'tld_ac.za', 'tld_ac.th', 'tld_ac.jp', 'tld_ac.rs', 'tld_ac.nz', 'tld_ac.ma', 'tld_ac.lk', 'tld_ac.kr', 'tld_ac.ke', 'tld_bi', 'tld_bio', 'tld_biz', 'tld_biz.id', 'tld_co.bw', 'tld_co.bi', 'tld_co.at', 'tld_co.ao', 'tld_cnt.br', 'tld_cm', 'tld_club', 'tld_cloud', 'tld_click', 'tld_claims', 'tld_cl', 'tld_city', 'tld_ci', 'tld_cheap', 'tld_ch', 'tld_co.cm', 'tld_co.cr', 'tld_co.hu', 'tld_co.rs', 'tld_co.ve', 'tld_co.us', 'tld_co.ug', 'tld_co.tz', 'tld_co.tt', 'tld_co.th', 'tld_co.mz', 'tld_co.id', 'tld_co.ma', 'tld_co.kr', 'tld_co.jp', 'tld_co.ir', 'tld_co.in', 'tld_co.il', 'tld_cf', 'tld_center', 'tld_ce.gov.br', 'tld_br', 'tld_bw', 'tld_buzz', 'tld_business', 'tld_bt', 'tld_bs.it', 'tld_brindisi.it', 'tld_bo', 'tld_bydgoszcz.pl', 'tld_bn.it', 'tld_bm', 'tld_blog.br', 'tld_blog', 'tld_bj', 'tld_biz.tr', 'tld_by', 'tld_bz', 'tld_cd', 'tld_cat', 'tld_cci.fr', 'tld_cc.tx.us', 'tld_cc.il.us', 'tld_cc.ca.us', 'tld_cc', 'tld_catholic.edu.au', 'tld_cash', 'tld_ca.us', 'tld_casa', 'tld_cardiff.sch.uk', 'tld_capital', 'tld_capetown', 'tld_cam', 'tld_cafe', 'tld_from.hr', 'tld_g12.br', 'tld_net.za', 'tld_lib.ks.us', 'tld_love', 'tld_london', 'tld_loan', 'tld_llc', 'tld_lk', 'tld_live', 'tld_link', 'tld_limo', 'tld_life', 'tld_lib.wi.us', 'tld_lib.va.us', 'tld_lib.tx.us', 'tld_lib.oh.us', 'tld_lib.mo.us', 'tld_lib.mn.us', 'tld_lowicz.pl', 'tld_lt', 'tld_ltd', 'tld_ma.us', 'tld_mc', 'tld_mba', 'tld_mb.ca', 'tld_market', 'tld_management', 'tld_malbork.pl', 'tld_ma', 'tld_ltd.uk', 'tld_ly', 'tld_lviv.ua', 'tld_lv', 'tld_lutsk.ua', 'tld_lukow.pl', 'tld_lu', 'tld_lib.me.us', 'tld_lib.in.us', 'tld_k12.or.us', 'tld_lib.il.us', 'tld_kh.ua', 'tld_kg', 'tld_kepno.pl', 'tld_kent.sch.uk', 'tld_kalisz.pl', 'tld_k12.wy.us', 'tld_k12.wi.us', 'tld_k12.wa.us', 'tld_k12.vt.us', 'tld_k12.va.us', 'tld_k12.ut.us', 'tld_k12.tx.us', 'tld_k12.tr', 'tld_k12.tn.us', 'tld_k12.sc.us', 'tld_kids.us', 'tld_kiev.ua', 'tld_kim', 'tld_la', 'tld_lib.ca.us', 'tld_li', 'tld_lg.ua', 'tld_lg.jp', 'tld_lc', 'tld_la.us', 'tld_kz', 'tld_km.ua', 'tld_ky.us', 'tld_ky', 'tld_kutno.pl', 'tld_ks.ua', 'tld_kr', 'tld_kochi.jp', 'tld_md', 'tld_md.us', 'tld_me', 'tld_me.ke', 'tld_net.ma', 'tld_net.in', 'tld_net.id', 'tld_net.hk', 'tld_net.ge', 'tld_net.ec', 'tld_net.co', 'tld_net.cn', 'tld_net.ck', 'tld_net.br', 'tld_net.bd', 'tld_net.au', 'tld_net.ar', 'tld_ne.us', 'tld_nd.us', 'tld_net.ms', 'tld_net.mt', 'tld_net.mx', 'tld_net.pl', 'tld_net.vn', 'tld_net.uk', 'tld_net.ua', 'tld_net.tw', 'tld_net.sa', 'tld_net.py', 'tld_net.pk', 'tld_net.my', 'tld_net.ph', 'tld_net.pe', 'tld_net.nz', 'tld_net.nr', 'tld_net.np', 'tld_net.ng', 'tld_nc.us', 'tld_nb.ca', 'tld_navy', 'tld_mi.us', 'tld_mk.ua', 'tld_mk', 'tld_mil.za', 'tld_mil.nz', 'tld_mil', 'tld_mielec.pl', 'tld_mi.it', 'tld_mn.us', 'tld_mg.gov.br', 'tld_men', 'tld_media', 'tld_med.br', 'tld_me.us', 'tld_me.uk', 'tld_mn', 'tld_mo.us', 'tld_name.tr', 'tld_mx', 'tld_name.ng', 'tld_name.my', 'tld_name', 'tld_nagoya', 'tld_mz', 'tld_my.id', 'tld_mw', 'tld_mobi', 'tld_museum', 'tld_mus.br', 'tld_mu', 'tld_ms.us', 'tld_mp', 'tld_monster', 'tld_k12.pa.us', 'tld_k12.ok.us', 'tld_ga.us', 'tld_gov.gh', 'tld_gov.pk', 'tld_gov.ph', 'tld_gov.np', 'tld_gov.ng', 'tld_gov.my', 'tld_gov.mu', 'tld_gov.mk', 'tld_gov.lk', 'tld_gov.la', 'tld_gov.kh', 'tld_gov.kg', 'tld_gov.jm', 'tld_gov.in', 'tld_gov.il', 'tld_gov.hk', 'tld_gov.pl', 'tld_gov.py', 'tld_gov.sa', 'tld_govt.nz', 'tld_green', 'tld_gratis', 'tld_gr.jp', 'tld_gr', 'tld_gq', 'tld_gp', 'tld_gov.za', 'tld_gov.sd', 'tld_gov.vn', 'tld_gov.uk', 'tld_gov.ua', 'tld_gov.tw', 'tld_gov.tr', 'tld_gov.sg', 'tld_gov.gr', 'tld_gov.eg', 'tld_k12.oh.us', 'tld_gov.co', 'tld_go.jp', 'tld_go.id', 'tld_go.gov.br', 'tld_go.cr', 'tld_gm', 'tld_global', 'tld_gle', 'tld_gl', 'tld_gg', 'tld_gen.tr', 'tld_gen.nz', 'tld_ge', 'tld_gdn', 'tld_gd', 'tld_gc.ca', 'tld_go.ke', 'tld_go.th', 'tld_go.tz', 'tld_gouv.fr', 'tld_gov.cn', 'tld_gov.by', 'tld_gov.br', 'tld_gov.bd', 'tld_gov.au', 'tld_gov.ar', 'tld_gop.pk', 'tld_go.ug', 'tld_goog', 'tld_gob.ve', 'tld_gob.sv', 'tld_gob.pe', 'tld_gob.mx', 'tld_gob.ar', 'tld_group', 'tld_gs', 'tld_gt', 'tld_guru', 'tld_k12.az.us', 'tld_k12.al.us', 'tld_jobs', 'tld_jo', 'tld_je', 'tld_itau', 'tld_it', 'tld_istanbul', 'tld_is', 'tld_ir', 'tld_io', 'tld_investments', 'tld_international', 'tld_int', 'tld_institute', 'tld_k12.ca.us', 'tld_k12.ct.us', 'tld_k12.de.us', 'tld_k12.mn.us', 'tld_k12.ny.us', 'tld_k12.nj.us', 'tld_k12.nh.us', 'tld_k12.nc.us', 'tld_k12.ms.us', 'tld_k12.mo.us', 'tld_k12.mi.us', 'tld_k12.fl.us', 'tld_k12.md.us', 'tld_k12.ky.us', 'tld_k12.in.us', 'tld_k12.il.us', 'tld_k12.ia.us', 'tld_k12.ga.us', 'tld_info.ro', 'tld_info.pl', 'tld_info.bd', 'tld_host', 'tld_i.ng', 'tld_hu', 'tld_ht', 'tld_house', 'tld_hotel.tz', 'tld_hosting', 'tld_hospital', 'tld_ia.us', 'tld_hm', 'tld_hk', 'tld_history.museum', 'tld_help', 'tld_haus', 'tld_harrow.sch.uk', 'tld_i.ph', 'tld_icu', 'tld_inf.br', 'tld_in.rs', 'tld_ind.tn', 'tld_ind.in', 'tld_ind.br', 'tld_in.us', 'tld_in.ua', 'tld_in.th', 'tld_imb.br', 'tld_id', 'tld_im', 'tld_ilawa.pl', 'tld_il.us', 'tld_if.ua', 'tld_ie', 'tld_id.au', 'port_29776', 'port_29784', 'port_42454', 'port_38890', 'port_39009', 'port_39007', 'port_39005', 'port_39001', 'port_38998', 'port_38990', 'port_38988', 'port_38987', 'port_38970', 'port_38962', 'port_38951', 'port_38943', 'port_38934', 'port_38919', 'port_38917', 'port_39013', 'port_39032', 'port_39039', 'port_39107', 'port_39156', 'port_39135', 'port_39127', 'port_39122', 'port_39120', 'port_39111', 'port_39104', 'port_39042', 'port_39072', 'port_39071', 'port_39066', 'port_39063', 'port_39050', 'port_39043', 'port_38900', 'port_38882', 'port_39183', 'port_38880', 'port_38692', 'port_38691', 'port_38681', 'port_38679', 'port_38677', 'port_38671', 'port_38664', 'port_38648', 'port_38630', 'port_38622', 'port_38621', 'port_38615', 'port_38614', 'port_38606', 'port_38605', 'port_38704', 'port_38710', 'port_38722', 'port_38823', 'port_38865', 'port_38864', 'port_38847', 'port_38845', 'port_38837', 'port_38826', 'port_38818', 'port_38727', 'port_38816', 'port_38803', 'port_38800', 'port_38778', 'port_38750', 'port_38730', 'port_39161', 'port_39194', 'port_29847', 'port_39611', 'port_39757', 'port_39740', 'port_39731', 'port_39728', 'port_39727', 'port_39695', 'port_39682', 'port_39676', 'port_39646', 'port_39637', 'port_39629', 'port_39620', 'port_39618', 'port_39616', 'port_39615', 'port_39771', 'port_39773', 'port_39777', 'port_39847', 'port_39871', 'port_39867', 'port_39866', 'port_39864', 'port_39859', 'port_39857', 'port_39844', 'port_39788', 'port_39837', 'port_39835', 'port_39818', 'port_39815', 'port_39810', 'port_39806', 'port_39613', 'port_39591', 'port_39202', 'port_39584', 'port_39388', 'port_39387', 'port_39369', 'port_39368', 'port_39367', 'port_39353', 'port_39315', 'port_39312', 'port_39309', 'port_39296', 'port_39279', 'port_39273', 'port_39250', 'port_39245', 'port_39223', 'port_39395', 'port_39417', 'port_39427', 'port_39519', 'port_39546', 'port_39536', 'port_39534', 'port_39532', 'port_39530', 'port_39528', 'port_39516', 'port_39438', 'port_39513', 'port_39506', 'port_39488', 'port_39485', 'port_39470', 'port_39448', 'port_38603', 'port_38598', 'port_38596', 'port_37621', 'port_37728', 'port_37706', 'port_37700', 'port_37698', 'port_37688', 'port_37681', 'port_37671', 'port_37665', 'port_37662', 'port_37646', 'port_37643', 'port_37641', 'port_37630', 'port_37628', 'port_37624', 'port_37741', 'port_37751', 'port_37766', 'port_37834', 'port_37918', 'port_37872', 'port_37870', 'port_37860', 'port_37845', 'port_37837', 'port_37829', 'port_37772', 'port_37821', 'port_37800', 'port_37798', 'port_37796', 'port_37793', 'port_37776', 'port_37623', 'port_37608', 'port_38587', 'port_37603', 'port_37470', 'port_37469', 'port_37463', 'port_37462', 'port_37461', 'port_37438', 'port_37433', 'port_37428', 'port_37424', 'port_37422', 'port_37419', 'port_37412', 'port_37396', 'port_37393', 'port_37389', 'port_37472', 'port_37487', 'port_37488', 'port_37545', 'port_37600', 'port_37591', 'port_37588', 'port_37564', 'port_37562', 'port_37559', 'port_37543', 'port_37492', 'port_37532', 'port_37530', 'port_37528', 'port_37516', 'port_37512', 'port_37509', 'port_37930', 'port_37945', 'port_37952', 'port_37954', 'port_38453', 'port_38439', 'port_38410', 'port_38408', 'port_38406', 'port_38401', 'port_38400', 'port_38380', 'port_38376', 'port_38372', 'port_38344', 'port_38343', 'port_38339', 'port_38333', 'port_38332', 'port_38455', 'port_38457', 'port_38464', 'port_38528', 'port_38581', 'port_38576', 'port_38575', 'port_38557', 'port_38551', 'port_38530', 'port_38526', 'port_38466', 'port_38518', 'port_38502', 'port_38492', 'port_38484', 'port_38478', 'port_38474', 'port_38313', 'port_38312', 'port_38308', 'port_38099', 'port_38152', 'port_38151', 'port_38126', 'port_38119', 'port_38115', 'port_38100', 'port_38097', 'port_38158', 'port_38056', 'port_38052', 'port_38049', 'port_38042', 'port_38033', 'port_37975', 'port_38156', 'port_38180', 'port_38302', 'port_38247', 'port_38295', 'port_38274', 'port_38266', 'port_38265', 'port_38264', 'port_38257', 'port_38226', 'port_38186', 'port_38225', 'port_38203', 'port_38201', 'port_38199', 'port_38197', 'port_38189', 'port_39878', 'port_39888', 'port_39906', 'port_41599', 'port_41744', 'port_41741', 'port_41737', 'port_41712', 'port_41708', 'port_41706', 'port_41684', 'port_41669', 'port_41668', 'port_41657', 'port_41647', 'port_41642', 'port_41612', 'port_41610', 'port_41609', 'port_41759', 'port_41761', 'port_41779', 'port_41832', 'port_41861', 'port_41854', 'port_41853', 'port_41848', 'port_41846', 'port_41837', 'port_41825', 'port_41783', 'port_41820', 'port_41802', 'port_41801', 'port_41797', 'port_41794', 'port_41785', 'port_41605', 'port_41598', 'port_41153', 'port_41597', 'port_41360', 'port_41346', 'port_41321', 'port_41313', 'port_41308', 'port_41306', 'port_41288', 'port_41266', 'port_41263', 'port_41232', 'port_41221', 'port_41219', 'port_41199', 'port_41182', 'port_41172', 'port_41363', 'port_41378', 'port_41382', 'port_41499', 'port_41582', 'port_41552', 'port_41545', 'port_41535', 'port_41514', 'port_41508', 'port_41496', 'port_41388', 'port_41493', 'port_41450', 'port_41439', 'port_41416', 'port_41392', 'port_41391', 'port_41864', 'port_41865', 'port_41866', 'port_41875', 'port_42290', 'port_42285', 'port_42277', 'port_42269', 'port_42264', 'port_42262', 'port_42251', 'port_42244', 'port_42225', 'port_42221', 'port_42204', 'port_42203', 'port_42195', 'port_42186', 'port_42171', 'port_42299', 'port_42323', 'port_42327', 'port_42386', 'port_42436', 'port_42433', 'port_42424', 'port_42419', 'port_42411', 'port_42391', 'port_42381', 'port_42335', 'port_42374', 'port_42372', 'port_42370', 'port_42369', 'port_42353', 'port_42343', 'port_42166', 'port_42123', 'port_42115', 'port_41936', 'port_41987', 'port_41981', 'port_41979', 'port_41977', 'port_41970', 'port_41943', 'port_41931', 'port_41992', 'port_41914', 'port_41911', 'port_41905', 'port_41895', 'port_41887', 'port_41879', 'port_41988', 'port_41997', 'port_42101', 'port_42060', 'port_42094', 'port_42093', 'port_42089', 'port_42077', 'port_42071', 'port_42069', 'port_42046', 'port_42000', 'port_42045', 'port_42042', 'port_42040', 'port_42018', 'port_42004', 'port_42001', 'port_41170', 'port_41151', 'port_39911', 'port_40282', 'port_40391', 'port_40376', 'port_40366', 'port_40359', 'port_40357', 'port_40356', 'port_40350', 'port_40346', 'port_40337', 'port_40315', 'port_40313', 'port_40309', 'port_40306', 'port_40297', 'port_40296', 'port_40397', 'port_40398', 'port_40406', 'port_40465', 'port_40519', 'port_40511', 'port_40508', 'port_40504', 'port_40494', 'port_40474', 'port_40459', 'port_40420', 'port_40452', 'port_40450', 'port_40438', 'port_40430', 'port_40428', 'port_40424', 'port_40294', 'port_40280', 'port_41150', 'port_40275', 'port_40054', 'port_40045', 'port_40043', 'port_40042', 'port_40027', 'port_40011', 'port_40010', 'port_40003', 'port_39998', 'port_39984', 'port_39979', 'port_39973', 'port_39936', 'port_39922', 'port_39917', 'port_40063', 'port_40069', 'port_40076', 'port_40184', 'port_40226', 'port_40222', 'port_40204', 'port_40194', 'port_40192', 'port_40190', 'port_40182', 'port_40081', 'port_40169', 'port_40163', 'port_40160', 'port_40141', 'port_40112', 'port_40084', 'port_40522', 'port_40528', 'port_40534', 'port_40538', 'port_41014', 'port_40984', 'port_40982', 'port_40981', 'port_40961', 'port_40914', 'port_40907', 'port_40902', 'port_40888', 'port_40872', 'port_40870', 'port_40841', 'port_40837', 'port_40830', 'port_40828', 'port_41016', 'port_41019', 'port_41029', 'port_41092', 'port_41139', 'port_41130', 'port_41126', 'port_41107', 'port_41097', 'port_41096', 'port_41091', 'port_41034', 'port_41088', 'port_41086', 'port_41084', 'port_41063', 'port_41062', 'port_41046', 'port_40818', 'port_40813', 'port_40798', 'port_40583', 'port_40598', 'port_40596', 'port_40595', 'port_40593', 'port_40588', 'port_40587', 'port_40582', 'port_40625', 'port_40576', 'port_40563', 'port_40561', 'port_40560', 'port_40550', 'port_40543', 'port_40618', 'port_40626', 'port_40776', 'port_40708', 'port_40773', 'port_40752', 'port_40742', 'port_40721', 'port_40720', 'port_40712', 'port_40706', 'port_40651', 'port_40702', 'port_40691', 'port_40679', 'port_40670', 'port_40660', 'port_40656', 'port_37385', 'port_37371', 'port_37368', 'port_33933', 'port_34143', 'port_34133', 'port_34082', 'port_34065', 'port_34060', 'port_34052', 'port_34042', 'port_34022', 'port_34004', 'port_34002', 'port_33993', 'port_33979', 'port_33978', 'port_33964', 'port_33962', 'port_34152', 'port_34162', 'port_34176', 'port_34228', 'port_34275', 'port_34273', 'port_34266', 'port_34254', 'port_34244', 'port_34238', 'port_34216', 'port_34194', 'port_34215', 'port_34214', 'port_34209', 'port_34208', 'port_34205', 'port_34196', 'port_33935', 'port_33915', 'port_33650', 'port_33912', 'port_33729', 'port_33716', 'port_33715', 'port_33710', 'port_33699', 'port_33698', 'port_33695', 'port_33694', 'port_33690', 'port_33685', 'port_33684', 'port_33682', 'port_33678', 'port_33663', 'port_33653', 'port_33732', 'port_33736', 'port_33747', 'port_33805', 'port_33895', 'port_33876', 'port_33863', 'port_33854', 'port_33817', 'port_33807', 'port_33802', 'port_33750', 'port_33798', 'port_33793', 'port_33785', 'port_33782', 'port_33765', 'port_33763', 'port_34278', 'port_34279', 'port_34281', 'port_34286', 'port_34680', 'port_34677', 'port_34669', 'port_34664', 'port_34662', 'port_34658', 'port_34648', 'port_34644', 'port_34642', 'port_34618', 'port_34615', 'port_34614', 'port_34600', 'port_34599', 'port_34587', 'port_34687', 'port_34688', 'port_34690', 'port_34789', 'port_34828', 'port_34825', 'port_34819', 'port_34817', 'port_34815', 'port_34799', 'port_34785', 'port_34708', 'port_34781', 'port_34774', 'port_34741', 'port_34739', 'port_34727', 'port_34724', 'port_34567', 'port_34566', 'port_34562', 'port_34373', 'port_34395', 'port_34388', 'port_34386', 'port_34380', 'port_34378', 'port_34374', 'port_34355', 'port_34417', 'port_34343', 'port_34314', 'port_34302', 'port_34298', 'port_34297', 'port_34290', 'port_34408', 'port_34421', 'port_34556', 'port_34504', 'port_34552', 'port_34538', 'port_34531', 'port_34511', 'port_34509', 'port_34508', 'port_34479', 'port_34434', 'port_34472', 'port_34464', 'port_34449', 'port_34448', 'port_34441', 'port_34436', 'port_33652', 'port_33644', 'port_34858', 'port_32818', 'port_32977', 'port_32968', 'port_32957', 'port_32955', 'port_32953', 'port_32936', 'port_32926', 'port_32918', 'port_32910', 'port_32896', 'port_32893', 'port_32891', 'port_32858', 'port_32844', 'port_32840', 'port_32978', 'port_32980', 'port_32991', 'port_33064', 'port_33076', 'port_33074', 'port_33073', 'port_33072', 'port_33070', 'port_33069', 'port_33054', 'port_32995', 'port_33046', 'port_33045', 'port_33034', 'port_33010', 'port_33000', 'port_32999', 'port_32826', 'port_32812', 'port_33627', 'port_32810', 'port_31505', 'port_31490', 'port_31136', 'port_31009', 'port_30943', 'port_30914', 'port_30869', 'port_30736', 'port_30645', 'port_30592', 'port_30422', 'port_30358', 'port_30312', 'port_30240', 'port_30005', 'port_31612', 'port_31615', 'port_31715', 'port_32414', 'port_32799', 'port_32797', 'port_32795', 'port_32768', 'port_32730', 'port_32515', 'port_32326', 'port_31783', 'port_32308', 'port_32275', 'port_32217', 'port_32035', 'port_32000', 'port_31972', 'port_33081', 'port_33082', 'port_33094', 'port_33096', 'port_33522', 'port_33517', 'port_33472', 'port_33469', 'port_33457', 'port_33456', 'port_33453', 'port_33444', 'port_33432', 'port_33431', 'port_33420', 'port_33419', 'port_33417', 'port_33411', 'port_33406', 'port_33528', 'port_33541', 'port_33546', 'port_33586', 'port_33619', 'port_33612', 'port_33610', 'port_33604', 'port_33600', 'port_33590', 'port_33584', 'port_33555', 'port_33582', 'port_33581', 'port_33579', 'port_33573', 'port_33572', 'port_33559', 'port_33394', 'port_33393', 'port_33381', 'port_33132', 'port_33214', 'port_33194', 'port_33181', 'port_33167', 'port_33140', 'port_33136', 'port_33127', 'port_33225', 'port_33113', 'port_33111', 'port_33109', 'port_33101', 'port_33100', 'port_33099', 'port_33221', 'port_33238', 'port_33379', 'port_33332', 'port_33374', 'port_33365', 'port_33357', 'port_33347', 'port_33344', 'port_33337', 'port_33330', 'port_33251', 'port_33328', 'port_33319', 'port_33308', 'port_33305', 'port_33302', 'port_33297', 'port_34839', 'port_34861', 'port_37360', 'port_36342', 'port_36466', 'port_36460', 'port_36452', 'port_36447', 'port_36440', 'port_36431', 'port_36430', 'port_36416', 'port_36411', 'port_36406', 'port_36403', 'port_36398', 'port_36368', 'port_36359', 'port_36354', 'port_36467', 'port_36476', 'port_36493', 'port_36560', 'port_36608', 'port_36606', 'port_36604', 'port_36597', 'port_36596', 'port_36571', 'port_36546', 'port_36507', 'port_36542', 'port_36535', 'port_36518', 'port_36516', 'port_36515', 'port_36510', 'port_36346', 'port_36308', 'port_35968', 'port_36288', 'port_36088', 'port_36075', 'port_36074', 'port_36073', 'port_36072', 'port_36054', 'port_36051', 'port_36031', 'port_36030', 'port_36025', 'port_36015', 'port_36011', 'port_36003', 'port_35997', 'port_35978', 'port_36126', 'port_36132', 'port_36134', 'port_36233', 'port_36286', 'port_36276', 'port_36265', 'port_36255', 'port_36241', 'port_36234', 'port_36232', 'port_36142', 'port_36218', 'port_36204', 'port_36185', 'port_36171', 'port_36156', 'port_36146', 'port_36613', 'port_36632', 'port_36639', 'port_36643', 'port_37153', 'port_37135', 'port_37129', 'port_37115', 'port_37107', 'port_37104', 'port_37096', 'port_37090', 'port_37070', 'port_37068', 'port_37066', 'port_37044', 'port_37040', 'port_37034', 'port_37021', 'port_37154', 'port_37164', 'port_37182', 'port_37278', 'port_37354', 'port_37349', 'port_37346', 'port_37336', 'port_37334', 'port_37298', 'port_37266', 'port_37189', 'port_37259', 'port_37258', 'port_37252', 'port_37243', 'port_37226', 'port_37209', 'port_37005', 'port_37002', 'port_37001', 'port_36788', 'port_36811', 'port_36810', 'port_36808', 'port_36807', 'port_36796', 'port_36792', 'port_36758', 'port_36825', 'port_36745', 'port_36698', 'port_36690', 'port_36682', 'port_36677', 'port_36649', 'port_36823', 'port_36848', 'port_36989', 'port_36909', 'port_36979', 'port_36966', 'port_36963', 'port_36962', 'port_36933', 'port_36930', 'port_36895', 'port_36851', 'port_36894', 'port_36885', 'port_36877', 'port_36875', 'port_36868', 'port_36866', 'port_35972', 'port_35965', 'port_34862', 'port_35098', 'port_35213', 'port_35210', 'port_35185', 'port_35178', 'port_35163', 'port_35162', 'port_35156', 'port_35154', 'port_35152', 'port_35150', 'port_35147', 'port_35144', 'port_35142', 'port_35134', 'port_35123', 'port_35227', 'port_35228', 'port_35243', 'port_35371', 'port_35401', 'port_35399', 'port_35397', 'port_35392', 'port_35384', 'port_35380', 'port_35339', 'port_35247', 'port_35335', 'port_35330', 'port_35328', 'port_35318', 'port_35314', 'port_35279', 'port_35119', 'port_35097', 'port_35953', 'port_35084', 'port_34975', 'port_34969', 'port_34961', 'port_34959', 'port_34951', 'port_34934', 'port_34925', 'port_34917', 'port_34907', 'port_34898', 'port_34882', 'port_34880', 'port_34874', 'port_34871', 'port_34865', 'port_34991', 'port_35001', 'port_35002', 'port_35045', 'port_35075', 'port_35073', 'port_35055', 'port_35050', 'port_35049', 'port_35046', 'port_35039', 'port_35006', 'port_35038', 'port_35032', 'port_35030', 'port_35020', 'port_35018', 'port_35011', 'port_35405', 'port_35407', 'port_35408', 'port_35419', 'port_35831', 'port_35823', 'port_35811', 'port_35792', 'port_35785', 'port_35784', 'port_35775', 'port_35765', 'port_35743', 'port_35740', 'port_35738', 'port_35735', 'port_35707', 'port_35687', 'port_35686', 'port_35832', 'port_35833', 'port_35835', 'port_35883', 'port_35952', 'port_35950', 'port_35920', 'port_35901', 'port_35890', 'port_35888', 'port_35881', 'port_35836', 'port_35876', 'port_35873', 'port_35869', 'port_35859', 'port_35848', 'port_35844', 'port_35685', 'port_35649', 'port_35640', 'port_35455', 'port_35484', 'port_35473', 'port_35467', 'port_35459', 'port_35458', 'port_35456', 'port_35444', 'port_35491', 'port_35434', 'port_35426', 'port_35425', 'port_35424', 'port_35422', 'port_35420', 'port_35487', 'port_35504', 'port_35632', 'port_35580', 'port_35629', 'port_35624', 'port_35618', 'port_35615', 'port_35598', 'port_35592', 'port_35577', 'port_35508', 'port_35563', 'port_35555', 'port_35549', 'port_35526', 'port_35517', 'port_35509', 'port_65509']\n"
     ]
    }
   ],
   "source": [
    "plot_feature_importance(train_x, train_Y)"
   ]
  },
  {
   "attachments": {},
   "cell_type": "markdown",
   "metadata": {},
   "source": [
    "## TODO"
   ]
  },
  {
   "attachments": {},
   "cell_type": "markdown",
   "metadata": {},
   "source": [
    "- optional: WHOIS query\n",
    "- optional: Try to detect XSS/SQL/code injection"
   ]
  },
  {
   "attachments": {},
   "cell_type": "markdown",
   "metadata": {},
   "source": [
    "### Didn't do"
   ]
  },
  {
   "attachments": {},
   "cell_type": "markdown",
   "metadata": {},
   "source": [
    "- Detect base 64/hex (too hard)\n",
    "- Detect homographs (didn't find any in the dataset)\n",
    "- Detect \"spoofed\" hostnames in other parts of the URL (hard to match, found only one)\n",
    "- Match specific words (admin, login, password...) OR do stemming"
   ]
  }
 ],
 "metadata": {
  "kernelspec": {
   "display_name": "AILab",
   "language": "python",
   "name": "python3"
  },
  "language_info": {
   "codemirror_mode": {
    "name": "ipython",
    "version": 3
   },
   "file_extension": ".py",
   "mimetype": "text/x-python",
   "name": "python",
   "nbconvert_exporter": "python",
   "pygments_lexer": "ipython3",
   "version": "3.9.16"
  },
  "orig_nbformat": 4,
  "vscode": {
   "interpreter": {
    "hash": "3adc6be5e89948f9c624ccf87489a1af98180350a0cd4c8f1cd1ad019fa0f89f"
   }
  }
 },
 "nbformat": 4,
 "nbformat_minor": 2
}
